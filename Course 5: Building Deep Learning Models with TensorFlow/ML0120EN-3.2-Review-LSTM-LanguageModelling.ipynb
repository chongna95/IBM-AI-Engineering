{
 "cells": [
  {
   "cell_type": "markdown",
   "metadata": {},
   "source": [
    "<img src=\"https://cf-courses-data.s3.us.cloud-object-storage.appdomain.cloud/IBMDeveloperSkillsNetwork-DL0120EN-SkillsNetwork/images/IDSN-logo.png\" width=\"300\" alt=\"cognitiveclass.ai logo\">\n",
    "\n",
    "<h1 align=\"center\"><font size=\"5\">RECURRENT NETWORKS and LSTM IN DEEP LEARNING</font></h1>\n"
   ]
  },
  {
   "cell_type": "markdown",
   "metadata": {},
   "source": [
    "Estimated time needed: **30** minutes\n"
   ]
  },
  {
   "cell_type": "markdown",
   "metadata": {},
   "source": [
    "<h2>Applying Recurrent Neural Networks/LSTM for Language Modeling</h2>\n",
    "Hello and welcome to this part. In this notebook, we will go over the topic of Language Modelling, and create a Recurrent Neural Network model based on the Long Short-Term Memory unit to train and benchmark on the Penn Treebank dataset. By the end of this notebook, you should be able to understand how TensorFlow builds and executes a RNN model for Language Modelling.\n"
   ]
  },
  {
   "cell_type": "markdown",
   "metadata": {},
   "source": [
    "<h2>The Objective</h2>\n",
    "By now, you should have an understanding of how Recurrent Networks work -- a specialized model to process sequential data by keeping track of the \"state\" or context. In this notebook, we go over a TensorFlow code snippet for creating a model focused on <b>Language Modelling</b> -- a very relevant task that is the cornerstone of many different linguistic problems such as <b>Speech Recognition, Machine Translation and Image Captioning</b>. For this, we will be using the Penn Treebank dataset, which is an often-used dataset for benchmarking Language Modelling models.\n"
   ]
  },
  {
   "cell_type": "markdown",
   "metadata": {},
   "source": [
    "\n",
    "<h2>Table of Contents</h2>\n",
    "<ol>\n",
    "    <li><a href=\"#language_modelling\">What exactly is Language Modelling?</a></li>\n",
    "    <li><a href=\"#treebank_dataset\">The Penn Treebank dataset</a></li>\n",
    "    <li><a href=\"#word_embedding\">Word Embedding</a></li>\n",
    "    <li><a href=\"#building_lstm_model\">Building the LSTM model for Language Modeling</a></li>\n",
    "    <li><a href=\"#ltsm\">LTSM</a></li>\n",
    "</ol>\n",
    "<p></p>\n",
    "</div>\n",
    "<br>\n"
   ]
  },
  {
   "cell_type": "markdown",
   "metadata": {},
   "source": [
    "--------\n"
   ]
  },
  {
   "cell_type": "markdown",
   "metadata": {},
   "source": [
    "<a id=\"language_modelling\"></a>\n",
    "<h2>What exactly is Language Modelling?</h2>\n",
    "Language Modelling, to put it simply, <b>is the task of assigning probabilities to sequences of words</b>. This means that, given a context of one or a sequence of words in the language the model was trained on, the model should provide the next most probable words or sequence of words that follows from the given sequence of words the sentence. Language Modelling is one of the most important tasks in Natural Language Processing.\n",
    "\n",
    "<img src=\"https://ibm.box.com/shared/static/1d1i5gub6wljby2vani2vzxp0xsph702.png\" width=\"1080\">\n",
    "<center><i>Example of a sentence being predicted</i></center>\n",
    "<br><br>\n",
    "In this example, one can see the predictions for the next word of a sentence, given the context \"This is an\". As you can see, this boils down to a sequential data analysis task -- you are given a word or a sequence of words (the input data), and, given the context (the state), you need to find out what is the next word (the prediction). This kind of analysis is very important for language-related tasks such as <b>Speech Recognition, Machine Translation, Image Captioning, Text Correction</b> and many other very relevant problems. \n",
    "\n",
    "<img src=\"https://ibm.box.com/shared/static/az39idf9ipfdpc5ugifpgxnydelhyf3i.png\" width=\"1080\">\n",
    "<center><i>The above example is a schema of an RNN in execution</i></center>\n",
    "<br><br>\n",
    "As the above image shows, Recurrent Network models fit this problem like a glove. Alongside LSTM and its capacity to maintain the model's state for over one thousand time steps, we have all the tools we need to undertake this problem. The goal for this notebook is to create a model that can reach <b>low levels of perplexity</b> on our desired dataset.\n",
    "\n",
    "For Language Modelling problems, <b>perplexity</b> is the way to gauge efficiency. Perplexity is simply a measure of how well a probabilistic model is able to predict its sample. A higher-level way to explain this would be saying that <b>low perplexity means a higher degree of trust in the predictions the model makes</b>. Therefore, the lower perplexity is, the better.\n"
   ]
  },
  {
   "cell_type": "markdown",
   "metadata": {},
   "source": [
    "<a id=\"treebank_dataset\"></a>\n",
    "<h2>The Penn Treebank dataset</h2>\n",
    "Historically, datasets big enough for Natural Language Processing are hard to come by. This is in part due to the necessity of the sentences to be broken down and tagged with a certain degree of correctness -- or else the models trained on it won't be able to be correct at all. This means that we need a <b>large amount of data, annotated by or at least corrected by humans</b>. This is, of course, not an easy task at all.\n",
    "\n",
    "The Penn Treebank, or PTB for short, is a dataset maintained by the University of Pennsylvania. It is <i>huge</i> -- there are over <b>four million and eight hundred thousand</b> annotated words in it, all corrected by humans. It is composed of many different sources, from abstracts of Department of Energy papers to texts from the Library of America. Since it is verifiably correct and of such a huge size, the Penn Treebank is commonly used as a benchmark dataset for Language Modelling.\n",
    "\n",
    "The dataset is divided in different kinds of annotations, such as Piece-of-Speech, Syntactic and Semantic skeletons. For this example, we will simply use a sample of clean, non-annotated words (with the exception of one tag --<code>&lt;unk&gt;</code>\n",
    ", which is used for rare words such as uncommon proper nouns) for our model. This means that we just want to predict what the next words would be, not what they mean in context or their classes on a given sentence.\n",
    "\n",
    "<center>Example of text from the dataset we are going to use, <b>ptb.train</b></center>\n",
    "<br><br>\n",
    "\n",
    "<div class=\"alert alert-block alert-info\" style=\"margin-top: 20px\">\n",
    "    <center>the percentage of lung cancer deaths among the workers at the west <code>&lt;unk&gt;</code> mass. paper factory appears to be the highest for any asbestos workers studied in western industrialized countries he said \n",
    " the plant which is owned by <code>&lt;unk&gt;</code> & <code>&lt;unk&gt;</code> co. was under contract with <code>&lt;unk&gt;</code> to make the cigarette filters \n",
    " the finding probably will support those who argue that the U.S. should regulate the class of asbestos including <code>&lt;unk&gt;</code> more <code>&lt;unk&gt;</code> than the common kind of asbestos <code>&lt;unk&gt;</code> found in most schools and other buildings dr. <code>&lt;unk&gt;</code> said</center>\n",
    "</div>\n"
   ]
  },
  {
   "cell_type": "markdown",
   "metadata": {},
   "source": [
    "<a id=\"word_embedding\"></a>\n",
    "<h2>Word Embeddings</h2><br/>\n",
    "\n",
    "For better processing, in this example, we will make use of <a href=\"https://www.tensorflow.org/tutorials/word2vec/?utm_medium=Exinfluencer&utm_source=Exinfluencer&utm_content=000026UJ&utm_term=10006555&utm_id=NA-SkillsNetwork-Channel-SkillsNetworkCoursesIBMDeveloperSkillsNetworkDL0120ENSkillsNetwork954-2023-01-01\"><b>word embeddings</b></a>, which is <b>a way of representing sentence structures or words as n-dimensional vectors (where n is a reasonably high number, such as 200 or 500) of real numbers</b>. Basically, we will assign each word a randomly-initialized vector, and input those into the network to be processed. After a number of iterations, these vectors are expected to assume values that help the network to correctly predict what it needs to -- in our case, the probable next word in the sentence. This is shown to be a very effective task in Natural Language Processing, and is a commonplace practice.\n",
    "<br><br>\n",
    "<font size=\"4\"><strong>\n",
    "$$Vec(\"Example\") = [0.02, 0.00, 0.00, 0.92, 0.30, \\ldots]$$\n",
    "</strong></font>\n",
    "<br>\n",
    "Word Embedding tends to group up similarly used words <i>reasonably</i> close together in the vectorial space. For example, if we use T-SNE (a dimensional reduction visualization algorithm) to flatten the dimensions of our vectors into a 2-dimensional space and plot these words in a 2-dimensional space, we might see something like this:\n",
    "\n",
    "<img src=\"https://ibm.box.com/shared/static/bqhc5dg879gcoabzhxra1w8rkg3od1cu.png\" width=\"800\">\n",
    "<center><i>T-SNE Mockup with clusters marked for easier visualization</i></center>\n",
    "<br><br>\n",
    "As you can see, words that are frequently used together, in place of each other, or in the same places as them tend to be grouped together -- being closer together the higher they are correlated. For example, \"None\" is pretty semantically close to \"Zero\", while a phrase that uses \"Italy\", you could probably also fit \"Germany\" in it, with little damage to the sentence structure. The vectorial \"closeness\" for similar words like this is a great indicator of a well-built model.\n",
    "\n",
    "<hr>\n",
    " \n"
   ]
  },
  {
   "cell_type": "markdown",
   "metadata": {},
   "source": [
    "We need to import the necessary modules for our code. We need <b><code>numpy</code></b> and <b><code>tensorflow</code></b>, obviously. Additionally, we can import directly the <b><code>tensorflow.models.rnn</code></b> model, which includes the function for building RNNs, and <b><code>tensorflow.models.rnn.ptb.reader</code></b> which is the helper module for getting the input data from the dataset we just downloaded.\n",
    "\n",
    "If you want to learn more take a look at https://github.com/tensorflow/models/blob/master/tutorials/rnn/ptb/reader.py\n"
   ]
  },
  {
   "cell_type": "code",
   "execution_count": 1,
   "metadata": {
    "tags": []
   },
   "outputs": [
    {
     "name": "stdout",
     "output_type": "stream",
     "text": [
      "Requirement already satisfied: tensorflow==2.9.0 in /home/jupyterlab/conda/envs/python/lib/python3.7/site-packages (2.9.0)\n",
      "Requirement already satisfied: absl-py>=1.0.0 in /home/jupyterlab/conda/envs/python/lib/python3.7/site-packages (from tensorflow==2.9.0) (1.4.0)\n",
      "Requirement already satisfied: astunparse>=1.6.0 in /home/jupyterlab/conda/envs/python/lib/python3.7/site-packages (from tensorflow==2.9.0) (1.6.3)\n",
      "Requirement already satisfied: flatbuffers<2,>=1.12 in /home/jupyterlab/conda/envs/python/lib/python3.7/site-packages (from tensorflow==2.9.0) (1.12)\n",
      "Requirement already satisfied: gast<=0.4.0,>=0.2.1 in /home/jupyterlab/conda/envs/python/lib/python3.7/site-packages (from tensorflow==2.9.0) (0.4.0)\n",
      "Requirement already satisfied: google-pasta>=0.1.1 in /home/jupyterlab/conda/envs/python/lib/python3.7/site-packages (from tensorflow==2.9.0) (0.2.0)\n",
      "Requirement already satisfied: grpcio<2.0,>=1.24.3 in /home/jupyterlab/conda/envs/python/lib/python3.7/site-packages (from tensorflow==2.9.0) (1.48.1)\n",
      "Requirement already satisfied: h5py>=2.9.0 in /home/jupyterlab/conda/envs/python/lib/python3.7/site-packages (from tensorflow==2.9.0) (3.8.0)\n",
      "Requirement already satisfied: keras<2.10.0,>=2.9.0rc0 in /home/jupyterlab/conda/envs/python/lib/python3.7/site-packages (from tensorflow==2.9.0) (2.9.0)\n",
      "Requirement already satisfied: keras-preprocessing>=1.1.1 in /home/jupyterlab/conda/envs/python/lib/python3.7/site-packages (from tensorflow==2.9.0) (1.1.2)\n",
      "Requirement already satisfied: libclang>=13.0.0 in /home/jupyterlab/conda/envs/python/lib/python3.7/site-packages (from tensorflow==2.9.0) (16.0.6)\n",
      "Requirement already satisfied: numpy>=1.20 in /home/jupyterlab/conda/envs/python/lib/python3.7/site-packages (from tensorflow==2.9.0) (1.21.4)\n",
      "Requirement already satisfied: opt-einsum>=2.3.2 in /home/jupyterlab/conda/envs/python/lib/python3.7/site-packages (from tensorflow==2.9.0) (3.3.0)\n",
      "Requirement already satisfied: packaging in /home/jupyterlab/conda/envs/python/lib/python3.7/site-packages (from tensorflow==2.9.0) (23.1)\n",
      "Requirement already satisfied: protobuf>=3.9.2 in /home/jupyterlab/conda/envs/python/lib/python3.7/site-packages (from tensorflow==2.9.0) (3.19.6)\n",
      "Requirement already satisfied: setuptools in /home/jupyterlab/conda/envs/python/lib/python3.7/site-packages (from tensorflow==2.9.0) (67.7.2)\n",
      "Requirement already satisfied: six>=1.12.0 in /home/jupyterlab/conda/envs/python/lib/python3.7/site-packages (from tensorflow==2.9.0) (1.16.0)\n",
      "Requirement already satisfied: tensorboard<2.10,>=2.9 in /home/jupyterlab/conda/envs/python/lib/python3.7/site-packages (from tensorflow==2.9.0) (2.9.1)\n",
      "Requirement already satisfied: tensorflow-io-gcs-filesystem>=0.23.1 in /home/jupyterlab/conda/envs/python/lib/python3.7/site-packages (from tensorflow==2.9.0) (0.32.0)\n",
      "Requirement already satisfied: tensorflow-estimator<2.10.0,>=2.9.0rc0 in /home/jupyterlab/conda/envs/python/lib/python3.7/site-packages (from tensorflow==2.9.0) (2.9.0)\n",
      "Requirement already satisfied: termcolor>=1.1.0 in /home/jupyterlab/conda/envs/python/lib/python3.7/site-packages (from tensorflow==2.9.0) (2.3.0)\n",
      "Requirement already satisfied: typing-extensions>=3.6.6 in /home/jupyterlab/conda/envs/python/lib/python3.7/site-packages (from tensorflow==2.9.0) (4.5.0)\n",
      "Requirement already satisfied: wrapt>=1.11.0 in /home/jupyterlab/conda/envs/python/lib/python3.7/site-packages (from tensorflow==2.9.0) (1.14.1)\n",
      "Requirement already satisfied: wheel<1.0,>=0.23.0 in /home/jupyterlab/conda/envs/python/lib/python3.7/site-packages (from astunparse>=1.6.0->tensorflow==2.9.0) (0.40.0)\n",
      "Requirement already satisfied: google-auth<3,>=1.6.3 in /home/jupyterlab/conda/envs/python/lib/python3.7/site-packages (from tensorboard<2.10,>=2.9->tensorflow==2.9.0) (2.22.0)\n",
      "Requirement already satisfied: google-auth-oauthlib<0.5,>=0.4.1 in /home/jupyterlab/conda/envs/python/lib/python3.7/site-packages (from tensorboard<2.10,>=2.9->tensorflow==2.9.0) (0.4.6)\n",
      "Requirement already satisfied: markdown>=2.6.8 in /home/jupyterlab/conda/envs/python/lib/python3.7/site-packages (from tensorboard<2.10,>=2.9->tensorflow==2.9.0) (3.4.3)\n",
      "Requirement already satisfied: requests<3,>=2.21.0 in /home/jupyterlab/conda/envs/python/lib/python3.7/site-packages (from tensorboard<2.10,>=2.9->tensorflow==2.9.0) (2.29.0)\n",
      "Requirement already satisfied: tensorboard-data-server<0.7.0,>=0.6.0 in /home/jupyterlab/conda/envs/python/lib/python3.7/site-packages (from tensorboard<2.10,>=2.9->tensorflow==2.9.0) (0.6.1)\n",
      "Requirement already satisfied: tensorboard-plugin-wit>=1.6.0 in /home/jupyterlab/conda/envs/python/lib/python3.7/site-packages (from tensorboard<2.10,>=2.9->tensorflow==2.9.0) (1.8.1)\n",
      "Requirement already satisfied: werkzeug>=1.0.1 in /home/jupyterlab/conda/envs/python/lib/python3.7/site-packages (from tensorboard<2.10,>=2.9->tensorflow==2.9.0) (2.2.3)\n",
      "Requirement already satisfied: cachetools<6.0,>=2.0.0 in /home/jupyterlab/conda/envs/python/lib/python3.7/site-packages (from google-auth<3,>=1.6.3->tensorboard<2.10,>=2.9->tensorflow==2.9.0) (5.3.1)\n",
      "Requirement already satisfied: pyasn1-modules>=0.2.1 in /home/jupyterlab/conda/envs/python/lib/python3.7/site-packages (from google-auth<3,>=1.6.3->tensorboard<2.10,>=2.9->tensorflow==2.9.0) (0.3.0)\n",
      "Requirement already satisfied: rsa<5,>=3.1.4 in /home/jupyterlab/conda/envs/python/lib/python3.7/site-packages (from google-auth<3,>=1.6.3->tensorboard<2.10,>=2.9->tensorflow==2.9.0) (4.9)\n",
      "Requirement already satisfied: urllib3<2.0 in /home/jupyterlab/conda/envs/python/lib/python3.7/site-packages (from google-auth<3,>=1.6.3->tensorboard<2.10,>=2.9->tensorflow==2.9.0) (1.26.15)\n",
      "Requirement already satisfied: requests-oauthlib>=0.7.0 in /home/jupyterlab/conda/envs/python/lib/python3.7/site-packages (from google-auth-oauthlib<0.5,>=0.4.1->tensorboard<2.10,>=2.9->tensorflow==2.9.0) (1.3.1)\n",
      "Requirement already satisfied: importlib-metadata>=4.4 in /home/jupyterlab/conda/envs/python/lib/python3.7/site-packages (from markdown>=2.6.8->tensorboard<2.10,>=2.9->tensorflow==2.9.0) (4.11.4)\n",
      "Requirement already satisfied: charset-normalizer<4,>=2 in /home/jupyterlab/conda/envs/python/lib/python3.7/site-packages (from requests<3,>=2.21.0->tensorboard<2.10,>=2.9->tensorflow==2.9.0) (3.1.0)\n",
      "Requirement already satisfied: idna<4,>=2.5 in /home/jupyterlab/conda/envs/python/lib/python3.7/site-packages (from requests<3,>=2.21.0->tensorboard<2.10,>=2.9->tensorflow==2.9.0) (3.4)\n",
      "Requirement already satisfied: certifi>=2017.4.17 in /home/jupyterlab/conda/envs/python/lib/python3.7/site-packages (from requests<3,>=2.21.0->tensorboard<2.10,>=2.9->tensorflow==2.9.0) (2023.5.7)\n",
      "Requirement already satisfied: MarkupSafe>=2.1.1 in /home/jupyterlab/conda/envs/python/lib/python3.7/site-packages (from werkzeug>=1.0.1->tensorboard<2.10,>=2.9->tensorflow==2.9.0) (2.1.1)\n",
      "Requirement already satisfied: zipp>=0.5 in /home/jupyterlab/conda/envs/python/lib/python3.7/site-packages (from importlib-metadata>=4.4->markdown>=2.6.8->tensorboard<2.10,>=2.9->tensorflow==2.9.0) (3.15.0)\n",
      "Requirement already satisfied: pyasn1<0.6.0,>=0.4.6 in /home/jupyterlab/conda/envs/python/lib/python3.7/site-packages (from pyasn1-modules>=0.2.1->google-auth<3,>=1.6.3->tensorboard<2.10,>=2.9->tensorflow==2.9.0) (0.5.0)\n",
      "Requirement already satisfied: oauthlib>=3.0.0 in /home/jupyterlab/conda/envs/python/lib/python3.7/site-packages (from requests-oauthlib>=0.7.0->google-auth-oauthlib<0.5,>=0.4.1->tensorboard<2.10,>=2.9->tensorflow==2.9.0) (3.2.2)\n",
      "Requirement already satisfied: numpy==1.21.4 in /home/jupyterlab/conda/envs/python/lib/python3.7/site-packages (1.21.4)\n"
     ]
    }
   ],
   "source": [
    "!pip install tensorflow==2.9.0\n",
    "!pip install numpy==1.21.4\n"
   ]
  },
  {
   "cell_type": "code",
   "execution_count": 2,
   "metadata": {
    "tags": []
   },
   "outputs": [
    {
     "name": "stderr",
     "output_type": "stream",
     "text": [
      "2023-07-21 07:07:34.643986: I tensorflow/core/util/util.cc:169] oneDNN custom operations are on. You may see slightly different numerical results due to floating-point round-off errors from different computation orders. To turn them off, set the environment variable `TF_ENABLE_ONEDNN_OPTS=0`.\n",
      "2023-07-21 07:07:34.651169: W tensorflow/stream_executor/platform/default/dso_loader.cc:64] Could not load dynamic library 'libcudart.so.11.0'; dlerror: libcudart.so.11.0: cannot open shared object file: No such file or directory\n",
      "2023-07-21 07:07:34.651211: I tensorflow/stream_executor/cuda/cudart_stub.cc:29] Ignore above cudart dlerror if you do not have a GPU set up on your machine.\n"
     ]
    }
   ],
   "source": [
    "import time\n",
    "import numpy as np\n",
    "import tensorflow as tf\n",
    "if not tf.__version__ == '2.9.0':\n",
    "    print(tf.__version__)\n",
    "    raise ValueError('please upgrade to TensorFlow 2.9.0, or restart your Kernel (Kernel->Restart & Clear Output)')"
   ]
  },
  {
   "cell_type": "markdown",
   "metadata": {},
   "source": [
    "IMPORTANT! => Please restart the kernel by clicking on \"Kernel\"->\"Restart and Clear Outout\" and wait until all output disapears. Then your changes are beeing picked up\n"
   ]
  },
  {
   "cell_type": "code",
   "execution_count": 8,
   "metadata": {
    "tags": []
   },
   "outputs": [],
   "source": [
    "!mkdir data\n",
    "!mkdir data/ptb\n",
    "!wget -q -O data/ptb/reader.py https://cf-courses-data.s3.us.cloud-object-storage.appdomain.cloud/IBMDeveloperSkillsNetwork-DL0120EN-SkillsNetwork/labs/Week3/data/ptb/reader.py\n",
    "!cp data/ptb/reader.py .\n",
    "\n"
   ]
  },
  {
   "cell_type": "code",
   "execution_count": 9,
   "metadata": {
    "tags": []
   },
   "outputs": [],
   "source": [
    "# Copyright 2015 The TensorFlow Authors. All Rights Reserved.\n",
    "#\n",
    "# Licensed under the Apache License, Version 2.0 (the \"License\");\n",
    "# you may not use this file except in compliance with the License.\n",
    "# You may obtain a copy of the License at\n",
    "#\n",
    "#     http://www.apache.org/licenses/LICENSE-2.0\n",
    "#\n",
    "# Unless required by applicable law or agreed to in writing, software\n",
    "# distributed under the License is distributed on an \"AS IS\" BASIS,\n",
    "# WITHOUT WARRANTIES OR CONDITIONS OF ANY KIND, either express or implied.\n",
    "# See the License for the specific language governing permissions and\n",
    "# limitations under the License.\n",
    "# ==============================================================================\n",
    "\n",
    "\n",
    "\"\"\"Utilities for parsing PTB text files.\"\"\"\n",
    "from __future__ import absolute_import\n",
    "from __future__ import division\n",
    "from __future__ import print_function\n",
    "\n",
    "import collections\n",
    "import os\n",
    "\n",
    "import numpy as np\n",
    "import tensorflow as tf\n",
    "\n",
    "\n",
    "def _read_words(filename):\n",
    "  with tf.io.gfile.GFile(filename, \"r\") as f:\n",
    "    return f.read().replace(\"\\n\", \"<eos>\").split()\n",
    "\n",
    "\n",
    "def _build_vocab(filename):\n",
    "  data = _read_words(filename)\n",
    "\n",
    "  counter = collections.Counter(data)\n",
    "  count_pairs = sorted(counter.items(), key=lambda x: (-x[1], x[0]))\n",
    "\n",
    "  words, _ = list(zip(*count_pairs))\n",
    "  word_to_id = dict(zip(words, range(len(words))))\n",
    "\n",
    "  return word_to_id\n",
    "\n",
    "\n",
    "def _file_to_word_ids(filename, word_to_id):\n",
    "  data = _read_words(filename)\n",
    "  return [word_to_id[word] for word in data if word in word_to_id]\n",
    "\n",
    "\n",
    "def ptb_raw_data(data_path=None):\n",
    "  \"\"\"Load PTB raw data from data directory \"data_path\".\n",
    "\n",
    "  Reads PTB text files, converts strings to integer ids,\n",
    "  and performs mini-batching of the inputs.\n",
    "\n",
    "  The PTB dataset comes from Tomas Mikolov's webpage:\n",
    "\n",
    "  http://www.fit.vutbr.cz/~imikolov/rnnlm/simple-examples.tgz\n",
    "\n",
    "  Args:\n",
    "    data_path: string path to the directory where simple-examples.tgz has\n",
    "      been extracted.\n",
    "\n",
    "  Returns:\n",
    "    tuple (train_data, valid_data, test_data, vocabulary)\n",
    "    where each of the data objects can be passed to PTBIterator.\n",
    "  \"\"\"\n",
    "\n",
    "  train_path = os.path.join(data_path, \"ptb.train.txt\")\n",
    "  valid_path = os.path.join(data_path, \"ptb.valid.txt\")\n",
    "  test_path = os.path.join(data_path, \"ptb.test.txt\")\n",
    "\n",
    "  word_to_id = _build_vocab(train_path)\n",
    "  train_data = _file_to_word_ids(train_path, word_to_id)\n",
    "  valid_data = _file_to_word_ids(valid_path, word_to_id)\n",
    "  test_data = _file_to_word_ids(test_path, word_to_id)\n",
    "  vocabulary = len(word_to_id)\n",
    "  return train_data, valid_data, test_data, vocabulary, word_to_id\n",
    "\n",
    "\n",
    "def ptb_iterator(raw_data, batch_size, num_steps):\n",
    "  \"\"\"Iterate on the raw PTB data.\n",
    "\n",
    "  This generates batch_size pointers into the raw PTB data, and allows\n",
    "  minibatch iteration along these pointers.\n",
    "\n",
    "  Args:\n",
    "    raw_data: one of the raw data outputs from ptb_raw_data.\n",
    "    batch_size: int, the batch size.\n",
    "    num_steps: int, the number of unrolls.\n",
    "\n",
    "  Yields:\n",
    "    Pairs of the batched data, each a matrix of shape [batch_size, num_steps].\n",
    "    The second element of the tuple is the same data time-shifted to the\n",
    "    right by one.\n",
    "\n",
    "  Raises:\n",
    "    ValueError: if batch_size or num_steps are too high.\n",
    "  \"\"\"\n",
    "  raw_data = np.array(raw_data, dtype=np.int32)\n",
    "\n",
    "  data_len = len(raw_data)\n",
    "  batch_len = data_len // batch_size\n",
    "  data = np.zeros([batch_size, batch_len], dtype=np.int32)\n",
    "  for i in range(batch_size):\n",
    "    data[i] = raw_data[batch_len * i:batch_len * (i + 1)]\n",
    "\n",
    "  epoch_size = (batch_len - 1) // num_steps\n",
    "\n",
    "  if epoch_size == 0:\n",
    "    raise ValueError(\"epoch_size == 0, decrease batch_size or num_steps\")\n",
    "\n",
    "  for i in range(epoch_size):\n",
    "    x = data[:, i*num_steps:(i+1)*num_steps]\n",
    "    y = data[:, i*num_steps+1:(i+1)*num_steps+1]\n",
    "    yield (x, y)"
   ]
  },
  {
   "cell_type": "markdown",
   "metadata": {},
   "source": [
    "<a id=\"building_lstm_model\"></a>\n",
    "<h2>Building the LSTM model for Language Modeling</h2>\n",
    "Now that we know exactly what we are doing, we can start building our model using TensorFlow. The very first thing we need to do is download and extract the <code>simple-examples</code> dataset, which can be done by executing the code cell below.\n"
   ]
  },
  {
   "cell_type": "code",
   "execution_count": 10,
   "metadata": {
    "tags": []
   },
   "outputs": [
    {
     "name": "stdout",
     "output_type": "stream",
     "text": [
      "--2023-07-21 07:09:12--  http://www.fit.vutbr.cz/~imikolov/rnnlm/simple-examples.tgz\n",
      "Resolving www.fit.vutbr.cz (www.fit.vutbr.cz)... 147.229.9.23, 2001:67c:1220:809::93e5:917\n",
      "Connecting to www.fit.vutbr.cz (www.fit.vutbr.cz)|147.229.9.23|:80... connected.\n",
      "HTTP request sent, awaiting response... 200 OK\n",
      "Length: 34869662 (33M) [application/x-gtar]\n",
      "Saving to: ‘simple-examples.tgz.3’\n",
      "\n",
      "simple-examples.tgz 100%[===================>]  33.25M  8.53MB/s    in 3.9s    \n",
      "\n",
      "2023-07-21 07:09:18 (8.53 MB/s) - ‘simple-examples.tgz.3’ saved [34869662/34869662]\n",
      "\n"
     ]
    }
   ],
   "source": [
    "!wget http://www.fit.vutbr.cz/~imikolov/rnnlm/simple-examples.tgz \n",
    "!tar xzf simple-examples.tgz -C data/"
   ]
  },
  {
   "cell_type": "markdown",
   "metadata": {},
   "source": [
    "Additionally, for the sake of making it easy to play around with the model's hyperparameters, we can declare them beforehand. Feel free to change these -- you will see a difference in performance each time you change those!  \n"
   ]
  },
  {
   "cell_type": "code",
   "execution_count": 11,
   "metadata": {
    "tags": []
   },
   "outputs": [],
   "source": [
    "#Initial weight scale\n",
    "init_scale = 0.1\n",
    "#Initial learning rate\n",
    "learning_rate = 1.0\n",
    "#Maximum permissible norm for the gradient (For gradient clipping -- another measure against Exploding Gradients)\n",
    "max_grad_norm = 5\n",
    "#The number of layers in our model\n",
    "num_layers = 2\n",
    "#The total number of recurrence steps, also known as the number of layers when our RNN is \"unfolded\"\n",
    "num_steps = 20\n",
    "#The number of processing units (neurons) in the hidden layers\n",
    "hidden_size_l1 = 256\n",
    "hidden_size_l2 = 128\n",
    "#The maximum number of epochs trained with the initial learning rate\n",
    "max_epoch_decay_lr = 4\n",
    "#The total number of epochs in training\n",
    "max_epoch = 15\n",
    "#The probability for keeping data in the Dropout Layer (This is an optimization, but is outside our scope for this notebook!)\n",
    "#At 1, we ignore the Dropout Layer wrapping.\n",
    "keep_prob = 1\n",
    "#The decay for the learning rate\n",
    "decay = 0.5\n",
    "#The size for each batch of data\n",
    "batch_size = 30\n",
    "#The size of our vocabulary\n",
    "vocab_size = 10000\n",
    "embeding_vector_size= 200\n",
    "#Training flag to separate training from testing\n",
    "is_training = 1\n",
    "#Data directory for our dataset\n",
    "data_dir = \"data/simple-examples/data/\""
   ]
  },
  {
   "cell_type": "markdown",
   "metadata": {},
   "source": [
    "Some clarifications for LSTM architecture based on the arguments:\n",
    "\n",
    "Network structure:\n",
    "<ul>\n",
    "    <li>In this network, the number of LSTM cells are 2. To give the model more expressive power, we can add multiple layers of LSTMs to process the data. The output of the first layer will become the input of the second and so on.\n",
    "    </li>\n",
    "    <li>The recurrence steps is 20, that is, when our RNN is \"Unfolded\", the recurrence step is 20.</li>   \n",
    "    <li>the structure is like:\n",
    "        <ul>\n",
    "            <li>200 input units -> [200x200] Weight -> 200 Hidden units (first layer) -> [200x200] Weight matrix  -> 200 Hidden units (second layer) ->  [200] weight Matrix -> 200 unit output</li>\n",
    "        </ul>\n",
    "    </li>\n",
    "</ul>\n",
    "<br>\n",
    "\n",
    "Input layer: \n",
    "<ul>\n",
    "    <li>The network has 200 input units.</li>\n",
    "    <li>Suppose each word is represented by an embedding vector of dimensionality e=200. The input layer of each cell will have 200 linear units. These e=200 linear units are connected to each of the h=200 LSTM units in the hidden layer (assuming there is only one hidden layer, though our case has 2 layers).\n",
    "    </li>\n",
    "    <li>The input shape is [batch_size, num_steps], that is [30x20]. It will turn into [30x20x200] after embedding, and then 20x[30x200]\n",
    "    </li>\n",
    "</ul>\n",
    "<br>\n",
    "\n",
    "Hidden layer:\n",
    "<ul>\n",
    "    <li>Each LSTM has 200 hidden units which is equivalent to the dimensionality of the embedding words and output.</li>\n",
    "</ul>\n",
    "<br>\n"
   ]
  },
  {
   "cell_type": "markdown",
   "metadata": {},
   "source": [
    "There is a lot to be done and a ton of information to process at the same time, so go over this code slowly. It may seem complex at first, but if you try to apply what you just learned about language modelling to the code you see, you should be able to understand it.\n",
    "\n",
    "This code is adapted from the <a href=\"https://github.com/tensorflow/models\">PTBModel</a> example bundled with the TensorFlow source code.\n",
    "\n",
    "\n",
    "<h3>Training data</h3>\n",
    "The story starts from data:\n",
    "<ul>\n",
    "    <li>Train data is a list of words, of size 929589, represented by numbers, e.g. [9971, 9972, 9974, 9975,...]</li>\n",
    "    <li>We read data as mini-batch of size b=30. Assume the size of each sentence is 20 words (num_steps = 20). Then it will take $$floor(\\frac{N}{b \\times h})+1=1548$$ iterations for the learner to go through all sentences once. Where N is the size of the list of words, b is batch size, and h is size of each sentence. So, the number of iterators is 1548\n",
    "    </li>\n",
    "    <li>Each batch data is read from train dataset of size 600, and shape of [30x20]</li>\n",
    "</ul>\n"
   ]
  },
  {
   "cell_type": "code",
   "execution_count": 12,
   "metadata": {
    "tags": []
   },
   "outputs": [],
   "source": [
    "# Reads the data and separates it into training data, validation data and testing data\n",
    "raw_data = ptb_raw_data(data_dir)\n",
    "train_data, valid_data, test_data, vocab, word_to_id = raw_data"
   ]
  },
  {
   "cell_type": "code",
   "execution_count": 13,
   "metadata": {
    "tags": []
   },
   "outputs": [
    {
     "data": {
      "text/plain": [
       "929589"
      ]
     },
     "execution_count": 13,
     "metadata": {},
     "output_type": "execute_result"
    }
   ],
   "source": [
    "len(train_data)"
   ]
  },
  {
   "cell_type": "code",
   "execution_count": 14,
   "metadata": {
    "tags": []
   },
   "outputs": [
    {
     "name": "stdout",
     "output_type": "stream",
     "text": [
      "['aer', 'banknote', 'berlitz', 'calloway', 'centrust', 'cluett', 'fromstein', 'gitano', 'guterman', 'hydro-quebec', 'ipo', 'kia', 'memotec', 'mlx', 'nahb', 'punts', 'rake', 'regatta', 'rubens', 'sim', 'snack-food', 'ssangyong', 'swapo', 'wachter', '<eos>', 'pierre', '<unk>', 'N', 'years', 'old', 'will', 'join', 'the', 'board', 'as', 'a', 'nonexecutive', 'director', 'nov.', 'N', '<eos>', 'mr.', '<unk>', 'is', 'chairman', 'of', '<unk>', 'n.v.', 'the', 'dutch', 'publishing', 'group', '<eos>', 'rudolph', '<unk>', 'N', 'years', 'old', 'and', 'former', 'chairman', 'of', 'consolidated', 'gold', 'fields', 'plc', 'was', 'named', 'a', 'nonexecutive', 'director', 'of', 'this', 'british', 'industrial', 'conglomerate', '<eos>', 'a', 'form', 'of', 'asbestos', 'once', 'used', 'to', 'make', 'kent', 'cigarette', 'filters', 'has', 'caused', 'a', 'high', 'percentage', 'of', 'cancer', 'deaths', 'among', 'a', 'group', 'of']\n"
     ]
    }
   ],
   "source": [
    "def id_to_word(id_list):\n",
    "    line = []\n",
    "    for w in id_list:\n",
    "        for word, wid in word_to_id.items():\n",
    "            if wid == w:\n",
    "                line.append(word)\n",
    "    return line            \n",
    "                \n",
    "\n",
    "print(id_to_word(train_data[0:100]))"
   ]
  },
  {
   "cell_type": "markdown",
   "metadata": {},
   "source": [
    "Lets just read one mini-batch now and feed our network:\n"
   ]
  },
  {
   "cell_type": "code",
   "execution_count": 15,
   "metadata": {
    "tags": []
   },
   "outputs": [],
   "source": [
    "itera = ptb_iterator(train_data, batch_size, num_steps)\n",
    "first_touple = itera.__next__()\n",
    "_input_data = first_touple[0]\n",
    "_targets = first_touple[1]"
   ]
  },
  {
   "cell_type": "code",
   "execution_count": 16,
   "metadata": {
    "tags": []
   },
   "outputs": [
    {
     "data": {
      "text/plain": [
       "(30, 20)"
      ]
     },
     "execution_count": 16,
     "metadata": {},
     "output_type": "execute_result"
    }
   ],
   "source": [
    "_input_data.shape"
   ]
  },
  {
   "cell_type": "code",
   "execution_count": 17,
   "metadata": {
    "tags": []
   },
   "outputs": [
    {
     "data": {
      "text/plain": [
       "(30, 20)"
      ]
     },
     "execution_count": 17,
     "metadata": {},
     "output_type": "execute_result"
    }
   ],
   "source": [
    "_targets.shape"
   ]
  },
  {
   "cell_type": "markdown",
   "metadata": {},
   "source": [
    "Lets look at 3 sentences of our input x:\n"
   ]
  },
  {
   "cell_type": "code",
   "execution_count": 18,
   "metadata": {},
   "outputs": [
    {
     "data": {
      "text/plain": [
       "array([[9970, 9971, 9972, 9974, 9975, 9976, 9980, 9981, 9982, 9983, 9984,\n",
       "        9986, 9987, 9988, 9989, 9991, 9992, 9993, 9994, 9995],\n",
       "       [2654,    6,  334, 2886,    4,    1,  233,  711,  834,   11,  130,\n",
       "         123,    7,  514,    2,   63,   10,  514,    8,  605],\n",
       "       [   0, 1071,    4,    0,  185,   24,  368,   20,   31, 3109,  954,\n",
       "          12,    3,   21,    2, 2915,    2,   12,    3,   21]],\n",
       "      dtype=int32)"
      ]
     },
     "execution_count": 18,
     "metadata": {},
     "output_type": "execute_result"
    }
   ],
   "source": [
    "_input_data[0:3]"
   ]
  },
  {
   "cell_type": "code",
   "execution_count": 19,
   "metadata": {},
   "outputs": [
    {
     "name": "stdout",
     "output_type": "stream",
     "text": [
      "['aer', 'banknote', 'berlitz', 'calloway', 'centrust', 'cluett', 'fromstein', 'gitano', 'guterman', 'hydro-quebec', 'ipo', 'kia', 'memotec', 'mlx', 'nahb', 'punts', 'rake', 'regatta', 'rubens', 'sim']\n"
     ]
    }
   ],
   "source": [
    "print(id_to_word(_input_data[0,:]))"
   ]
  },
  {
   "cell_type": "markdown",
   "metadata": {},
   "source": [
    "<h3>Embeddings</h3>\n",
    "We have to convert the words in our dataset to vectors of numbers. The traditional approach is to use one-hot encoding method that is usually used for converting categorical values to numerical values. However, One-hot encoded vectors are high-dimensional, sparse and in a big dataset, computationally inefficient. So, we use word2vec approach. It is, in fact, a layer in our LSTM network, where the word IDs will be represented as a dense representation before feeding to the LSTM. \n",
    "\n",
    "The embedded vectors also get updated during the training process of the deep neural network.\n",
    "We create the embeddings for our input data. <b>embedding_vocab</b> is matrix of [10000x200] for all 10000 unique words.\n"
   ]
  },
  {
   "cell_type": "markdown",
   "metadata": {},
   "source": [
    "<b>embedding_lookup()</b> finds the embedded values for our batch of 30x20 words. It  goes to each row of <code>input_data</code>, and for each word in the row/sentence, finds the correspond vector in <code>embedding_dic<code>. <br>\n",
    "It creates a [30x20x200] tensor, so, the first element of <b>inputs</b> (the first sentence), is a matrix of 20x200, which each row of it, is vector representing a word in the sentence.\n"
   ]
  },
  {
   "cell_type": "code",
   "execution_count": 20,
   "metadata": {},
   "outputs": [],
   "source": [
    "embedding_layer = tf.keras.layers.Embedding(vocab_size, embeding_vector_size,batch_input_shape=(batch_size, num_steps),trainable=True,name=\"embedding_vocab\")  "
   ]
  },
  {
   "cell_type": "code",
   "execution_count": 21,
   "metadata": {},
   "outputs": [
    {
     "name": "stderr",
     "output_type": "stream",
     "text": [
      "2023-07-21 07:12:59.956879: W tensorflow/stream_executor/platform/default/dso_loader.cc:64] Could not load dynamic library 'libcuda.so.1'; dlerror: libcuda.so.1: cannot open shared object file: No such file or directory\n",
      "2023-07-21 07:12:59.956944: W tensorflow/stream_executor/cuda/cuda_driver.cc:269] failed call to cuInit: UNKNOWN ERROR (303)\n",
      "2023-07-21 07:12:59.956997: I tensorflow/stream_executor/cuda/cuda_diagnostics.cc:156] kernel driver does not appear to be running on this host (jupyterlab-chongnating): /proc/driver/nvidia/version does not exist\n",
      "2023-07-21 07:12:59.957651: I tensorflow/core/platform/cpu_feature_guard.cc:193] This TensorFlow binary is optimized with oneAPI Deep Neural Network Library (oneDNN) to use the following CPU instructions in performance-critical operations:  AVX2 AVX512F AVX512_VNNI FMA\n",
      "To enable them in other operations, rebuild TensorFlow with the appropriate compiler flags.\n"
     ]
    },
    {
     "data": {
      "text/plain": [
       "<tf.Tensor: shape=(30, 20, 200), dtype=float32, numpy=\n",
       "array([[[-1.99795719e-02, -4.83257174e-02, -4.59831953e-03, ...,\n",
       "          2.73563713e-03, -5.37265465e-03,  4.90616299e-02],\n",
       "        [ 4.98114116e-02,  2.71827914e-02,  2.37138905e-02, ...,\n",
       "         -2.03457233e-02, -4.16542217e-03,  2.67999209e-02],\n",
       "        [-2.42948178e-02, -3.12800035e-02,  4.67039272e-03, ...,\n",
       "         -3.36586386e-02, -3.34818251e-02,  4.31413986e-02],\n",
       "        ...,\n",
       "        [ 4.86862771e-02,  4.55259942e-02, -8.54719430e-04, ...,\n",
       "         -4.06073220e-02,  4.23603542e-02,  1.49077810e-02],\n",
       "        [-3.19170244e-02,  3.45546715e-02, -4.86443639e-02, ...,\n",
       "          4.64954861e-02,  2.86842920e-02, -1.45889632e-02],\n",
       "        [ 4.39167023e-03, -4.35791984e-02, -3.44654322e-02, ...,\n",
       "         -3.93830650e-02, -4.79109883e-02, -9.33777168e-03]],\n",
       "\n",
       "       [[-3.65661271e-02, -3.47244143e-02, -2.55061034e-02, ...,\n",
       "         -1.30721182e-03, -7.52277300e-03, -3.30169685e-02],\n",
       "        [-3.59581113e-02,  1.92874670e-03, -3.02868616e-02, ...,\n",
       "         -4.61259969e-02, -4.62940224e-02,  2.23772638e-02],\n",
       "        [ 8.83102417e-04, -1.20703466e-02,  4.62949015e-02, ...,\n",
       "         -2.90454868e-02,  2.88249888e-02,  2.07672976e-02],\n",
       "        ...,\n",
       "        [-2.00002193e-02,  2.34930590e-03, -2.99481992e-02, ...,\n",
       "         -3.78583074e-02, -2.25960091e-03, -3.45900431e-02],\n",
       "        [-5.50970435e-05,  1.40343346e-02,  1.95708759e-02, ...,\n",
       "         -2.42990497e-02,  2.16934420e-02,  3.74492891e-02],\n",
       "        [-1.76671743e-02, -9.08032805e-03,  3.64300124e-02, ...,\n",
       "          4.22708429e-02, -1.29676349e-02, -3.88574824e-02]],\n",
       "\n",
       "       [[-1.60531998e-02,  9.53156874e-03,  3.89180817e-02, ...,\n",
       "         -3.96535993e-02, -2.83920169e-02, -1.21283047e-02],\n",
       "        [ 3.30398194e-02,  1.46232136e-02,  2.13165991e-02, ...,\n",
       "          4.35509197e-02, -4.76189852e-02,  2.59297527e-02],\n",
       "        [-1.78548805e-02, -3.13651450e-02,  2.97267549e-02, ...,\n",
       "         -4.71524857e-02, -4.46537621e-02,  2.75143646e-02],\n",
       "        ...,\n",
       "        [-3.08190342e-02,  4.48961295e-02, -3.28478701e-02, ...,\n",
       "          1.16200075e-02, -2.04004999e-02, -1.65830366e-02],\n",
       "        [-4.87200990e-02,  1.14495978e-02, -1.43350735e-02, ...,\n",
       "          3.66109051e-02, -1.33557208e-02, -8.53412226e-03],\n",
       "        [ 4.07821573e-02, -1.60428993e-02, -3.89630720e-03, ...,\n",
       "         -4.42661159e-02,  6.29410893e-03,  2.22967938e-03]],\n",
       "\n",
       "       ...,\n",
       "\n",
       "       [[ 2.46289857e-02,  2.18301676e-02, -3.54711190e-02, ...,\n",
       "          3.07953693e-02, -2.62787230e-02,  2.74950005e-02],\n",
       "        [ 2.43650936e-02,  4.08733748e-02,  4.59137671e-02, ...,\n",
       "         -1.42731182e-02, -2.99347527e-02, -2.77511477e-02],\n",
       "        [-4.91233356e-02,  4.55100872e-02,  2.74170525e-02, ...,\n",
       "          4.37890179e-02, -2.97036022e-03,  2.52672322e-02],\n",
       "        ...,\n",
       "        [ 3.82054485e-02, -4.32928689e-02, -5.04124910e-04, ...,\n",
       "         -1.67820342e-02,  4.30610515e-02, -3.33165899e-02],\n",
       "        [-1.78329237e-02, -3.36970463e-02, -3.54108922e-02, ...,\n",
       "         -3.18424255e-02, -1.69776194e-02, -2.59199273e-02],\n",
       "        [ 4.19463404e-02, -4.28130142e-02,  2.82834657e-02, ...,\n",
       "         -3.58098745e-03,  3.34366672e-02, -1.78888664e-02]],\n",
       "\n",
       "       [[ 1.44578144e-03,  1.27123669e-03, -3.48013416e-02, ...,\n",
       "         -2.89282445e-02,  3.32692526e-02, -2.02766787e-02],\n",
       "        [-5.35141677e-04, -4.72386479e-02,  4.70531844e-02, ...,\n",
       "          2.79227160e-02, -4.57856767e-02,  2.53826119e-02],\n",
       "        [-1.78548805e-02, -3.13651450e-02,  2.97267549e-02, ...,\n",
       "         -4.71524857e-02, -4.46537621e-02,  2.75143646e-02],\n",
       "        ...,\n",
       "        [ 3.51436250e-02, -3.59803550e-02,  2.40102671e-02, ...,\n",
       "         -2.96872854e-02,  3.47437523e-02,  2.68398188e-02],\n",
       "        [-3.59581113e-02,  1.92874670e-03, -3.02868616e-02, ...,\n",
       "         -4.61259969e-02, -4.62940224e-02,  2.23772638e-02],\n",
       "        [ 4.21506502e-02,  2.44178660e-02,  4.73987348e-02, ...,\n",
       "          4.91250418e-02,  2.68865749e-03, -4.06486169e-02]],\n",
       "\n",
       "       [[ 8.47844034e-03,  4.74288948e-02, -2.62517855e-03, ...,\n",
       "          1.69829242e-02,  3.66346352e-02,  7.23205879e-03],\n",
       "        [ 1.32959597e-02, -4.17683832e-02, -4.44160774e-03, ...,\n",
       "         -3.33068259e-02,  3.97542864e-03,  1.44240968e-02],\n",
       "        [-4.08666730e-02, -3.41776162e-02,  1.10457093e-03, ...,\n",
       "         -1.13690719e-02,  3.78475897e-02,  4.52127717e-02],\n",
       "        ...,\n",
       "        [ 9.38441604e-03,  3.25071700e-02,  3.01338173e-02, ...,\n",
       "         -1.07221827e-02,  8.30078125e-03,  1.30949058e-02],\n",
       "        [-3.63266841e-02, -2.06642039e-02,  3.36695053e-02, ...,\n",
       "         -3.24542075e-02,  3.04701366e-02,  5.62860817e-03],\n",
       "        [ 2.72788107e-04, -3.52933034e-02, -1.52286999e-02, ...,\n",
       "          3.80101241e-02, -8.36448744e-03, -2.73601171e-02]]],\n",
       "      dtype=float32)>"
      ]
     },
     "execution_count": 21,
     "metadata": {},
     "output_type": "execute_result"
    }
   ],
   "source": [
    "# Define where to get the data for our embeddings from\n",
    "inputs = embedding_layer(_input_data)\n",
    "inputs"
   ]
  },
  {
   "cell_type": "markdown",
   "metadata": {},
   "source": [
    "<h3>Constructing Recurrent Neural Networks</h3>\n"
   ]
  },
  {
   "cell_type": "markdown",
   "metadata": {},
   "source": [
    "In this step, we create the stacked LSTM using <b>tf.keras.layers.StackedRNNCells</b>, which is a 2 layer LSTM network:\n"
   ]
  },
  {
   "cell_type": "code",
   "execution_count": 22,
   "metadata": {},
   "outputs": [],
   "source": [
    "lstm_cell_l1 = tf.keras.layers.LSTMCell(hidden_size_l1)\n",
    "lstm_cell_l2 = tf.keras.layers.LSTMCell(hidden_size_l2)"
   ]
  },
  {
   "cell_type": "code",
   "execution_count": 30,
   "metadata": {
    "tags": []
   },
   "outputs": [
    {
     "data": {
      "text/plain": [
       "(256, 128)"
      ]
     },
     "execution_count": 30,
     "metadata": {},
     "output_type": "execute_result"
    }
   ],
   "source": [
    "hidden_size_l1,hidden_size_l2"
   ]
  },
  {
   "cell_type": "code",
   "execution_count": 23,
   "metadata": {},
   "outputs": [],
   "source": [
    "stacked_lstm = tf.keras.layers.StackedRNNCells([lstm_cell_l1, lstm_cell_l2])"
   ]
  },
  {
   "cell_type": "markdown",
   "metadata": {},
   "source": [
    "<b>tf.keras.layers.RNN</b> creates a recurrent neural network using <b>stacked_lstm</b>. \n",
    "\n",
    "The input should be a Tensor of shape: [batch_size, max_time, embedding_vector_size], in our case it would be (30, 20, 200)\n"
   ]
  },
  {
   "cell_type": "code",
   "execution_count": 24,
   "metadata": {},
   "outputs": [],
   "source": [
    "layer  =  tf.keras.layers.RNN(stacked_lstm,[batch_size, num_steps],return_state=False,stateful=True,trainable=True)"
   ]
  },
  {
   "cell_type": "markdown",
   "metadata": {},
   "source": [
    "Also, we initialize the states of the nework:\n",
    "\n",
    "<h4>_initial_state</h4>\n",
    "\n",
    "For each LSTM, there are 2 state matrices, c\\_state and m\\_state.  c_state and m_state represent \"Memory State\" and \"Cell State\". Each hidden layer, has a vector of size 30, which keeps the states. so, for 200 hidden units in each LSTM, we have a matrix of size [30x200]\n"
   ]
  },
  {
   "cell_type": "code",
   "execution_count": 25,
   "metadata": {},
   "outputs": [],
   "source": [
    "init_state = tf.Variable(tf.zeros([batch_size,embeding_vector_size]),trainable=False)"
   ]
  },
  {
   "cell_type": "code",
   "execution_count": 31,
   "metadata": {
    "tags": []
   },
   "outputs": [
    {
     "data": {
      "text/plain": [
       "200"
      ]
     },
     "execution_count": 31,
     "metadata": {},
     "output_type": "execute_result"
    }
   ],
   "source": [
    "embeding_vector_size"
   ]
  },
  {
   "cell_type": "code",
   "execution_count": 26,
   "metadata": {},
   "outputs": [],
   "source": [
    "layer.inital_state = init_state"
   ]
  },
  {
   "cell_type": "code",
   "execution_count": 27,
   "metadata": {},
   "outputs": [
    {
     "data": {
      "text/plain": [
       "<tf.Variable 'Variable:0' shape=(30, 200) dtype=float32, numpy=\n",
       "array([[0., 0., 0., ..., 0., 0., 0.],\n",
       "       [0., 0., 0., ..., 0., 0., 0.],\n",
       "       [0., 0., 0., ..., 0., 0., 0.],\n",
       "       ...,\n",
       "       [0., 0., 0., ..., 0., 0., 0.],\n",
       "       [0., 0., 0., ..., 0., 0., 0.],\n",
       "       [0., 0., 0., ..., 0., 0., 0.]], dtype=float32)>"
      ]
     },
     "execution_count": 27,
     "metadata": {},
     "output_type": "execute_result"
    }
   ],
   "source": [
    "layer.inital_state"
   ]
  },
  {
   "cell_type": "markdown",
   "metadata": {},
   "source": [
    "so, lets look at the outputs. The output of the stackedLSTM comes from 128 hidden_layer, and in each time step(=20), one of them get activated. we use the linear activation to map the 128 hidden layer to a [30X20 matrix]\n"
   ]
  },
  {
   "cell_type": "code",
   "execution_count": 28,
   "metadata": {},
   "outputs": [],
   "source": [
    "outputs = layer(inputs)"
   ]
  },
  {
   "cell_type": "code",
   "execution_count": 29,
   "metadata": {},
   "outputs": [
    {
     "data": {
      "text/plain": [
       "<tf.Tensor: shape=(30, 20, 128), dtype=float32, numpy=\n",
       "array([[[-6.27847970e-04, -2.93829146e-07,  1.39315135e-03, ...,\n",
       "         -2.53597507e-04, -1.16735103e-03,  6.54578844e-06],\n",
       "        [-4.18578566e-04, -1.68688333e-04,  2.21082172e-03, ...,\n",
       "          6.69931818e-04, -3.99761694e-03, -1.75373827e-03],\n",
       "        [ 3.70059075e-04, -1.72750952e-04,  1.64059491e-03, ...,\n",
       "          2.22742441e-03, -5.62014431e-03, -2.94298306e-03],\n",
       "        ...,\n",
       "        [ 2.46186857e-03,  3.29805561e-03, -8.30733450e-04, ...,\n",
       "         -8.24601017e-03, -1.64295628e-03, -2.95810314e-04],\n",
       "        [ 3.83951119e-03,  2.11214484e-03, -9.09701339e-04, ...,\n",
       "         -6.59393659e-03, -1.02576823e-03,  7.42170669e-04],\n",
       "        [ 5.05407108e-03,  2.54800147e-03, -1.89000659e-03, ...,\n",
       "         -4.98050125e-03, -2.18972884e-04,  1.86419743e-03]],\n",
       "\n",
       "       [[ 5.70318343e-06,  4.87364377e-05,  2.62235146e-04, ...,\n",
       "          1.57247516e-04,  1.31049383e-04, -3.60474623e-05],\n",
       "        [ 6.23811386e-04,  1.70010794e-03,  2.71550554e-04, ...,\n",
       "         -8.63465946e-04, -9.96691640e-04, -1.21634535e-03],\n",
       "        [ 8.19205190e-04,  2.47306190e-03,  2.41015456e-03, ...,\n",
       "         -8.94135388e-04, -1.83865754e-03, -1.17274781e-03],\n",
       "        ...,\n",
       "        [-2.67881411e-03,  8.15859716e-03,  9.88832908e-04, ...,\n",
       "          1.43269275e-03, -1.99549901e-03, -1.88765104e-03],\n",
       "        [-1.29523338e-03,  6.50209421e-03,  1.10709562e-03, ...,\n",
       "          1.83447043e-03, -1.39779993e-03, -2.99328426e-03],\n",
       "        [ 8.36021936e-05,  3.73651786e-03,  6.09628391e-04, ...,\n",
       "          1.63534086e-03, -7.26601167e-04, -3.45331477e-03]],\n",
       "\n",
       "       [[-5.43311879e-04,  6.61872269e-04,  1.03853738e-04, ...,\n",
       "          1.00603607e-03, -6.22938678e-04, -1.45328901e-04],\n",
       "        [ 1.97208807e-04,  2.14602725e-04,  1.49744481e-03, ...,\n",
       "          1.77882670e-04, -4.37644689e-04, -3.18270264e-04],\n",
       "        [-2.87667906e-04, -5.12117229e-04,  2.75961217e-03, ...,\n",
       "         -1.68402586e-03, -8.07042888e-05,  5.91187971e-04],\n",
       "        ...,\n",
       "        [-4.60887980e-03,  2.63597816e-03,  1.23543637e-02, ...,\n",
       "         -2.33993516e-03, -1.20646367e-03, -2.58410641e-04],\n",
       "        [-3.99072096e-03,  3.31663061e-03,  1.33471116e-02, ...,\n",
       "         -1.61593512e-03, -1.95426424e-03,  1.55587259e-04],\n",
       "        [-3.56432726e-03,  2.45693722e-03,  1.32791596e-02, ...,\n",
       "         -1.47059944e-03, -1.27159886e-03,  2.00419570e-03]],\n",
       "\n",
       "       ...,\n",
       "\n",
       "       [[ 3.04908972e-05,  5.97861304e-04,  9.91599169e-04, ...,\n",
       "         -1.18494371e-03,  5.23666095e-04, -5.45591058e-04],\n",
       "        [ 3.84759216e-04,  9.09649418e-04,  1.18888158e-03, ...,\n",
       "         -2.17727688e-03,  1.02533679e-03, -1.52481697e-03],\n",
       "        [ 3.69517133e-04,  1.50324788e-03,  7.45022146e-04, ...,\n",
       "         -3.34921270e-03,  3.13689024e-03, -1.55427749e-03],\n",
       "        ...,\n",
       "        [ 5.16385189e-04,  1.06767158e-03,  1.11172562e-02, ...,\n",
       "         -2.40033283e-03, -1.47704163e-03,  1.00826416e-02],\n",
       "        [-2.24888558e-04,  6.73604431e-04,  1.25099840e-02, ...,\n",
       "         -3.72703979e-03, -2.01701233e-03,  9.79893655e-03],\n",
       "        [ 3.38381156e-04,  2.52333615e-04,  1.25257000e-02, ...,\n",
       "         -2.79629743e-03, -2.61265528e-03,  7.70064909e-03]],\n",
       "\n",
       "       [[ 3.48500907e-04,  7.22209807e-04,  1.17024779e-03, ...,\n",
       "          5.86234266e-04, -4.37426643e-04, -5.34232473e-04],\n",
       "        [ 1.50412973e-03,  5.83186513e-04,  1.51108601e-03, ...,\n",
       "          1.98250753e-03, -1.73420308e-03, -5.60977845e-04],\n",
       "        [ 6.72977592e-04,  4.50206368e-04,  2.42020050e-03, ...,\n",
       "          9.45233332e-04, -1.93114835e-03,  6.67537388e-04],\n",
       "        ...,\n",
       "        [-3.40725132e-03,  1.90570392e-03,  7.50848697e-03, ...,\n",
       "          4.57428349e-03, -3.46224057e-03, -2.45578820e-03],\n",
       "        [-3.20586632e-03,  2.40573753e-03,  6.81558717e-03, ...,\n",
       "          2.77312682e-03, -4.38482175e-03, -3.16598779e-03],\n",
       "        [-1.92142942e-03,  2.61913985e-03,  5.12661040e-03, ...,\n",
       "          2.55310233e-03, -4.39118920e-03, -4.12686076e-03]],\n",
       "\n",
       "       [[ 7.17660063e-04,  2.14622123e-04,  6.03047258e-04, ...,\n",
       "         -2.20052665e-04, -9.74514405e-04,  5.85736358e-04],\n",
       "        [ 9.87804844e-04, -3.92843678e-04,  2.68656830e-03, ...,\n",
       "         -9.49457986e-04, -2.42689368e-03,  1.49238645e-03],\n",
       "        [ 1.33410213e-03, -9.28714697e-04,  3.30429035e-03, ...,\n",
       "         -9.63709434e-04, -2.85727507e-03,  1.80455914e-03],\n",
       "        ...,\n",
       "        [ 7.20999902e-03,  2.99118855e-03, -2.37226649e-03, ...,\n",
       "         -2.13716086e-03, -1.29862921e-02,  2.55913287e-03],\n",
       "        [ 9.00159124e-03,  3.13252350e-03, -1.52732013e-03, ...,\n",
       "         -1.76302064e-03, -1.22682070e-02,  1.41093135e-03],\n",
       "        [ 8.94162338e-03,  3.14147165e-03,  6.88684988e-04, ...,\n",
       "         -1.06616470e-03, -1.18994005e-02,  2.07370403e-03]]],\n",
       "      dtype=float32)>"
      ]
     },
     "execution_count": 29,
     "metadata": {},
     "output_type": "execute_result"
    }
   ],
   "source": [
    "outputs"
   ]
  },
  {
   "cell_type": "markdown",
   "metadata": {},
   "source": [
    "<h2>Dense layer</h2>\n",
    "We now create densely-connected neural network layer that would reshape the outputs tensor from  [30 x 20 x 128] to [30 x 20 x 10000].\n"
   ]
  },
  {
   "cell_type": "code",
   "execution_count": 32,
   "metadata": {},
   "outputs": [],
   "source": [
    "dense = tf.keras.layers.Dense(vocab_size)"
   ]
  },
  {
   "cell_type": "code",
   "execution_count": 33,
   "metadata": {},
   "outputs": [],
   "source": [
    "logits_outputs  = dense(outputs)"
   ]
  },
  {
   "cell_type": "code",
   "execution_count": 34,
   "metadata": {},
   "outputs": [
    {
     "name": "stdout",
     "output_type": "stream",
     "text": [
      "shape of the output from dense layer:  (30, 20, 10000)\n"
     ]
    }
   ],
   "source": [
    "print(\"shape of the output from dense layer: \", logits_outputs.shape) #(batch_size, sequence_length, vocab_size)"
   ]
  },
  {
   "cell_type": "markdown",
   "metadata": {},
   "source": [
    "<h2>Activation layer</h2>\n",
    "\n",
    "\n",
    "A softmax activation layers is also then applied to derive the probability of the output being in any of the multiclass(10000 in this case) possibilities. \n"
   ]
  },
  {
   "cell_type": "code",
   "execution_count": 35,
   "metadata": {},
   "outputs": [],
   "source": [
    "activation = tf.keras.layers.Activation('softmax')"
   ]
  },
  {
   "cell_type": "code",
   "execution_count": 36,
   "metadata": {},
   "outputs": [],
   "source": [
    "output_words_prob = activation(logits_outputs)"
   ]
  },
  {
   "cell_type": "code",
   "execution_count": 37,
   "metadata": {},
   "outputs": [
    {
     "name": "stdout",
     "output_type": "stream",
     "text": [
      "shape of the output from the activation layer:  (30, 20, 10000)\n"
     ]
    }
   ],
   "source": [
    "print(\"shape of the output from the activation layer: \", output_words_prob.shape) #(batch_size, sequence_length, vocab_size)"
   ]
  },
  {
   "cell_type": "markdown",
   "metadata": {},
   "source": [
    "Lets look at the probability of observing words for t=0 to t=20:\n"
   ]
  },
  {
   "cell_type": "code",
   "execution_count": 38,
   "metadata": {},
   "outputs": [
    {
     "name": "stdout",
     "output_type": "stream",
     "text": [
      "The probability of observing words in t=0 to t=20 tf.Tensor(\n",
      "[[9.99819749e-05 1.00012301e-04 1.00028163e-04 ... 9.99832191e-05\n",
      "  9.99998301e-05 1.00013123e-04]\n",
      " [9.99875410e-05 1.00017860e-04 1.00037680e-04 ... 9.99780605e-05\n",
      "  1.00004596e-04 1.00013225e-04]\n",
      " [9.99729309e-05 1.00018879e-04 1.00040139e-04 ... 9.99765107e-05\n",
      "  9.99982658e-05 1.00005956e-04]\n",
      " ...\n",
      " [1.00007564e-04 1.00050289e-04 1.00046840e-04 ... 9.99718395e-05\n",
      "  1.00103221e-04 9.98774776e-05]\n",
      " [9.99918338e-05 1.00062440e-04 1.00045523e-04 ... 9.99923286e-05\n",
      "  1.00107740e-04 9.98888136e-05]\n",
      " [9.99975382e-05 1.00046615e-04 1.00029749e-04 ... 9.99913245e-05\n",
      "  1.00104873e-04 9.98921387e-05]], shape=(20, 10000), dtype=float32)\n"
     ]
    }
   ],
   "source": [
    "print(\"The probability of observing words in t=0 to t=20\", output_words_prob[0,0:num_steps])"
   ]
  },
  {
   "cell_type": "markdown",
   "metadata": {},
   "source": [
    "<h3>Prediction</h3>\n",
    "What is the word correspond to the probability output? Lets use the maximum probability:\n"
   ]
  },
  {
   "cell_type": "code",
   "execution_count": 39,
   "metadata": {},
   "outputs": [
    {
     "data": {
      "text/plain": [
       "array([ 400, 8240,  708, 8841, 8888, 8888, 8619, 2554, 2554, 2554, 2554,\n",
       "       2554, 2554, 2554, 2554, 2554, 6250, 6250, 3706, 3706])"
      ]
     },
     "execution_count": 39,
     "metadata": {},
     "output_type": "execute_result"
    }
   ],
   "source": [
    "np.argmax(output_words_prob[0,0:num_steps], axis=1)"
   ]
  },
  {
   "cell_type": "markdown",
   "metadata": {},
   "source": [
    "So, what is the ground truth for the first word of first sentence? You can get it from target tensor, if you want to find the embedding vector: \n"
   ]
  },
  {
   "cell_type": "code",
   "execution_count": 40,
   "metadata": {},
   "outputs": [
    {
     "data": {
      "text/plain": [
       "array([9971, 9972, 9974, 9975, 9976, 9980, 9981, 9982, 9983, 9984, 9986,\n",
       "       9987, 9988, 9989, 9991, 9992, 9993, 9994, 9995, 9996], dtype=int32)"
      ]
     },
     "execution_count": 40,
     "metadata": {},
     "output_type": "execute_result"
    }
   ],
   "source": [
    "_targets[0]"
   ]
  },
  {
   "cell_type": "markdown",
   "metadata": {},
   "source": [
    "<h4>Objective function</h4>\n",
    "\n",
    "\n",
    "How similar the predicted words are to the target words?\n",
    "\n",
    "\n",
    "Now we have to define our objective function, to calculate the similarity of predicted values to ground truth, and then, penalize the model with the error. Our objective is to minimize loss function, that is, to minimize the average negative log probability of the target words:\n",
    "\n",
    "$$\\text{loss} = -\\frac{1}{N}\\sum_{i=1}^{N} \\ln p_{\\text{target}_i}$$\n",
    "\n",
    "This function is already implemented and available in TensorFlow through *tf.keras.losses.sparse_categorical_crossentropy*. It calculates the categorical cross-entropy loss for <b>logits</b> and the <b>target</b> sequence.  \n",
    "\n",
    "The arguments of this function are:  \n",
    "<ul>\n",
    "    <li>logits: List of 2D Tensors of shape [batch_size x num_decoder_symbols].</li>  \n",
    "    <li>targets: List of 1D batch-sized int32 Tensors of the same length as logits.</li>   \n",
    "</ul>\n"
   ]
  },
  {
   "cell_type": "code",
   "execution_count": 41,
   "metadata": {},
   "outputs": [],
   "source": [
    "def crossentropy(y_true, y_pred):\n",
    "    return tf.keras.losses.sparse_categorical_crossentropy(y_true, y_pred)"
   ]
  },
  {
   "cell_type": "code",
   "execution_count": 42,
   "metadata": {},
   "outputs": [],
   "source": [
    "loss  = crossentropy(_targets, output_words_prob)"
   ]
  },
  {
   "cell_type": "markdown",
   "metadata": {},
   "source": [
    "Lets look at the first 10 values of loss:\n"
   ]
  },
  {
   "cell_type": "code",
   "execution_count": 43,
   "metadata": {},
   "outputs": [
    {
     "data": {
      "text/plain": [
       "<tf.Tensor: shape=(10,), dtype=float32, numpy=\n",
       "array([9.210251, 9.210261, 9.210954, 9.211115, 9.21011 , 9.210271,\n",
       "       9.209854, 9.209682, 9.209496, 9.210472], dtype=float32)>"
      ]
     },
     "execution_count": 43,
     "metadata": {},
     "output_type": "execute_result"
    }
   ],
   "source": [
    "loss[0,:10]"
   ]
  },
  {
   "cell_type": "markdown",
   "metadata": {},
   "source": [
    "Now, we define cost as average of the losses:\n"
   ]
  },
  {
   "cell_type": "code",
   "execution_count": 44,
   "metadata": {},
   "outputs": [
    {
     "data": {
      "text/plain": [
       "<tf.Tensor: shape=(), dtype=float32, numpy=184.20718>"
      ]
     },
     "execution_count": 44,
     "metadata": {},
     "output_type": "execute_result"
    }
   ],
   "source": [
    "cost = tf.reduce_sum(loss / batch_size)\n",
    "cost"
   ]
  },
  {
   "cell_type": "markdown",
   "metadata": {},
   "source": [
    "<h3>Training</h3>\n",
    "\n",
    "To do training for our network, we have to take the following steps:\n",
    "<ol>\n",
    "    <li>Define the optimizer.</li>\n",
    "    <li>Assemble layers to build model.</li>\n",
    "    <li>Calculate the gradients based on the loss function.</li>\n",
    "    <li>Apply the optimizer to the variables/gradients tuple.</li>\n",
    "</ol>\n"
   ]
  },
  {
   "cell_type": "markdown",
   "metadata": {},
   "source": [
    "<h4>1. Define Optimizer</h4>\n",
    "\n"
   ]
  },
  {
   "cell_type": "code",
   "execution_count": 45,
   "metadata": {},
   "outputs": [
    {
     "name": "stderr",
     "output_type": "stream",
     "text": [
      "/home/jupyterlab/conda/envs/python/lib/python3.7/site-packages/keras/optimizers/optimizer_v2/gradient_descent.py:108: UserWarning: The `lr` argument is deprecated, use `learning_rate` instead.\n",
      "  super(SGD, self).__init__(name, **kwargs)\n"
     ]
    }
   ],
   "source": [
    "# Create a variable for the learning rate\n",
    "lr = tf.Variable(0.0, trainable=False)\n",
    "optimizer = tf.keras.optimizers.SGD(lr=lr, clipnorm=max_grad_norm)"
   ]
  },
  {
   "cell_type": "markdown",
   "metadata": {},
   "source": [
    "<h4>2. Assemble layers to build model.</h4>\n"
   ]
  },
  {
   "cell_type": "code",
   "execution_count": 46,
   "metadata": {},
   "outputs": [
    {
     "name": "stdout",
     "output_type": "stream",
     "text": [
      "Model: \"sequential\"\n",
      "_________________________________________________________________\n",
      " Layer (type)                Output Shape              Param #   \n",
      "=================================================================\n",
      " embedding_vocab (Embedding)  (30, 20, 200)            2000000   \n",
      "                                                                 \n",
      " rnn (RNN)                   (30, 20, 128)             671088    \n",
      "                                                                 \n",
      " dense (Dense)               (30, 20, 10000)           1290000   \n",
      "                                                                 \n",
      " activation (Activation)     (30, 20, 10000)           0         \n",
      "                                                                 \n",
      "=================================================================\n",
      "Total params: 3,961,088\n",
      "Trainable params: 3,955,088\n",
      "Non-trainable params: 6,000\n",
      "_________________________________________________________________\n"
     ]
    }
   ],
   "source": [
    "model = tf.keras.Sequential()\n",
    "model.add(embedding_layer)\n",
    "model.add(layer)\n",
    "model.add(dense)\n",
    "model.add(activation)\n",
    "model.compile(loss=crossentropy, optimizer=optimizer)\n",
    "model.summary()"
   ]
  },
  {
   "cell_type": "markdown",
   "metadata": {},
   "source": [
    "\n",
    "<h4>2. Trainable Variables</h4>\n"
   ]
  },
  {
   "cell_type": "markdown",
   "metadata": {},
   "source": [
    "Defining a variable, if you passed <i>trainable=True</i>, the variable constructor automatically adds new variables to the graph collection <b>GraphKeys.TRAINABLE_VARIABLES</b>. Now, using <i>tf.trainable_variables()</i> you can get all variables created with <b>trainable=True</b>.\n"
   ]
  },
  {
   "cell_type": "code",
   "execution_count": 47,
   "metadata": {},
   "outputs": [],
   "source": [
    "# Get all TensorFlow variables marked as \"trainable\" (i.e. all of them except _lr, which we just created)\n",
    "tvars = model.trainable_variables"
   ]
  },
  {
   "cell_type": "markdown",
   "metadata": {},
   "source": [
    "Note: we can find the name and scope of all variables:\n"
   ]
  },
  {
   "cell_type": "code",
   "execution_count": 48,
   "metadata": {},
   "outputs": [
    {
     "data": {
      "text/plain": [
       "['embedding_vocab/embeddings:0',\n",
       " 'rnn/stacked_rnn_cells/lstm_cell/kernel:0',\n",
       " 'rnn/stacked_rnn_cells/lstm_cell/recurrent_kernel:0',\n",
       " 'rnn/stacked_rnn_cells/lstm_cell/bias:0',\n",
       " 'rnn/stacked_rnn_cells/lstm_cell_1/kernel:0',\n",
       " 'rnn/stacked_rnn_cells/lstm_cell_1/recurrent_kernel:0',\n",
       " 'rnn/stacked_rnn_cells/lstm_cell_1/bias:0',\n",
       " 'dense/kernel:0',\n",
       " 'dense/bias:0']"
      ]
     },
     "execution_count": 48,
     "metadata": {},
     "output_type": "execute_result"
    }
   ],
   "source": [
    "[v.name for v in tvars] "
   ]
  },
  {
   "cell_type": "markdown",
   "metadata": {},
   "source": [
    "<h4>3. Calculate the gradients based on the loss function</h4>\n"
   ]
  },
  {
   "cell_type": "markdown",
   "metadata": {},
   "source": [
    "**Gradient**: The gradient of a function is the slope of its derivative (line), or in other words, the rate of change of a function. It's a vector (a direction to move) that points in the direction of greatest increase of the function, and calculated by the <b>derivative</b> operation.\n"
   ]
  },
  {
   "cell_type": "markdown",
   "metadata": {},
   "source": [
    "First lets recall the gradient function using an toy example:\n",
    "$$ z = \\left(2x^2 + 3xy\\right)$$\n"
   ]
  },
  {
   "cell_type": "code",
   "execution_count": 49,
   "metadata": {},
   "outputs": [],
   "source": [
    "x = tf.constant(1.0)\n",
    "y =  tf.constant(2.0)\n",
    "with tf.GradientTape(persistent=True) as g:\n",
    "    g.watch(x)\n",
    "    g.watch(y)\n",
    "    func_test = 2 * x * x + 3 * x * y"
   ]
  },
  {
   "cell_type": "markdown",
   "metadata": {},
   "source": [
    "The <b>tf.gradients()</b> function allows you to compute the symbolic gradient of one tensor with respect to one or more other tensors—including variables. <b>tf.gradients(func, xs)</b> constructs symbolic partial derivatives of sum of <b>func</b> w.r.t. <i>x</i> in <b>xs</b>. \n",
    "\n",
    "Now, lets look at the derivitive w.r.t. <b>var_x</b>:\n",
    "$$ \\frac{\\partial \\:}{\\partial \\:x}\\left(2x^2 + 3xy\\right) = 4x + 3y $$\n"
   ]
  },
  {
   "cell_type": "code",
   "execution_count": 50,
   "metadata": {},
   "outputs": [
    {
     "name": "stdout",
     "output_type": "stream",
     "text": [
      "tf.Tensor(10.0, shape=(), dtype=float32)\n"
     ]
    }
   ],
   "source": [
    "var_grad = g.gradient(func_test, x) # Will compute to 10.0\n",
    "print(var_grad)"
   ]
  },
  {
   "cell_type": "markdown",
   "metadata": {},
   "source": [
    "the derivative w.r.t. <b>var_y</b>:\n",
    "$$ \\frac{\\partial \\:}{\\partial \\:y}\\left(2x^2 + 3xy\\right) = 3x $$\n"
   ]
  },
  {
   "cell_type": "code",
   "execution_count": 51,
   "metadata": {},
   "outputs": [
    {
     "name": "stdout",
     "output_type": "stream",
     "text": [
      "tf.Tensor(3.0, shape=(), dtype=float32)\n"
     ]
    }
   ],
   "source": [
    "var_grad = g.gradient(func_test, y) # Will compute to 3.0\n",
    "print(var_grad)"
   ]
  },
  {
   "cell_type": "markdown",
   "metadata": {},
   "source": [
    "Now, we can look at gradients w.r.t all variables:\n"
   ]
  },
  {
   "cell_type": "code",
   "execution_count": 52,
   "metadata": {},
   "outputs": [],
   "source": [
    "with tf.GradientTape() as tape:\n",
    "    # Forward pass.\n",
    "    output_words_prob = model(_input_data)\n",
    "    # Loss value for this batch.\n",
    "    loss  = crossentropy(_targets, output_words_prob)\n",
    "    cost = tf.reduce_sum(loss,axis=0) / batch_size"
   ]
  },
  {
   "cell_type": "code",
   "execution_count": 53,
   "metadata": {},
   "outputs": [],
   "source": [
    "# Get gradients of loss wrt the trainable variables.\n",
    "grad_t_list = tape.gradient(cost, tvars)"
   ]
  },
  {
   "cell_type": "code",
   "execution_count": 54,
   "metadata": {},
   "outputs": [
    {
     "name": "stdout",
     "output_type": "stream",
     "text": [
      "[<tensorflow.python.framework.indexed_slices.IndexedSlices object at 0x7f23a9d5bb90>, <tf.Tensor: shape=(200, 1024), dtype=float32, numpy=\n",
      "array([[ 1.65338861e-07, -4.13066658e-07, -3.09300162e-07, ...,\n",
      "        -7.42311812e-08, -7.56278951e-09, -1.99179624e-08],\n",
      "       [-3.00875229e-07, -3.04654662e-07, -3.85064538e-07, ...,\n",
      "        -6.82909658e-08,  9.87261615e-07, -2.65400615e-07],\n",
      "       [ 1.05014486e-07,  1.57211844e-07, -3.29693904e-07, ...,\n",
      "         5.57848487e-08, -4.26988208e-07,  1.24425839e-07],\n",
      "       ...,\n",
      "       [-9.15844112e-09, -4.20301973e-07, -1.91375136e-07, ...,\n",
      "         2.45123886e-08,  7.72639567e-07,  2.81772117e-07],\n",
      "       [ 1.57080564e-07, -2.58075517e-07, -3.37556543e-08, ...,\n",
      "         1.79040995e-07,  5.58612669e-07, -1.90361931e-07],\n",
      "       [-2.73349201e-08,  5.75968897e-07, -4.86407885e-07, ...,\n",
      "        -2.56314792e-07,  1.77289735e-07, -1.95406415e-07]], dtype=float32)>, <tf.Tensor: shape=(256, 1024), dtype=float32, numpy=\n",
      "array([[ 1.16696938e-07, -2.02552542e-07, -2.33278374e-08, ...,\n",
      "         1.00050158e-07, -1.02560378e-08, -9.09087277e-08],\n",
      "       [ 5.87048028e-08, -2.49352468e-07, -2.66302436e-07, ...,\n",
      "        -9.42076639e-09,  1.80403276e-07,  1.31093685e-07],\n",
      "       [ 2.42819844e-08,  1.08089857e-07,  1.54862718e-08, ...,\n",
      "        -2.53232741e-08, -1.48668263e-07,  1.35760985e-08],\n",
      "       ...,\n",
      "       [-5.98143970e-08,  6.72249030e-08,  7.00028551e-08, ...,\n",
      "        -1.77318341e-07, -5.73830938e-08,  1.06842649e-07],\n",
      "       [ 1.18453876e-07,  1.76999322e-08,  3.04601201e-07, ...,\n",
      "         3.76856164e-08, -4.01615750e-07,  6.18097573e-08],\n",
      "       [-9.04053152e-08, -1.62477235e-07, -1.17717605e-08, ...,\n",
      "         3.21017311e-08, -1.22295489e-07,  5.30917418e-07]], dtype=float32)>, <tf.Tensor: shape=(1024,), dtype=float32, numpy=\n",
      "array([-1.6742542e-05,  2.4101213e-05,  3.0782488e-05, ...,\n",
      "       -1.4359705e-06, -3.0250805e-05, -6.9134330e-08], dtype=float32)>, <tf.Tensor: shape=(256, 512), dtype=float32, numpy=\n",
      "array([[-7.7615123e-09,  1.0321098e-07, -2.7159228e-08, ...,\n",
      "         1.7382229e-07, -1.9721233e-07, -2.9322894e-07],\n",
      "       [-1.6030668e-07,  2.5383162e-08, -1.2156855e-07, ...,\n",
      "        -3.1191982e-07, -6.5722162e-08, -5.0878316e-07],\n",
      "       [-4.6276796e-08, -1.0685926e-07,  1.0614766e-07, ...,\n",
      "        -4.6474668e-08, -2.2744686e-07,  5.1397205e-07],\n",
      "       ...,\n",
      "       [ 2.7687694e-08,  1.2235787e-07, -8.7987800e-08, ...,\n",
      "         2.7006669e-07,  3.5095314e-07,  3.9651462e-07],\n",
      "       [ 1.4132124e-07, -1.3211517e-08,  1.1720431e-08, ...,\n",
      "         1.3717212e-07, -8.3778593e-07,  4.6605811e-07],\n",
      "       [ 7.6246124e-08, -1.0779395e-08, -1.6520345e-07, ...,\n",
      "         2.4320158e-07,  2.1863590e-07,  8.3215653e-08]], dtype=float32)>, <tf.Tensor: shape=(128, 512), dtype=float32, numpy=\n",
      "array([[-8.67829897e-08, -8.22697785e-08, -1.88954203e-08, ...,\n",
      "        -1.58900434e-07,  1.07837153e-07, -1.01680392e-07],\n",
      "       [-3.66625521e-08,  8.00675508e-08,  2.25074871e-07, ...,\n",
      "         4.06290468e-09, -9.52179562e-08,  2.07262445e-07],\n",
      "       [ 1.33765532e-08,  8.59375415e-09, -5.38932454e-10, ...,\n",
      "         8.23647355e-08, -3.04879904e-07,  1.48386249e-07],\n",
      "       ...,\n",
      "       [-4.25648992e-08, -1.05535669e-07,  1.06793081e-08, ...,\n",
      "        -3.59370745e-07,  1.28229605e-08, -1.35854378e-07],\n",
      "       [ 1.71172658e-08,  7.81743239e-08, -1.19275967e-08, ...,\n",
      "        -2.61081368e-07,  9.12993016e-07, -4.00658990e-07],\n",
      "       [-7.99762390e-08,  1.13148868e-09, -7.64169314e-08, ...,\n",
      "         7.77064102e-08,  1.38170876e-07, -3.08610367e-07]], dtype=float32)>, <tf.Tensor: shape=(512,), dtype=float32, numpy=\n",
      "array([ 2.20717484e-05, -1.56942369e-05,  1.15579196e-05, -1.26204777e-05,\n",
      "       -1.96775782e-05, -3.38462160e-05, -3.12048614e-05,  5.00877359e-05,\n",
      "        2.00551785e-05,  6.36487384e-05,  9.55175210e-07,  2.05080541e-05,\n",
      "        5.06195211e-05, -1.48432036e-05,  1.16471338e-05, -4.05606552e-05,\n",
      "        2.72973175e-05,  4.57072965e-05,  2.25698714e-05, -6.87847205e-05,\n",
      "        3.97086696e-05,  6.37686317e-05,  6.12992008e-05, -1.69931354e-06,\n",
      "       -1.12692878e-05, -2.77522104e-05, -1.32188306e-05,  3.68215769e-05,\n",
      "       -2.96486978e-05,  1.24125054e-05, -1.50252035e-05, -1.66583905e-05,\n",
      "        5.32800223e-05,  2.61585137e-05, -9.09114460e-05,  1.69230043e-05,\n",
      "        4.22334124e-05,  1.94924723e-06,  5.45027342e-06, -5.32321028e-05,\n",
      "        4.37715062e-06, -1.42197305e-05, -2.79618780e-06, -5.40577230e-06,\n",
      "       -7.33856314e-06,  2.28608569e-05,  3.71380338e-05,  1.29673344e-05,\n",
      "       -4.07963307e-06,  2.32425759e-06,  2.83213212e-05, -3.31118063e-05,\n",
      "        7.98612564e-06, -3.49824077e-05, -3.31777119e-05, -3.17636732e-05,\n",
      "        2.14321262e-05, -7.51116022e-06,  6.96994630e-06,  5.75917511e-05,\n",
      "        2.25639087e-05,  1.42242934e-05,  1.66910322e-05, -3.90314563e-06,\n",
      "        1.65857819e-06,  3.27360249e-05,  4.94012238e-05,  1.85681529e-05,\n",
      "        3.33675234e-06, -1.76840786e-05, -5.09819756e-06,  3.55274569e-05,\n",
      "        8.13579391e-05, -6.05055466e-05,  3.71274382e-07, -7.41853000e-06,\n",
      "        4.17943302e-05, -6.09871604e-05, -3.31697738e-05, -1.02540680e-05,\n",
      "        2.04025309e-06, -2.62648246e-05,  1.64232260e-05, -3.35408458e-06,\n",
      "       -2.35937659e-05,  1.18885819e-05, -1.30246817e-05,  1.14557970e-05,\n",
      "        1.12629568e-05,  1.11887612e-05, -3.03209781e-05, -4.53407520e-05,\n",
      "       -1.52465645e-05,  1.71256943e-05,  8.28774864e-05,  4.92149702e-05,\n",
      "        7.34284095e-06, -1.50698670e-05, -2.68473395e-05, -4.89744343e-05,\n",
      "       -1.49435982e-05, -7.91661751e-06, -1.95837463e-04, -5.33828206e-05,\n",
      "        1.21388312e-05,  7.15734177e-06, -2.34941836e-05,  5.13595369e-05,\n",
      "        3.45147964e-05, -1.52051753e-05,  9.37730692e-06, -3.26293084e-05,\n",
      "       -1.95808980e-06, -3.05028734e-05, -5.36428888e-06, -5.25398646e-05,\n",
      "        1.29926175e-05, -3.41073974e-05,  2.93301346e-05,  2.45756382e-06,\n",
      "       -3.58357502e-05,  2.99400272e-05,  3.49979564e-06,  7.46021615e-05,\n",
      "        1.07807791e-05,  4.32094967e-05, -6.60353035e-05,  7.07598010e-05,\n",
      "        4.79120208e-05, -1.56318811e-06,  3.70913949e-05, -2.98616305e-06,\n",
      "       -2.56608182e-05, -2.79926553e-05, -3.71960778e-05,  5.50770128e-05,\n",
      "        5.11135659e-05,  5.96735044e-05, -3.13211858e-05,  5.23256967e-05,\n",
      "        7.00409291e-05, -1.27707744e-05,  5.09296751e-06, -4.23612146e-05,\n",
      "        3.15625257e-05,  5.39438479e-05,  2.27615456e-05, -9.16559366e-05,\n",
      "        1.80729221e-05,  1.00253324e-04,  8.92381504e-05,  1.49571824e-05,\n",
      "       -3.65422275e-05, -3.12611082e-05, -1.52467364e-05,  5.74426704e-05,\n",
      "       -5.07875848e-05,  1.44052556e-05, -1.00135767e-05, -3.30479961e-05,\n",
      "        5.82547327e-05,  5.08984158e-06, -1.07010455e-04,  3.26877198e-05,\n",
      "        3.10653886e-05, -2.68470239e-06,  5.58468082e-06, -6.13334705e-05,\n",
      "        1.34947441e-05, -2.12928662e-05, -1.03878247e-05, -3.38445134e-05,\n",
      "       -2.10067810e-06, -4.98139389e-06,  5.21509428e-05,  2.47028584e-05,\n",
      "       -1.68094102e-05,  2.09052996e-06,  3.77568686e-05, -3.00097145e-05,\n",
      "        4.97361498e-06, -2.71659828e-05, -5.80965534e-05, -3.70825219e-05,\n",
      "        6.11985661e-06, -1.50016740e-05,  2.17980050e-05,  7.69917096e-05,\n",
      "        1.59773808e-05,  2.11986444e-05,  8.64123103e-06, -6.42174018e-06,\n",
      "       -8.22867332e-06,  4.10289722e-05,  7.59632385e-05, -4.89340118e-06,\n",
      "       -1.61155040e-05, -2.77616964e-05, -1.25706629e-06,  8.14450686e-06,\n",
      "        1.05372877e-04, -8.20049318e-05,  3.22129472e-06, -2.72352845e-05,\n",
      "        5.69934855e-05, -1.17792079e-04, -2.92059963e-06,  3.01637738e-06,\n",
      "       -1.02447166e-05, -6.12913791e-05,  5.58981192e-05,  5.79363450e-06,\n",
      "       -1.21404628e-05,  7.44828958e-06, -1.71834472e-05,  2.95348364e-05,\n",
      "        2.57640386e-06, -3.06932925e-05, -3.30974472e-05, -3.81215941e-05,\n",
      "       -4.17167139e-05,  8.75579644e-07,  1.28110143e-04,  9.29163725e-05,\n",
      "       -2.96887129e-06, -2.62082885e-05, -2.10245271e-05, -5.49370161e-05,\n",
      "       -2.12108407e-05,  1.41736891e-05, -2.69216951e-04, -8.36095569e-05,\n",
      "       -3.53450503e-07,  8.32434034e-06, -2.49159530e-06,  4.39842224e-05,\n",
      "        5.31585029e-05, -1.73386379e-05,  8.80878724e-06, -4.03327285e-05,\n",
      "       -1.62706856e-05, -2.12276354e-05,  5.47331547e-06, -5.85525486e-05,\n",
      "        1.33261456e-05, -5.56062769e-05,  6.15097670e-05, -7.10319000e-06,\n",
      "       -6.96386269e-05,  4.72729735e-05,  2.76000555e-05,  8.99854349e-05,\n",
      "        2.11731058e-05,  4.97040019e-05, -9.92318528e-05,  1.05352810e-04,\n",
      "       -5.64249512e-03,  1.52860507e-02,  8.99833161e-04,  4.11632359e-02,\n",
      "       -5.00634592e-03,  2.78444011e-02,  2.14442872e-02, -2.87976451e-02,\n",
      "        1.72836911e-02,  9.35952831e-03, -2.72409301e-02,  1.33892028e-02,\n",
      "       -2.43875980e-02,  5.34512859e-04,  1.79196354e-02,  1.54975243e-02,\n",
      "        1.27373617e-02,  2.27713976e-02,  4.52630483e-02, -2.16820277e-03,\n",
      "        1.20306890e-02, -8.03267024e-03, -1.64168701e-02,  4.30450514e-02,\n",
      "       -1.81544665e-02, -1.00794304e-02, -1.20121185e-02,  2.61915140e-02,\n",
      "        2.46877000e-02, -1.40309632e-02, -1.08021069e-02, -2.85111833e-02,\n",
      "        2.15280354e-02, -6.12622127e-03,  2.12268159e-02, -6.64180750e-03,\n",
      "       -2.77129430e-02, -1.77851375e-02,  4.05811425e-03, -1.10593913e-02,\n",
      "        3.31537686e-02,  1.86193883e-02, -9.73754004e-03, -6.19972087e-02,\n",
      "       -3.64950951e-03,  1.96181075e-03, -7.80234411e-02,  3.61441001e-02,\n",
      "       -5.18294703e-03, -4.13166136e-02,  1.34247290e-02, -2.83887051e-02,\n",
      "        3.31454910e-04, -5.56381643e-02,  1.69644896e-02,  1.90915726e-02,\n",
      "        4.60753813e-02, -4.05840650e-02,  8.74552038e-03,  4.55047488e-02,\n",
      "        4.55251262e-02, -1.36315394e-02, -1.00890044e-02,  1.29831582e-03,\n",
      "       -1.05140125e-02, -7.99233466e-03, -1.68740551e-03,  2.86575649e-02,\n",
      "        1.99537929e-02, -7.44362082e-03, -1.56217013e-02, -2.51588169e-02,\n",
      "        1.89945661e-02, -5.20273000e-02, -9.92834102e-03,  1.12075778e-03,\n",
      "        2.18902808e-02, -4.21434008e-02,  3.49098593e-02,  1.37033341e-02,\n",
      "        4.31278627e-03,  3.82197052e-02,  5.69096282e-02, -4.48485510e-03,\n",
      "       -2.64268555e-02, -3.39701027e-02, -2.35317200e-02, -2.51978617e-02,\n",
      "        1.08966399e-02,  8.68466683e-03, -2.75135897e-02,  1.53498482e-02,\n",
      "       -8.95421486e-03,  1.39436349e-02,  3.03240679e-02,  2.04400755e-02,\n",
      "        1.37829036e-03, -6.35994449e-02,  9.25299246e-05, -8.24286602e-03,\n",
      "       -2.69894116e-02,  2.81402916e-02, -7.93685764e-02,  4.82834205e-02,\n",
      "       -3.38947736e-02, -3.00057344e-02, -2.59996839e-02, -6.25154674e-02,\n",
      "        4.76320786e-03,  2.03512199e-02, -3.20323110e-02,  2.23334916e-02,\n",
      "        2.03211233e-02,  2.36115661e-02,  2.65004090e-03, -1.47090126e-02,\n",
      "       -4.80349222e-03, -1.23662222e-02, -2.70451158e-02, -2.64869444e-02,\n",
      "        1.14234798e-02, -2.37805843e-02, -7.18380441e-04,  2.09374223e-02,\n",
      "       -4.27577570e-02, -4.03581485e-02,  5.15882522e-02, -7.89416488e-03,\n",
      "        2.90337848e-05, -1.75873101e-05,  2.27729979e-05, -1.26001942e-05,\n",
      "       -1.86152392e-05, -3.42640378e-05, -3.95334246e-05,  4.05944520e-05,\n",
      "        2.69683223e-05,  6.62981474e-05, -1.14982140e-06,  2.19966332e-05,\n",
      "        5.76919374e-05, -2.00857321e-05,  5.37036613e-06, -4.67634236e-05,\n",
      "        2.50501253e-05,  4.77360918e-05,  2.35120824e-05, -7.81280978e-05,\n",
      "        4.01143807e-05,  6.22675652e-05,  8.30642457e-05, -3.59308251e-06,\n",
      "       -1.31561792e-05, -3.04413443e-05, -1.36291919e-05,  4.22209378e-05,\n",
      "       -2.63277434e-05,  1.21650055e-05, -1.67523121e-05, -2.30365185e-05,\n",
      "        6.66941778e-05,  1.93282176e-05, -9.72706548e-05,  1.37709130e-05,\n",
      "        4.77865433e-05, -6.44132069e-06,  7.90208833e-06, -6.33396994e-05,\n",
      "        3.68965789e-06, -5.90291893e-06, -3.26947247e-06, -1.97876416e-05,\n",
      "       -1.84787168e-05,  2.34731815e-05,  3.19473547e-05,  1.90432183e-05,\n",
      "       -3.21915786e-06,  6.95585186e-06,  2.62479625e-05, -3.77496362e-05,\n",
      "        6.88159071e-06, -3.13280834e-05, -3.36669036e-05, -3.72597351e-05,\n",
      "        2.60046381e-05, -1.44350633e-05,  9.91404249e-06,  5.92867473e-05,\n",
      "        3.99392957e-05,  1.17660238e-05,  1.57357099e-05, -1.39068106e-06,\n",
      "       -4.96460598e-06,  2.76023420e-05,  4.60148804e-05,  1.68141141e-05,\n",
      "       -4.07089829e-07, -2.01312723e-05, -1.57812974e-06,  3.66827153e-05,\n",
      "        8.82282111e-05, -7.09726301e-05,  6.52898689e-06, -9.42646875e-06,\n",
      "        4.50664083e-05, -6.84183178e-05, -3.23480235e-05, -6.44653619e-06,\n",
      "       -5.00858732e-08, -3.06688744e-05,  1.90172941e-05, -6.45535192e-06,\n",
      "       -1.88750855e-05,  1.85859626e-05, -1.81743635e-05,  2.68047697e-05,\n",
      "        1.22023594e-05, -3.18001867e-06, -2.82379988e-05, -5.19717869e-05,\n",
      "       -8.93143624e-06,  1.14451250e-05,  9.61315964e-05,  4.96707107e-05,\n",
      "       -6.03097305e-06, -1.16495512e-05, -1.72082000e-05, -5.51017729e-05,\n",
      "       -1.49477755e-05, -9.19457307e-07, -2.22625036e-04, -6.45707623e-05,\n",
      "        1.14282439e-05,  1.89811490e-05, -1.30046110e-05,  5.77408136e-05,\n",
      "        5.43970964e-05, -1.10526344e-05, -6.08407845e-06, -3.02073713e-05,\n",
      "        1.55910175e-06, -2.44750372e-05, -3.85194107e-06, -6.73684990e-05,\n",
      "        7.36179254e-06, -3.82066464e-05,  3.72304785e-05, -5.73340549e-06,\n",
      "       -5.16838263e-05,  2.29365105e-05,  5.28634155e-06,  9.13043041e-05,\n",
      "        5.31809928e-06,  3.68373003e-05, -7.42337870e-05,  9.00756859e-05],\n",
      "      dtype=float32)>, <tf.Tensor: shape=(128, 10000), dtype=float32, numpy=\n",
      "array([[ 2.6837754e-04,  1.3039083e-03,  1.6884980e-04, ...,\n",
      "        -4.5564255e-07, -4.5476091e-07, -4.5516657e-07],\n",
      "       [-1.0598287e-03, -9.4624719e-04, -6.0156867e-04, ...,\n",
      "         2.8323475e-06,  2.8351760e-06,  2.8317286e-06],\n",
      "       [-1.3902048e-03, -1.9460385e-03, -2.2934480e-03, ...,\n",
      "         5.3919202e-06,  5.3971876e-06,  5.3905719e-06],\n",
      "       ...,\n",
      "       [ 1.1747505e-03,  1.5673210e-03,  8.7588152e-05, ...,\n",
      "        -2.1536898e-06, -2.1570390e-06, -2.1520361e-06],\n",
      "       [ 2.5687716e-03,  4.3139742e-03,  2.9584349e-03, ...,\n",
      "        -6.1962191e-06, -6.1994024e-06, -6.1931564e-06],\n",
      "       [ 2.3795245e-03,  2.6345081e-03,  1.2313087e-03, ...,\n",
      "        -2.0229381e-06, -2.0189227e-06, -2.0207610e-06]], dtype=float32)>, <tf.Tensor: shape=(10000,), dtype=float32, numpy=\n",
      "array([-0.7979981 , -1.0313315 , -1.0313314 , ...,  0.00200017,\n",
      "        0.00200106,  0.00199912], dtype=float32)>]\n"
     ]
    }
   ],
   "source": [
    "print(grad_t_list)"
   ]
  },
  {
   "cell_type": "markdown",
   "metadata": {},
   "source": [
    "\n",
    "\n",
    "\n",
    "now, we have a list of tensors, t-list. We can use it to find clipped tensors. <b>clip_by_global_norm</b> clips values of multiple tensors by the ratio of the sum of their norms.\n",
    "\n",
    "<b>clip_by_global_norm</b> get <i>t-list</i> as input and returns 2 things:\n",
    "<ul>\n",
    "    <li>a list of clipped tensors, so called <i>list_clipped</i></li> \n",
    "    <li>the global norm (global_norm) of all tensors in t_list</li> \n",
    "</ul>\n"
   ]
  },
  {
   "cell_type": "code",
   "execution_count": 55,
   "metadata": {},
   "outputs": [
    {
     "data": {
      "text/plain": [
       "[<tensorflow.python.framework.indexed_slices.IndexedSlices at 0x7f23a9d60450>,\n",
       " <tf.Tensor: shape=(200, 1024), dtype=float32, numpy=\n",
       " array([[ 1.65338861e-07, -4.13066658e-07, -3.09300162e-07, ...,\n",
       "         -7.42311812e-08, -7.56278951e-09, -1.99179624e-08],\n",
       "        [-3.00875229e-07, -3.04654662e-07, -3.85064538e-07, ...,\n",
       "         -6.82909658e-08,  9.87261615e-07, -2.65400615e-07],\n",
       "        [ 1.05014486e-07,  1.57211844e-07, -3.29693904e-07, ...,\n",
       "          5.57848487e-08, -4.26988208e-07,  1.24425839e-07],\n",
       "        ...,\n",
       "        [-9.15844112e-09, -4.20301973e-07, -1.91375136e-07, ...,\n",
       "          2.45123886e-08,  7.72639567e-07,  2.81772117e-07],\n",
       "        [ 1.57080564e-07, -2.58075517e-07, -3.37556543e-08, ...,\n",
       "          1.79040995e-07,  5.58612669e-07, -1.90361931e-07],\n",
       "        [-2.73349201e-08,  5.75968897e-07, -4.86407885e-07, ...,\n",
       "         -2.56314792e-07,  1.77289735e-07, -1.95406415e-07]], dtype=float32)>,\n",
       " <tf.Tensor: shape=(256, 1024), dtype=float32, numpy=\n",
       " array([[ 1.16696938e-07, -2.02552542e-07, -2.33278374e-08, ...,\n",
       "          1.00050158e-07, -1.02560378e-08, -9.09087277e-08],\n",
       "        [ 5.87048028e-08, -2.49352468e-07, -2.66302436e-07, ...,\n",
       "         -9.42076639e-09,  1.80403276e-07,  1.31093685e-07],\n",
       "        [ 2.42819844e-08,  1.08089857e-07,  1.54862718e-08, ...,\n",
       "         -2.53232741e-08, -1.48668263e-07,  1.35760985e-08],\n",
       "        ...,\n",
       "        [-5.98143970e-08,  6.72249030e-08,  7.00028551e-08, ...,\n",
       "         -1.77318341e-07, -5.73830938e-08,  1.06842649e-07],\n",
       "        [ 1.18453876e-07,  1.76999322e-08,  3.04601201e-07, ...,\n",
       "          3.76856164e-08, -4.01615750e-07,  6.18097573e-08],\n",
       "        [-9.04053152e-08, -1.62477235e-07, -1.17717605e-08, ...,\n",
       "          3.21017311e-08, -1.22295489e-07,  5.30917418e-07]], dtype=float32)>,\n",
       " <tf.Tensor: shape=(1024,), dtype=float32, numpy=\n",
       " array([-1.6742542e-05,  2.4101213e-05,  3.0782488e-05, ...,\n",
       "        -1.4359705e-06, -3.0250805e-05, -6.9134330e-08], dtype=float32)>,\n",
       " <tf.Tensor: shape=(256, 512), dtype=float32, numpy=\n",
       " array([[-7.7615123e-09,  1.0321098e-07, -2.7159228e-08, ...,\n",
       "          1.7382229e-07, -1.9721233e-07, -2.9322894e-07],\n",
       "        [-1.6030668e-07,  2.5383162e-08, -1.2156855e-07, ...,\n",
       "         -3.1191982e-07, -6.5722162e-08, -5.0878316e-07],\n",
       "        [-4.6276796e-08, -1.0685926e-07,  1.0614766e-07, ...,\n",
       "         -4.6474668e-08, -2.2744686e-07,  5.1397205e-07],\n",
       "        ...,\n",
       "        [ 2.7687694e-08,  1.2235787e-07, -8.7987800e-08, ...,\n",
       "          2.7006669e-07,  3.5095314e-07,  3.9651462e-07],\n",
       "        [ 1.4132124e-07, -1.3211517e-08,  1.1720431e-08, ...,\n",
       "          1.3717212e-07, -8.3778593e-07,  4.6605811e-07],\n",
       "        [ 7.6246124e-08, -1.0779395e-08, -1.6520345e-07, ...,\n",
       "          2.4320158e-07,  2.1863590e-07,  8.3215653e-08]], dtype=float32)>,\n",
       " <tf.Tensor: shape=(128, 512), dtype=float32, numpy=\n",
       " array([[-8.67829897e-08, -8.22697785e-08, -1.88954203e-08, ...,\n",
       "         -1.58900434e-07,  1.07837153e-07, -1.01680392e-07],\n",
       "        [-3.66625521e-08,  8.00675508e-08,  2.25074871e-07, ...,\n",
       "          4.06290468e-09, -9.52179562e-08,  2.07262445e-07],\n",
       "        [ 1.33765532e-08,  8.59375415e-09, -5.38932454e-10, ...,\n",
       "          8.23647355e-08, -3.04879904e-07,  1.48386249e-07],\n",
       "        ...,\n",
       "        [-4.25648992e-08, -1.05535669e-07,  1.06793081e-08, ...,\n",
       "         -3.59370745e-07,  1.28229605e-08, -1.35854378e-07],\n",
       "        [ 1.71172658e-08,  7.81743239e-08, -1.19275967e-08, ...,\n",
       "         -2.61081368e-07,  9.12993016e-07, -4.00658990e-07],\n",
       "        [-7.99762390e-08,  1.13148868e-09, -7.64169314e-08, ...,\n",
       "          7.77064102e-08,  1.38170876e-07, -3.08610367e-07]], dtype=float32)>,\n",
       " <tf.Tensor: shape=(512,), dtype=float32, numpy=\n",
       " array([ 2.20717484e-05, -1.56942369e-05,  1.15579196e-05, -1.26204777e-05,\n",
       "        -1.96775782e-05, -3.38462160e-05, -3.12048614e-05,  5.00877359e-05,\n",
       "         2.00551785e-05,  6.36487384e-05,  9.55175210e-07,  2.05080541e-05,\n",
       "         5.06195211e-05, -1.48432036e-05,  1.16471338e-05, -4.05606552e-05,\n",
       "         2.72973175e-05,  4.57072965e-05,  2.25698714e-05, -6.87847205e-05,\n",
       "         3.97086696e-05,  6.37686317e-05,  6.12992008e-05, -1.69931354e-06,\n",
       "        -1.12692878e-05, -2.77522104e-05, -1.32188306e-05,  3.68215769e-05,\n",
       "        -2.96486978e-05,  1.24125054e-05, -1.50252035e-05, -1.66583905e-05,\n",
       "         5.32800223e-05,  2.61585137e-05, -9.09114460e-05,  1.69230043e-05,\n",
       "         4.22334124e-05,  1.94924723e-06,  5.45027342e-06, -5.32321028e-05,\n",
       "         4.37715062e-06, -1.42197305e-05, -2.79618780e-06, -5.40577230e-06,\n",
       "        -7.33856314e-06,  2.28608569e-05,  3.71380338e-05,  1.29673344e-05,\n",
       "        -4.07963307e-06,  2.32425759e-06,  2.83213212e-05, -3.31118063e-05,\n",
       "         7.98612564e-06, -3.49824077e-05, -3.31777119e-05, -3.17636732e-05,\n",
       "         2.14321262e-05, -7.51116022e-06,  6.96994630e-06,  5.75917511e-05,\n",
       "         2.25639087e-05,  1.42242934e-05,  1.66910322e-05, -3.90314563e-06,\n",
       "         1.65857819e-06,  3.27360249e-05,  4.94012238e-05,  1.85681529e-05,\n",
       "         3.33675234e-06, -1.76840786e-05, -5.09819756e-06,  3.55274569e-05,\n",
       "         8.13579391e-05, -6.05055466e-05,  3.71274382e-07, -7.41853000e-06,\n",
       "         4.17943302e-05, -6.09871604e-05, -3.31697738e-05, -1.02540680e-05,\n",
       "         2.04025309e-06, -2.62648246e-05,  1.64232260e-05, -3.35408458e-06,\n",
       "        -2.35937659e-05,  1.18885819e-05, -1.30246817e-05,  1.14557970e-05,\n",
       "         1.12629568e-05,  1.11887612e-05, -3.03209781e-05, -4.53407520e-05,\n",
       "        -1.52465645e-05,  1.71256943e-05,  8.28774864e-05,  4.92149702e-05,\n",
       "         7.34284095e-06, -1.50698670e-05, -2.68473395e-05, -4.89744343e-05,\n",
       "        -1.49435982e-05, -7.91661751e-06, -1.95837463e-04, -5.33828206e-05,\n",
       "         1.21388312e-05,  7.15734177e-06, -2.34941836e-05,  5.13595369e-05,\n",
       "         3.45147964e-05, -1.52051753e-05,  9.37730692e-06, -3.26293084e-05,\n",
       "        -1.95808980e-06, -3.05028734e-05, -5.36428888e-06, -5.25398646e-05,\n",
       "         1.29926175e-05, -3.41073974e-05,  2.93301346e-05,  2.45756382e-06,\n",
       "        -3.58357502e-05,  2.99400272e-05,  3.49979564e-06,  7.46021615e-05,\n",
       "         1.07807791e-05,  4.32094967e-05, -6.60353035e-05,  7.07598010e-05,\n",
       "         4.79120208e-05, -1.56318811e-06,  3.70913949e-05, -2.98616305e-06,\n",
       "        -2.56608182e-05, -2.79926553e-05, -3.71960778e-05,  5.50770128e-05,\n",
       "         5.11135659e-05,  5.96735044e-05, -3.13211858e-05,  5.23256967e-05,\n",
       "         7.00409291e-05, -1.27707744e-05,  5.09296751e-06, -4.23612146e-05,\n",
       "         3.15625257e-05,  5.39438479e-05,  2.27615456e-05, -9.16559366e-05,\n",
       "         1.80729221e-05,  1.00253324e-04,  8.92381504e-05,  1.49571824e-05,\n",
       "        -3.65422275e-05, -3.12611082e-05, -1.52467364e-05,  5.74426704e-05,\n",
       "        -5.07875848e-05,  1.44052556e-05, -1.00135767e-05, -3.30479961e-05,\n",
       "         5.82547327e-05,  5.08984158e-06, -1.07010455e-04,  3.26877198e-05,\n",
       "         3.10653886e-05, -2.68470239e-06,  5.58468082e-06, -6.13334705e-05,\n",
       "         1.34947441e-05, -2.12928662e-05, -1.03878247e-05, -3.38445134e-05,\n",
       "        -2.10067810e-06, -4.98139389e-06,  5.21509428e-05,  2.47028584e-05,\n",
       "        -1.68094102e-05,  2.09052996e-06,  3.77568686e-05, -3.00097145e-05,\n",
       "         4.97361498e-06, -2.71659828e-05, -5.80965534e-05, -3.70825219e-05,\n",
       "         6.11985661e-06, -1.50016740e-05,  2.17980050e-05,  7.69917096e-05,\n",
       "         1.59773808e-05,  2.11986444e-05,  8.64123103e-06, -6.42174018e-06,\n",
       "        -8.22867332e-06,  4.10289722e-05,  7.59632385e-05, -4.89340118e-06,\n",
       "        -1.61155040e-05, -2.77616964e-05, -1.25706629e-06,  8.14450686e-06,\n",
       "         1.05372877e-04, -8.20049318e-05,  3.22129472e-06, -2.72352845e-05,\n",
       "         5.69934855e-05, -1.17792079e-04, -2.92059963e-06,  3.01637738e-06,\n",
       "        -1.02447166e-05, -6.12913791e-05,  5.58981192e-05,  5.79363450e-06,\n",
       "        -1.21404628e-05,  7.44828958e-06, -1.71834472e-05,  2.95348364e-05,\n",
       "         2.57640386e-06, -3.06932925e-05, -3.30974472e-05, -3.81215941e-05,\n",
       "        -4.17167139e-05,  8.75579644e-07,  1.28110143e-04,  9.29163725e-05,\n",
       "        -2.96887129e-06, -2.62082885e-05, -2.10245271e-05, -5.49370161e-05,\n",
       "        -2.12108407e-05,  1.41736891e-05, -2.69216951e-04, -8.36095569e-05,\n",
       "        -3.53450503e-07,  8.32434034e-06, -2.49159530e-06,  4.39842224e-05,\n",
       "         5.31585029e-05, -1.73386379e-05,  8.80878724e-06, -4.03327285e-05,\n",
       "        -1.62706856e-05, -2.12276354e-05,  5.47331547e-06, -5.85525486e-05,\n",
       "         1.33261456e-05, -5.56062769e-05,  6.15097670e-05, -7.10319000e-06,\n",
       "        -6.96386269e-05,  4.72729735e-05,  2.76000555e-05,  8.99854349e-05,\n",
       "         2.11731058e-05,  4.97040019e-05, -9.92318528e-05,  1.05352810e-04,\n",
       "        -5.64249512e-03,  1.52860507e-02,  8.99833161e-04,  4.11632359e-02,\n",
       "        -5.00634592e-03,  2.78444011e-02,  2.14442872e-02, -2.87976451e-02,\n",
       "         1.72836911e-02,  9.35952831e-03, -2.72409301e-02,  1.33892028e-02,\n",
       "        -2.43875980e-02,  5.34512859e-04,  1.79196354e-02,  1.54975243e-02,\n",
       "         1.27373617e-02,  2.27713976e-02,  4.52630483e-02, -2.16820277e-03,\n",
       "         1.20306890e-02, -8.03267024e-03, -1.64168701e-02,  4.30450514e-02,\n",
       "        -1.81544665e-02, -1.00794304e-02, -1.20121185e-02,  2.61915140e-02,\n",
       "         2.46877000e-02, -1.40309632e-02, -1.08021069e-02, -2.85111833e-02,\n",
       "         2.15280354e-02, -6.12622127e-03,  2.12268159e-02, -6.64180750e-03,\n",
       "        -2.77129430e-02, -1.77851375e-02,  4.05811425e-03, -1.10593913e-02,\n",
       "         3.31537686e-02,  1.86193883e-02, -9.73754004e-03, -6.19972087e-02,\n",
       "        -3.64950951e-03,  1.96181075e-03, -7.80234411e-02,  3.61441001e-02,\n",
       "        -5.18294703e-03, -4.13166136e-02,  1.34247290e-02, -2.83887051e-02,\n",
       "         3.31454910e-04, -5.56381643e-02,  1.69644896e-02,  1.90915726e-02,\n",
       "         4.60753813e-02, -4.05840650e-02,  8.74552038e-03,  4.55047488e-02,\n",
       "         4.55251262e-02, -1.36315394e-02, -1.00890044e-02,  1.29831582e-03,\n",
       "        -1.05140125e-02, -7.99233466e-03, -1.68740551e-03,  2.86575649e-02,\n",
       "         1.99537929e-02, -7.44362082e-03, -1.56217013e-02, -2.51588169e-02,\n",
       "         1.89945661e-02, -5.20273000e-02, -9.92834102e-03,  1.12075778e-03,\n",
       "         2.18902808e-02, -4.21434008e-02,  3.49098593e-02,  1.37033341e-02,\n",
       "         4.31278627e-03,  3.82197052e-02,  5.69096282e-02, -4.48485510e-03,\n",
       "        -2.64268555e-02, -3.39701027e-02, -2.35317200e-02, -2.51978617e-02,\n",
       "         1.08966399e-02,  8.68466683e-03, -2.75135897e-02,  1.53498482e-02,\n",
       "        -8.95421486e-03,  1.39436349e-02,  3.03240679e-02,  2.04400755e-02,\n",
       "         1.37829036e-03, -6.35994449e-02,  9.25299246e-05, -8.24286602e-03,\n",
       "        -2.69894116e-02,  2.81402916e-02, -7.93685764e-02,  4.82834205e-02,\n",
       "        -3.38947736e-02, -3.00057344e-02, -2.59996839e-02, -6.25154674e-02,\n",
       "         4.76320786e-03,  2.03512199e-02, -3.20323110e-02,  2.23334916e-02,\n",
       "         2.03211233e-02,  2.36115661e-02,  2.65004090e-03, -1.47090126e-02,\n",
       "        -4.80349222e-03, -1.23662222e-02, -2.70451158e-02, -2.64869444e-02,\n",
       "         1.14234798e-02, -2.37805843e-02, -7.18380441e-04,  2.09374223e-02,\n",
       "        -4.27577570e-02, -4.03581485e-02,  5.15882522e-02, -7.89416488e-03,\n",
       "         2.90337848e-05, -1.75873101e-05,  2.27729979e-05, -1.26001942e-05,\n",
       "        -1.86152392e-05, -3.42640378e-05, -3.95334246e-05,  4.05944520e-05,\n",
       "         2.69683223e-05,  6.62981474e-05, -1.14982140e-06,  2.19966332e-05,\n",
       "         5.76919374e-05, -2.00857321e-05,  5.37036613e-06, -4.67634236e-05,\n",
       "         2.50501253e-05,  4.77360918e-05,  2.35120824e-05, -7.81280978e-05,\n",
       "         4.01143807e-05,  6.22675652e-05,  8.30642457e-05, -3.59308251e-06,\n",
       "        -1.31561792e-05, -3.04413443e-05, -1.36291919e-05,  4.22209378e-05,\n",
       "        -2.63277434e-05,  1.21650055e-05, -1.67523121e-05, -2.30365185e-05,\n",
       "         6.66941778e-05,  1.93282176e-05, -9.72706548e-05,  1.37709130e-05,\n",
       "         4.77865433e-05, -6.44132069e-06,  7.90208833e-06, -6.33396994e-05,\n",
       "         3.68965789e-06, -5.90291893e-06, -3.26947247e-06, -1.97876416e-05,\n",
       "        -1.84787168e-05,  2.34731815e-05,  3.19473547e-05,  1.90432183e-05,\n",
       "        -3.21915786e-06,  6.95585186e-06,  2.62479625e-05, -3.77496362e-05,\n",
       "         6.88159071e-06, -3.13280834e-05, -3.36669036e-05, -3.72597351e-05,\n",
       "         2.60046381e-05, -1.44350633e-05,  9.91404249e-06,  5.92867473e-05,\n",
       "         3.99392957e-05,  1.17660238e-05,  1.57357099e-05, -1.39068106e-06,\n",
       "        -4.96460598e-06,  2.76023420e-05,  4.60148804e-05,  1.68141141e-05,\n",
       "        -4.07089829e-07, -2.01312723e-05, -1.57812974e-06,  3.66827153e-05,\n",
       "         8.82282111e-05, -7.09726301e-05,  6.52898689e-06, -9.42646875e-06,\n",
       "         4.50664083e-05, -6.84183178e-05, -3.23480235e-05, -6.44653619e-06,\n",
       "        -5.00858732e-08, -3.06688744e-05,  1.90172941e-05, -6.45535192e-06,\n",
       "        -1.88750855e-05,  1.85859626e-05, -1.81743635e-05,  2.68047697e-05,\n",
       "         1.22023594e-05, -3.18001867e-06, -2.82379988e-05, -5.19717869e-05,\n",
       "        -8.93143624e-06,  1.14451250e-05,  9.61315964e-05,  4.96707107e-05,\n",
       "        -6.03097305e-06, -1.16495512e-05, -1.72082000e-05, -5.51017729e-05,\n",
       "        -1.49477755e-05, -9.19457307e-07, -2.22625036e-04, -6.45707623e-05,\n",
       "         1.14282439e-05,  1.89811490e-05, -1.30046110e-05,  5.77408136e-05,\n",
       "         5.43970964e-05, -1.10526344e-05, -6.08407845e-06, -3.02073713e-05,\n",
       "         1.55910175e-06, -2.44750372e-05, -3.85194107e-06, -6.73684990e-05,\n",
       "         7.36179254e-06, -3.82066464e-05,  3.72304785e-05, -5.73340549e-06,\n",
       "        -5.16838263e-05,  2.29365105e-05,  5.28634155e-06,  9.13043041e-05,\n",
       "         5.31809928e-06,  3.68373003e-05, -7.42337870e-05,  9.00756859e-05],\n",
       "       dtype=float32)>,\n",
       " <tf.Tensor: shape=(128, 10000), dtype=float32, numpy=\n",
       " array([[ 2.6837754e-04,  1.3039083e-03,  1.6884980e-04, ...,\n",
       "         -4.5564255e-07, -4.5476091e-07, -4.5516657e-07],\n",
       "        [-1.0598287e-03, -9.4624719e-04, -6.0156867e-04, ...,\n",
       "          2.8323475e-06,  2.8351760e-06,  2.8317286e-06],\n",
       "        [-1.3902048e-03, -1.9460385e-03, -2.2934480e-03, ...,\n",
       "          5.3919202e-06,  5.3971876e-06,  5.3905719e-06],\n",
       "        ...,\n",
       "        [ 1.1747505e-03,  1.5673210e-03,  8.7588152e-05, ...,\n",
       "         -2.1536898e-06, -2.1570390e-06, -2.1520361e-06],\n",
       "        [ 2.5687716e-03,  4.3139742e-03,  2.9584349e-03, ...,\n",
       "         -6.1962191e-06, -6.1994024e-06, -6.1931564e-06],\n",
       "        [ 2.3795245e-03,  2.6345081e-03,  1.2313087e-03, ...,\n",
       "         -2.0229381e-06, -2.0189227e-06, -2.0207610e-06]], dtype=float32)>,\n",
       " <tf.Tensor: shape=(10000,), dtype=float32, numpy=\n",
       " array([-0.7979981 , -1.0313315 , -1.0313314 , ...,  0.00200017,\n",
       "         0.00200106,  0.00199912], dtype=float32)>]"
      ]
     },
     "execution_count": 55,
     "metadata": {},
     "output_type": "execute_result"
    }
   ],
   "source": [
    "# Define the gradient clipping threshold\n",
    "grads, _ = tf.clip_by_global_norm(grad_t_list, max_grad_norm)\n",
    "grads"
   ]
  },
  {
   "cell_type": "markdown",
   "metadata": {},
   "source": [
    "<h4> 4.Apply the optimizer to the variables/gradients tuple. </h4>\n"
   ]
  },
  {
   "cell_type": "code",
   "execution_count": 56,
   "metadata": {},
   "outputs": [],
   "source": [
    "# Create the training TensorFlow Operation through our optimizer\n",
    "train_op = optimizer.apply_gradients(zip(grads, tvars))"
   ]
  },
  {
   "cell_type": "markdown",
   "metadata": {},
   "source": [
    "<a id=\"ltsm\"></a>\n",
    "<h2>LSTM</h2>\n"
   ]
  },
  {
   "cell_type": "markdown",
   "metadata": {},
   "source": [
    "We learned how the model is build step by step. Noe, let's then create a Class that represents our model. This class needs a few things:\n",
    "<ul>\n",
    "    <li>We have to create the model in accordance with our defined hyperparameters</li>\n",
    "    <li>We have to create the LSTM cell structure and connect them with our RNN structure</li>\n",
    "    <li>We have to create the word embeddings and point them to the input data</li>\n",
    "    <li>We have to create the input structure for our RNN</li>\n",
    "    <li>We need to create a logistic structure to return the probability of our words</li>\n",
    "    <li>We need to create the loss and cost functions for our optimizer to work, and then create the optimizer</li>\n",
    "    <li>And finally, we need to create a training operation that can be run to actually train our model</li>\n",
    "</ul>\n"
   ]
  },
  {
   "cell_type": "code",
   "execution_count": 57,
   "metadata": {},
   "outputs": [],
   "source": [
    "class PTBModel(object):\n",
    "\n",
    "\n",
    "    def __init__(self):\n",
    "        ######################################\n",
    "        # Setting parameters for ease of use #\n",
    "        ######################################\n",
    "        self.batch_size = batch_size\n",
    "        self.num_steps = num_steps\n",
    "        self.hidden_size_l1 = hidden_size_l1\n",
    "        self.hidden_size_l2 = hidden_size_l2\n",
    "        self.vocab_size = vocab_size\n",
    "        self.embeding_vector_size = embeding_vector_size\n",
    "        # Create a variable for the learning rate\n",
    "        self._lr = 1.0\n",
    "        \n",
    "        ###############################################################################\n",
    "        # Initializing the model using keras Sequential API  #\n",
    "        ###############################################################################\n",
    "        \n",
    "        self._model = tf.keras.models.Sequential()\n",
    "        \n",
    "        ####################################################################\n",
    "        # Creating the word embeddings layer and adding it to the sequence #\n",
    "        ####################################################################\n",
    "        with tf.device(\"/cpu:0\"):\n",
    "            # Create the embeddings for our input data. Size is hidden size.\n",
    "            self._embedding_layer = tf.keras.layers.Embedding(self.vocab_size, self.embeding_vector_size,batch_input_shape=(self.batch_size, self.num_steps),trainable=True,name=\"embedding_vocab\")  #[10000x200]\n",
    "            self._model.add(self._embedding_layer)\n",
    "            \n",
    "\n",
    "        ##########################################################################\n",
    "        # Creating the LSTM cell structure and connect it with the RNN structure #\n",
    "        ##########################################################################\n",
    "        # Create the LSTM Cells. \n",
    "        # This creates only the structure for the LSTM and has to be associated with a RNN unit still.\n",
    "        # The argument  of LSTMCell is size of hidden layer, that is, the number of hidden units of the LSTM (inside A). \n",
    "        # LSTM cell processes one word at a time and computes probabilities of the possible continuations of the sentence.\n",
    "        lstm_cell_l1 = tf.keras.layers.LSTMCell(hidden_size_l1)\n",
    "        lstm_cell_l2 = tf.keras.layers.LSTMCell(hidden_size_l2)\n",
    "        \n",
    "\n",
    "        \n",
    "        # By taking in the LSTM cells as parameters, the StackedRNNCells function junctions the LSTM units to the RNN units.\n",
    "        # RNN cell composed sequentially of stacked simple cells.\n",
    "        stacked_lstm = tf.keras.layers.StackedRNNCells([lstm_cell_l1, lstm_cell_l2])\n",
    "\n",
    "\n",
    "        \n",
    "\n",
    "        ############################################\n",
    "        # Creating the input structure for our RNN #\n",
    "        ############################################\n",
    "        # Input structure is 20x[30x200]\n",
    "        # Considering each word is represended by a 200 dimentional vector, and we have 30 batchs, we create 30 word-vectors of size [30xx2000]\n",
    "        # The input structure is fed from the embeddings, which are filled in by the input data\n",
    "        # Feeding a batch of b sentences to a RNN:\n",
    "        # In step 1,  first word of each of the b sentences (in a batch) is input in parallel.  \n",
    "        # In step 2,  second word of each of the b sentences is input in parallel. \n",
    "        # The parallelism is only for efficiency.  \n",
    "        # Each sentence in a batch is handled in parallel, but the network sees one word of a sentence at a time and does the computations accordingly. \n",
    "        # All the computations involving the words of all sentences in a batch at a given time step are done in parallel. \n",
    "\n",
    "        ########################################################################################################\n",
    "        # Instantiating our RNN model and setting stateful to True to feed forward the state to the next layer #\n",
    "        ########################################################################################################\n",
    "        \n",
    "        self._RNNlayer  =  tf.keras.layers.RNN(stacked_lstm,[batch_size, num_steps],return_state=False,stateful=True,trainable=True)\n",
    "        \n",
    "        # Define the initial state, i.e., the model state for the very first data point\n",
    "        # It initialize the state of the LSTM memory. The memory state of the network is initialized with a vector of zeros and gets updated after reading each word.\n",
    "        self._initial_state = tf.Variable(tf.zeros([batch_size,embeding_vector_size]),trainable=False)\n",
    "        self._RNNlayer.inital_state = self._initial_state\n",
    "    \n",
    "        ############################################\n",
    "        # Adding RNN layer to keras sequential API #\n",
    "        ############################################        \n",
    "        self._model.add(self._RNNlayer)\n",
    "        \n",
    "        #self._model.add(tf.keras.layers.LSTM(hidden_size_l1,return_sequences=True,stateful=True))\n",
    "        #self._model.add(tf.keras.layers.LSTM(hidden_size_l2,return_sequences=True))\n",
    "        \n",
    "        \n",
    "        ####################################################################################################\n",
    "        # Instantiating a Dense layer that connects the output to the vocab_size  and adding layer to model#\n",
    "        ####################################################################################################\n",
    "        self._dense = tf.keras.layers.Dense(self.vocab_size)\n",
    "        self._model.add(self._dense)\n",
    " \n",
    "        \n",
    "        ####################################################################################################\n",
    "        # Adding softmax activation layer and deriving probability to each class and adding layer to model #\n",
    "        ####################################################################################################\n",
    "        self._activation = tf.keras.layers.Activation('softmax')\n",
    "        self._model.add(self._activation)\n",
    "\n",
    "        ##########################################################\n",
    "        # Instantiating the stochastic gradient decent optimizer #\n",
    "        ########################################################## \n",
    "        self._optimizer = tf.keras.optimizers.SGD(lr=self._lr, clipnorm=max_grad_norm)\n",
    "        \n",
    "        \n",
    "        ##############################################################################\n",
    "        # Compiling and summarizing the model stacked using the keras sequential API #\n",
    "        ##############################################################################\n",
    "        self._model.compile(loss=self.crossentropy, optimizer=self._optimizer)\n",
    "        self._model.summary()\n",
    "\n",
    "\n",
    "    def crossentropy(self,y_true, y_pred):\n",
    "        return tf.keras.losses.sparse_categorical_crossentropy(y_true, y_pred)\n",
    "\n",
    "    def train_batch(self,_input_data,_targets):\n",
    "        #################################################\n",
    "        # Creating the Training Operation for our Model #\n",
    "        #################################################\n",
    "        # Create a variable for the learning rate\n",
    "        self._lr = tf.Variable(0.0, trainable=False)\n",
    "        # Get all TensorFlow variables marked as \"trainable\" (i.e. all of them except _lr, which we just created)\n",
    "        tvars = self._model.trainable_variables\n",
    "        # Define the gradient clipping threshold\n",
    "        with tf.GradientTape() as tape:\n",
    "            # Forward pass.\n",
    "            output_words_prob = self._model(_input_data)\n",
    "            # Loss value for this batch.\n",
    "            loss  = self.crossentropy(_targets, output_words_prob)\n",
    "            # average across batch and reduce sum\n",
    "            cost = tf.reduce_sum(loss/ self.batch_size)\n",
    "        # Get gradients of loss wrt the trainable variables.\n",
    "        grad_t_list = tape.gradient(cost, tvars)\n",
    "        # Define the gradient clipping threshold\n",
    "        grads, _ = tf.clip_by_global_norm(grad_t_list, max_grad_norm)\n",
    "        # Create the training TensorFlow Operation through our optimizer\n",
    "        train_op = self._optimizer.apply_gradients(zip(grads, tvars))\n",
    "        return cost\n",
    "        \n",
    "    def test_batch(self,_input_data,_targets):\n",
    "        #################################################\n",
    "        # Creating the Testing Operation for our Model #\n",
    "        #################################################\n",
    "        output_words_prob = self._model(_input_data)\n",
    "        loss  = self.crossentropy(_targets, output_words_prob)\n",
    "        # average across batch and reduce sum\n",
    "        cost = tf.reduce_sum(loss/ self.batch_size)\n",
    "\n",
    "        return cost\n",
    "    @classmethod\n",
    "    def instance(cls) : \n",
    "        return PTBModel()"
   ]
  },
  {
   "cell_type": "markdown",
   "metadata": {},
   "source": [
    "With that, the actual structure of our Recurrent Neural Network with Long Short-Term Memory is finished. What remains for us to do is to actually create the methods to run through time -- that is, the <code>run_epoch</code> method to be run at each epoch and a <code>main</code> script which ties all of this together.\n",
    "\n",
    "What our <code>run_epoch</code> method should do is take our input data and feed it to the relevant operations. This will return at the very least the current result for the cost function.\n"
   ]
  },
  {
   "cell_type": "code",
   "execution_count": 58,
   "metadata": {},
   "outputs": [],
   "source": [
    "\n",
    "########################################################################################################################\n",
    "# run_one_epoch takes as parameters  the model instance, the data to be fed, training or testing mode and verbose info #\n",
    "########################################################################################################################\n",
    "def run_one_epoch(m, data,is_training=True,verbose=False):\n",
    "\n",
    "    #Define the epoch size based on the length of the data, batch size and the number of steps\n",
    "    epoch_size = ((len(data) // m.batch_size) - 1) // m.num_steps\n",
    "    start_time = time.time()\n",
    "    costs = 0.\n",
    "    iters = 0\n",
    "    \n",
    "    m._model.reset_states()\n",
    "    \n",
    "    #For each step and data point\n",
    "    for step, (x, y) in enumerate(ptb_iterator(data, m.batch_size, m.num_steps)):\n",
    "        \n",
    "        #Evaluate and return cost, state by running cost, final_state and the function passed as parameter\n",
    "        #y = tf.keras.utils.to_categorical(y, num_classes=vocab_size)\n",
    "        if is_training : \n",
    "            loss=  m.train_batch(x, y)\n",
    "        else :\n",
    "            loss = m.test_batch(x, y)\n",
    "                                   \n",
    "\n",
    "        #Add returned cost to costs (which keeps track of the total costs for this epoch)\n",
    "        costs += loss\n",
    "        \n",
    "        #Add number of steps to iteration counter\n",
    "        iters += m.num_steps\n",
    "\n",
    "        if verbose and step % (epoch_size // 10) == 10:\n",
    "            print(\"Itr %d of %d, perplexity: %.3f speed: %.0f wps\" % (step , epoch_size, np.exp(costs / iters), iters * m.batch_size / (time.time() - start_time)))\n",
    "        \n",
    "\n",
    "\n",
    "    # Returns the Perplexity rating for us to keep track of how the model is evolving\n",
    "    return np.exp(costs / iters)\n"
   ]
  },
  {
   "cell_type": "markdown",
   "metadata": {},
   "source": [
    "Now, we create the <code>main</code> method to tie everything together. The code here reads the data from the directory, using the <code>reader</code> helper module, and then trains and evaluates the model on both a testing and a validating subset of data.\n"
   ]
  },
  {
   "cell_type": "code",
   "execution_count": 59,
   "metadata": {},
   "outputs": [],
   "source": [
    "# Reads the data and separates it into training data, validation data and testing data\n",
    "raw_data = ptb_raw_data(data_dir)\n",
    "train_data, valid_data, test_data, _, _ = raw_data"
   ]
  },
  {
   "cell_type": "code",
   "execution_count": 60,
   "metadata": {},
   "outputs": [
    {
     "name": "stdout",
     "output_type": "stream",
     "text": [
      "Model: \"sequential_1\"\n",
      "_________________________________________________________________\n",
      " Layer (type)                Output Shape              Param #   \n",
      "=================================================================\n",
      " embedding_vocab (Embedding)  (30, 20, 200)            2000000   \n",
      "                                                                 \n",
      " rnn_1 (RNN)                 (30, 20, 128)             671088    \n",
      "                                                                 \n",
      " dense_1 (Dense)             (30, 20, 10000)           1290000   \n",
      "                                                                 \n",
      " activation_1 (Activation)   (30, 20, 10000)           0         \n",
      "                                                                 \n",
      "=================================================================\n",
      "Total params: 3,961,088\n",
      "Trainable params: 3,955,088\n",
      "Non-trainable params: 6,000\n",
      "_________________________________________________________________\n",
      "Epoch 1 : Learning rate: 1.000\n",
      "Itr 10 of 1549, perplexity: 4583.511 speed: 1134 wps\n",
      "Itr 164 of 1549, perplexity: 1100.108 speed: 1254 wps\n",
      "Itr 318 of 1549, perplexity: 846.806 speed: 1256 wps\n",
      "Itr 472 of 1549, perplexity: 701.710 speed: 1245 wps\n",
      "Itr 626 of 1549, perplexity: 596.584 speed: 1248 wps\n",
      "Itr 780 of 1549, perplexity: 528.841 speed: 1249 wps\n",
      "Itr 934 of 1549, perplexity: 475.983 speed: 1252 wps\n",
      "Itr 1088 of 1549, perplexity: 436.317 speed: 1254 wps\n",
      "Itr 1242 of 1549, perplexity: 405.754 speed: 1255 wps\n",
      "Itr 1396 of 1549, perplexity: 377.581 speed: 1255 wps\n",
      "Epoch 1 : Train Perplexity: 355.507\n",
      "Epoch 1 : Valid Perplexity: 210.968\n",
      "Epoch 2 : Learning rate: 1.000\n",
      "Itr 10 of 1549, perplexity: 237.294 speed: 1231 wps\n",
      "Itr 164 of 1549, perplexity: 208.689 speed: 1254 wps\n",
      "Itr 318 of 1549, perplexity: 199.746 speed: 1257 wps\n",
      "Itr 472 of 1549, perplexity: 191.689 speed: 1253 wps\n",
      "Itr 626 of 1549, perplexity: 182.675 speed: 1255 wps\n",
      "Itr 780 of 1549, perplexity: 179.010 speed: 1254 wps\n",
      "Itr 934 of 1549, perplexity: 175.064 speed: 1257 wps\n",
      "Itr 1088 of 1549, perplexity: 171.777 speed: 1257 wps\n",
      "Itr 1242 of 1549, perplexity: 169.364 speed: 1256 wps\n",
      "Itr 1396 of 1549, perplexity: 165.335 speed: 1255 wps\n",
      "Epoch 2 : Train Perplexity: 162.512\n",
      "Epoch 2 : Valid Perplexity: 160.153\n",
      "Epoch 3 : Learning rate: 1.000\n",
      "Itr 10 of 1549, perplexity: 161.343 speed: 1249 wps\n",
      "Itr 164 of 1549, perplexity: 145.380 speed: 1247 wps\n",
      "Itr 318 of 1549, perplexity: 141.798 speed: 1248 wps\n",
      "Itr 472 of 1549, perplexity: 137.510 speed: 1243 wps\n",
      "Itr 626 of 1549, perplexity: 132.402 speed: 1247 wps\n",
      "Itr 780 of 1549, perplexity: 131.162 speed: 1246 wps\n",
      "Itr 934 of 1549, perplexity: 129.493 speed: 1249 wps\n",
      "Itr 1088 of 1549, perplexity: 128.161 speed: 1249 wps\n",
      "Itr 1242 of 1549, perplexity: 127.395 speed: 1247 wps\n",
      "Itr 1396 of 1549, perplexity: 125.103 speed: 1245 wps\n",
      "Epoch 3 : Train Perplexity: 123.804\n",
      "Epoch 3 : Valid Perplexity: 142.852\n",
      "Epoch 4 : Learning rate: 1.000\n",
      "Itr 10 of 1549, perplexity: 128.702 speed: 1254 wps\n",
      "Itr 164 of 1549, perplexity: 118.782 speed: 1248 wps\n",
      "Itr 318 of 1549, perplexity: 116.676 speed: 1246 wps\n",
      "Itr 472 of 1549, perplexity: 113.601 speed: 1245 wps\n",
      "Itr 626 of 1549, perplexity: 109.814 speed: 1243 wps\n",
      "Itr 780 of 1549, perplexity: 109.276 speed: 1242 wps\n",
      "Itr 934 of 1549, perplexity: 108.239 speed: 1235 wps\n",
      "Itr 1088 of 1549, perplexity: 107.415 speed: 1236 wps\n",
      "Itr 1242 of 1549, perplexity: 107.109 speed: 1236 wps\n",
      "Itr 1396 of 1549, perplexity: 105.484 speed: 1237 wps\n",
      "Epoch 4 : Train Perplexity: 104.733\n",
      "Epoch 4 : Valid Perplexity: 135.935\n",
      "Epoch 5 : Learning rate: 1.000\n",
      "Itr 10 of 1549, perplexity: 111.476 speed: 1256 wps\n",
      "Itr 164 of 1549, perplexity: 103.806 speed: 1224 wps\n",
      "Itr 318 of 1549, perplexity: 102.342 speed: 1231 wps\n",
      "Itr 472 of 1549, perplexity: 99.899 speed: 1230 wps\n",
      "Itr 626 of 1549, perplexity: 96.731 speed: 1227 wps\n",
      "Itr 780 of 1549, perplexity: 96.523 speed: 1228 wps\n",
      "Itr 934 of 1549, perplexity: 95.795 speed: 1230 wps\n",
      "Itr 1088 of 1549, perplexity: 95.213 speed: 1229 wps\n",
      "Itr 1242 of 1549, perplexity: 95.084 speed: 1231 wps\n",
      "Itr 1396 of 1549, perplexity: 93.751 speed: 1233 wps\n",
      "Epoch 5 : Train Perplexity: 93.186\n",
      "Epoch 5 : Valid Perplexity: 133.705\n",
      "Epoch 6 : Learning rate: 0.500\n",
      "Itr 10 of 1549, perplexity: 99.032 speed: 1254 wps\n",
      "Itr 164 of 1549, perplexity: 90.739 speed: 1241 wps\n",
      "Itr 318 of 1549, perplexity: 88.236 speed: 1227 wps\n",
      "Itr 472 of 1549, perplexity: 85.035 speed: 1216 wps\n",
      "Itr 626 of 1549, perplexity: 81.467 speed: 1221 wps\n",
      "Itr 780 of 1549, perplexity: 80.635 speed: 1223 wps\n",
      "Itr 934 of 1549, perplexity: 79.451 speed: 1226 wps\n",
      "Itr 1088 of 1549, perplexity: 78.321 speed: 1225 wps\n",
      "Itr 1242 of 1549, perplexity: 77.569 speed: 1222 wps\n",
      "Itr 1396 of 1549, perplexity: 75.913 speed: 1224 wps\n",
      "Epoch 6 : Train Perplexity: 74.901\n",
      "Epoch 6 : Valid Perplexity: 123.944\n",
      "Epoch 7 : Learning rate: 0.250\n",
      "Itr 10 of 1549, perplexity: 84.821 speed: 1217 wps\n",
      "Itr 164 of 1549, perplexity: 78.031 speed: 1201 wps\n",
      "Itr 318 of 1549, perplexity: 75.883 speed: 1208 wps\n",
      "Itr 472 of 1549, perplexity: 73.151 speed: 1212 wps\n",
      "Itr 626 of 1549, perplexity: 69.948 speed: 1214 wps\n",
      "Itr 780 of 1549, perplexity: 69.205 speed: 1215 wps\n",
      "Itr 934 of 1549, perplexity: 68.112 speed: 1215 wps\n",
      "Itr 1088 of 1549, perplexity: 67.007 speed: 1215 wps\n",
      "Itr 1242 of 1549, perplexity: 66.184 speed: 1217 wps\n",
      "Itr 1396 of 1549, perplexity: 64.610 speed: 1218 wps\n",
      "Epoch 7 : Train Perplexity: 63.598\n",
      "Epoch 7 : Valid Perplexity: 121.280\n",
      "Epoch 8 : Learning rate: 0.125\n",
      "Itr 10 of 1549, perplexity: 76.465 speed: 1236 wps\n",
      "Itr 164 of 1549, perplexity: 70.887 speed: 1222 wps\n",
      "Itr 318 of 1549, perplexity: 69.010 speed: 1233 wps\n",
      "Itr 472 of 1549, perplexity: 66.521 speed: 1230 wps\n",
      "Itr 626 of 1549, perplexity: 63.564 speed: 1232 wps\n",
      "Itr 780 of 1549, perplexity: 62.885 speed: 1229 wps\n",
      "Itr 934 of 1549, perplexity: 61.889 speed: 1230 wps\n",
      "Itr 1088 of 1549, perplexity: 60.854 speed: 1229 wps\n",
      "Itr 1242 of 1549, perplexity: 60.040 speed: 1230 wps\n",
      "Itr 1396 of 1549, perplexity: 58.549 speed: 1229 wps\n",
      "Epoch 8 : Train Perplexity: 57.576\n",
      "Epoch 8 : Valid Perplexity: 120.488\n",
      "Epoch 9 : Learning rate: 0.062\n",
      "Itr 10 of 1549, perplexity: 72.014 speed: 1230 wps\n",
      "Itr 164 of 1549, perplexity: 67.138 speed: 1221 wps\n",
      "Itr 318 of 1549, perplexity: 65.408 speed: 1222 wps\n",
      "Itr 472 of 1549, perplexity: 63.065 speed: 1213 wps\n",
      "Itr 626 of 1549, perplexity: 60.266 speed: 1214 wps\n",
      "Itr 780 of 1549, perplexity: 59.615 speed: 1216 wps\n",
      "Itr 934 of 1549, perplexity: 58.676 speed: 1217 wps\n",
      "Itr 1088 of 1549, perplexity: 57.681 speed: 1216 wps\n",
      "Itr 1242 of 1549, perplexity: 56.882 speed: 1218 wps\n",
      "Itr 1396 of 1549, perplexity: 55.442 speed: 1216 wps\n",
      "Epoch 9 : Train Perplexity: 54.490\n",
      "Epoch 9 : Valid Perplexity: 120.466\n",
      "Epoch 10 : Learning rate: 0.031\n",
      "Itr 10 of 1549, perplexity: 69.518 speed: 1218 wps\n",
      "Itr 164 of 1549, perplexity: 65.109 speed: 1202 wps\n",
      "Itr 318 of 1549, perplexity: 63.485 speed: 1220 wps\n",
      "Itr 472 of 1549, perplexity: 61.217 speed: 1222 wps\n",
      "Itr 626 of 1549, perplexity: 58.501 speed: 1228 wps\n",
      "Itr 780 of 1549, perplexity: 57.870 speed: 1228 wps\n",
      "Itr 934 of 1549, perplexity: 56.971 speed: 1229 wps\n",
      "Itr 1088 of 1549, perplexity: 56.005 speed: 1226 wps\n",
      "Itr 1242 of 1549, perplexity: 55.215 speed: 1227 wps\n",
      "Itr 1396 of 1549, perplexity: 53.799 speed: 1230 wps\n",
      "Epoch 10 : Train Perplexity: 52.859\n",
      "Epoch 10 : Valid Perplexity: 120.607\n",
      "Epoch 11 : Learning rate: 0.016\n",
      "Itr 10 of 1549, perplexity: 68.289 speed: 1241 wps\n",
      "Itr 164 of 1549, perplexity: 64.057 speed: 1240 wps\n",
      "Itr 318 of 1549, perplexity: 62.468 speed: 1229 wps\n",
      "Itr 472 of 1549, perplexity: 60.235 speed: 1229 wps\n",
      "Itr 626 of 1549, perplexity: 57.553 speed: 1232 wps\n",
      "Itr 780 of 1549, perplexity: 56.925 speed: 1229 wps\n",
      "Itr 934 of 1549, perplexity: 56.044 speed: 1227 wps\n",
      "Itr 1088 of 1549, perplexity: 55.095 speed: 1226 wps\n",
      "Itr 1242 of 1549, perplexity: 54.312 speed: 1227 wps\n",
      "Itr 1396 of 1549, perplexity: 52.908 speed: 1228 wps\n",
      "Epoch 11 : Train Perplexity: 51.970\n",
      "Epoch 11 : Valid Perplexity: 120.609\n",
      "Epoch 12 : Learning rate: 0.008\n",
      "Itr 10 of 1549, perplexity: 67.655 speed: 1191 wps\n",
      "Itr 164 of 1549, perplexity: 63.496 speed: 1210 wps\n",
      "Itr 318 of 1549, perplexity: 61.929 speed: 1224 wps\n",
      "Itr 472 of 1549, perplexity: 59.719 speed: 1225 wps\n",
      "Itr 626 of 1549, perplexity: 57.049 speed: 1221 wps\n",
      "Itr 780 of 1549, perplexity: 56.420 speed: 1223 wps\n",
      "Itr 934 of 1549, perplexity: 55.543 speed: 1223 wps\n",
      "Itr 1088 of 1549, perplexity: 54.599 speed: 1223 wps\n",
      "Itr 1242 of 1549, perplexity: 53.818 speed: 1224 wps\n",
      "Itr 1396 of 1549, perplexity: 52.422 speed: 1225 wps\n",
      "Epoch 12 : Train Perplexity: 51.486\n",
      "Epoch 12 : Valid Perplexity: 120.413\n",
      "Epoch 13 : Learning rate: 0.004\n",
      "Itr 10 of 1549, perplexity: 67.267 speed: 1234 wps\n",
      "Itr 164 of 1549, perplexity: 63.159 speed: 1231 wps\n",
      "Itr 318 of 1549, perplexity: 61.615 speed: 1230 wps\n",
      "Itr 472 of 1549, perplexity: 59.429 speed: 1227 wps\n",
      "Itr 626 of 1549, perplexity: 56.770 speed: 1228 wps\n",
      "Itr 780 of 1549, perplexity: 56.143 speed: 1225 wps\n",
      "Itr 934 of 1549, perplexity: 55.269 speed: 1228 wps\n",
      "Itr 1088 of 1549, perplexity: 54.326 speed: 1229 wps\n",
      "Itr 1242 of 1549, perplexity: 53.547 speed: 1228 wps\n",
      "Itr 1396 of 1549, perplexity: 52.156 speed: 1230 wps\n",
      "Epoch 13 : Train Perplexity: 51.223\n",
      "Epoch 13 : Valid Perplexity: 120.177\n",
      "Epoch 14 : Learning rate: 0.002\n",
      "Itr 10 of 1549, perplexity: 67.036 speed: 1256 wps\n",
      "Itr 164 of 1549, perplexity: 62.954 speed: 1224 wps\n",
      "Itr 318 of 1549, perplexity: 61.427 speed: 1230 wps\n",
      "Itr 472 of 1549, perplexity: 59.260 speed: 1233 wps\n",
      "Itr 626 of 1549, perplexity: 56.610 speed: 1234 wps\n",
      "Itr 780 of 1549, perplexity: 55.988 speed: 1235 wps\n",
      "Itr 934 of 1549, perplexity: 55.119 speed: 1236 wps\n",
      "Itr 1088 of 1549, perplexity: 54.177 speed: 1232 wps\n",
      "Itr 1242 of 1549, perplexity: 53.400 speed: 1233 wps\n",
      "Itr 1396 of 1549, perplexity: 52.012 speed: 1233 wps\n",
      "Epoch 14 : Train Perplexity: 51.082\n",
      "Epoch 14 : Valid Perplexity: 120.018\n",
      "Epoch 15 : Learning rate: 0.001\n",
      "Itr 10 of 1549, perplexity: 66.909 speed: 1111 wps\n",
      "Itr 164 of 1549, perplexity: 62.835 speed: 1227 wps\n",
      "Itr 318 of 1549, perplexity: 61.318 speed: 1233 wps\n",
      "Itr 472 of 1549, perplexity: 59.164 speed: 1229 wps\n",
      "Itr 626 of 1549, perplexity: 56.522 speed: 1229 wps\n",
      "Itr 780 of 1549, perplexity: 55.904 speed: 1231 wps\n",
      "Itr 934 of 1549, perplexity: 55.038 speed: 1227 wps\n",
      "Itr 1088 of 1549, perplexity: 54.097 speed: 1229 wps\n",
      "Itr 1242 of 1549, perplexity: 53.321 speed: 1229 wps\n",
      "Itr 1396 of 1549, perplexity: 51.936 speed: 1229 wps\n",
      "Epoch 15 : Train Perplexity: 51.007\n",
      "Epoch 15 : Valid Perplexity: 119.935\n",
      "Test Perplexity: 116.540\n"
     ]
    }
   ],
   "source": [
    "# Instantiates the PTBModel class\n",
    "m=PTBModel.instance()   \n",
    "K = tf.keras.backend \n",
    "for i in range(max_epoch):\n",
    "    # Define the decay for this epoch\n",
    "    lr_decay = decay ** max(i - max_epoch_decay_lr, 0.0)\n",
    "    dcr = learning_rate * lr_decay\n",
    "    m._lr = dcr\n",
    "    K.set_value(m._model.optimizer.learning_rate,m._lr)\n",
    "    print(\"Epoch %d : Learning rate: %.3f\" % (i + 1, m._model.optimizer.learning_rate))\n",
    "    # Run the loop for this epoch in the training mode\n",
    "    train_perplexity = run_one_epoch(m, train_data,is_training=True,verbose=True)\n",
    "    print(\"Epoch %d : Train Perplexity: %.3f\" % (i + 1, train_perplexity))\n",
    "        \n",
    "    # Run the loop for this epoch in the validation mode\n",
    "    valid_perplexity = run_one_epoch(m, valid_data,is_training=False,verbose=False)\n",
    "    print(\"Epoch %d : Valid Perplexity: %.3f\" % (i + 1, valid_perplexity))\n",
    "    \n",
    "# Run the loop in the testing mode to see how effective was our training\n",
    "test_perplexity = run_one_epoch(m, test_data,is_training=False,verbose=False)\n",
    "print(\"Test Perplexity: %.3f\" % test_perplexity)\n",
    "\n"
   ]
  },
  {
   "cell_type": "markdown",
   "metadata": {},
   "source": [
    "As you can see, the model's perplexity rating drops very quickly after a few iterations. As was elaborated before, <b>lower Perplexity means that the model is more certain about its prediction</b>. As such, we can be sure that this model is performing well!\n"
   ]
  },
  {
   "cell_type": "markdown",
   "metadata": {},
   "source": [
    "-------\n"
   ]
  },
  {
   "cell_type": "markdown",
   "metadata": {},
   "source": [
    "This is the end of the <b>Applying Recurrent Neural Networks to Text Processing</b> notebook. Hopefully you now have a better understanding of Recurrent Neural Networks and how to implement one utilizing TensorFlow. Thank you for reading this notebook, and good luck on your studies.\n"
   ]
  },
  {
   "cell_type": "markdown",
   "metadata": {},
   "source": [
    "## Want to learn more?\n",
    "\n",
    "Also, you can use __Watson Studio__ to run these notebooks faster with bigger datasets.__Watson Studio__ is IBM’s leading cloud solution for data scientists, built by data scientists. With Jupyter notebooks, RStudio, Apache Spark and popular libraries pre-packaged in the cloud, __Watson Studio__ enables data scientists to collaborate on their projects without having to install anything. Join the fast-growing community of __Watson Studio__ users today with a free account at [Watson Studio](https://cocl.us/ML0120EN_DSX).This is the end of this lesson. Thank you for reading this notebook, and good luck on your studies.\n"
   ]
  },
  {
   "cell_type": "markdown",
   "metadata": {},
   "source": [
    "### Thanks for completing this lesson!\n",
    "\n",
    "Notebook created by <a href=\"https://br.linkedin.com/in/walter-gomes-de-amorim-junior-624726121?utm_medium=Exinfluencer&utm_source=Exinfluencer&utm_content=000026UJ&utm_term=10006555&utm_id=NA-SkillsNetwork-Channel-SkillsNetworkCoursesIBMDeveloperSkillsNetworkDL0120ENSkillsNetwork954-2023-01-01\">Walter Gomes de Amorim Junior</a>, <a href = \"https://linkedin.com/in/saeedaghabozorgi\"> Saeed Aghabozorgi </a></h4>\n",
    "\n",
    "\n",
    "Updated to TF 2.X by  <a href=\"https://www.linkedin.com/in/samaya-madhavan?utm_medium=Exinfluencer&utm_source=Exinfluencer&utm_content=000026UJ&utm_term=10006555&utm_id=NA-SkillsNetwork-Channel-SkillsNetworkCoursesIBMDeveloperSkillsNetworkDL0120ENSkillsNetwork954-2023-01-01\"> Samaya Madhavan </a>\n"
   ]
  },
  {
   "cell_type": "markdown",
   "metadata": {},
   "source": [
    "<hr>\n",
    "\n",
    "Copyright &copy; 2018 [Cognitive Class](https://cocl.us/DX0108EN_CC). This notebook and its source code are released under the terms of the [MIT License](https://bigdatauniversity.com/mit-license/?utm_medium=Exinfluencer&utm_source=Exinfluencer&utm_content=000026UJ&utm_term=10006555&utm_id=NA-SkillsNetwork-Channel-SkillsNetworkCoursesIBMDeveloperSkillsNetworkDL0120ENSkillsNetwork954-2023-01-01).\n"
   ]
  }
 ],
 "metadata": {
  "kernelspec": {
   "display_name": "Python",
   "language": "python",
   "name": "conda-env-python-py"
  },
  "language_info": {
   "codemirror_mode": {
    "name": "ipython",
    "version": 3
   },
   "file_extension": ".py",
   "mimetype": "text/x-python",
   "name": "python",
   "nbconvert_exporter": "python",
   "pygments_lexer": "ipython3",
   "version": "3.7.12"
  }
 },
 "nbformat": 4,
 "nbformat_minor": 4
}
