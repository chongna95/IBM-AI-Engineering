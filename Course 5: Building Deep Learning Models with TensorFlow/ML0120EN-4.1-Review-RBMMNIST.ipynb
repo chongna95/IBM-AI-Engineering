{
 "cells": [
  {
   "cell_type": "markdown",
   "metadata": {},
   "source": [
    "<img src=\"https://cf-courses-data.s3.us.cloud-object-storage.appdomain.cloud/IBMDeveloperSkillsNetwork-DL0120EN-SkillsNetwork/images/IDSN-logo.png\" width=\"300\" alt=\"cognitiveclass.ai logo\">\n",
    "\n",
    "<h1 align=\"center\"><font size=\"5\">RESTRICTED BOLTZMANN MACHINES</font></h1>\n"
   ]
  },
  {
   "cell_type": "markdown",
   "metadata": {},
   "source": [
    "Estimated time needed: **25** minutes\n"
   ]
  },
  {
   "cell_type": "markdown",
   "metadata": {},
   "source": [
    "<h3>Introduction</h3>\n",
    "<b>Restricted Boltzmann Machine (RBM):</b>  RBMs are shallow neural nets that learn to reconstruct data by themselves in an unsupervised fashion.  \n",
    "\n",
    "\n",
    "<h4>Why are RBMs important?</h4>\n",
    "An RBM are a basic form of autoencoder.  It can automatically extract <b>meaningful</b> features from a given input.\n",
    "\n",
    "\n",
    "<h4>How does it work?</h4>\n",
    "RBM is a 2 layer neural network. Simply, RBM takes the inputs and translates those into a set of binary values that represents them in the hidden layer. Then, these numbers can be translated back to reconstruct the inputs. Through several forward and backward passes, the RBM will be trained, and a trained RBM can reveal which features are the most important ones when detecting patterns.   \n",
    "\n",
    "\n",
    "<h4>What are the applications of an RBM?</h4>\n",
    "RBM is useful for <a href='http://www.cs.utoronto.ca/~hinton/absps/netflixICML.pdf?utm_medium=Exinfluencer&utm_source=Exinfluencer&utm_content=000026UJ&utm_term=10006555&utm_id=NA-SkillsNetwork-Channel-SkillsNetworkCoursesIBMDeveloperSkillsNetworkDL0120ENSkillsNetwork954-2023-01-01'>  Collaborative Filtering</a>, dimensionality reduction, classification, regression, feature learning, topic modeling and even <b>Deep Belief Networks</b>.\n",
    "\n",
    "<h4>Is RBM a generative or Discriminative model?</h4>\n",
    "RBM is a generative model. Let me explain it by first, see what is different between discriminative and generative models: \n",
    "\n",
    "<b>Discriminative:</b> Consider a classification problem where we want to learn to distinguish between Sedan cars (y = 1) and SUV cars (y = 0), based on some features of cars. Given a training set, an algorithm like logistic regression tries to find a straight line, or <i>decision boundary</i>, that separates the suv and sedan.  \n",
    "\n",
    "<b>Generative:</b> looking at cars, we can build a model of what Sedan cars look like. Then, looking at SUVs, we can build a separate model of what SUV cars look like. Finally, to classify a new car, we can match the new car against the Sedan model, and match it against the SUV model, to see whether the new car looks more like the SUV or Sedan. \n",
    "\n",
    "Generative Models specify a probability distribution over a dataset of input vectors. We can carry out both supervised and unsupervised tasks with generative models:\n",
    "<ul>\n",
    "    <li>In an unsupervised task, we try to form a model for $P(x)$, where $P$ is the probability given $x$ as an input vector.</li>\n",
    "    <li>In the supervised task, we first form a model for $P(x|y)$, where $P$ is the probability of $x$ given $y$(the label for $x$). For example, if $y = 0$ indicates that a car is an SUV, and $y = 1$ indicates that a car is a sedan, then $p(x|y = 0)$ models the distribution of SUV features, and $p(x|y = 1)$ models the distribution of sedan features. If we manage to find $P(x|y)$ and $P(y)$, then we can use <b>Bayes rule</b> to estimate $P(y|x)$, because:   \n",
    "        $$p(y|x) = \\frac{p(x|y)p(y)}{p(x)}$$</li>\n",
    "</ul>\n",
    "Now the question is, can we build a generative model, and then use it to create synthetic data by directly sampling from the modeled probability distributions? Lets see. \n"
   ]
  },
  {
   "cell_type": "markdown",
   "metadata": {},
   "source": [
    "<h2>Table of Contents</h2>\n",
    "<ol>\n",
    "    <li><a href=\"#ref1\">Initialization</a></li>\n",
    "    <li><a href=\"#ref2\">RBM layers</a></li>\n",
    "    <li><a href=\"#ref3\">What RBM can do after training?</a></li>\n",
    "    <li><a href=\"#ref4\">How to train the model?</a></li>\n",
    "    <li><a href=\"#ref5\">Learned features</a></li>\n",
    "</ol>\n",
    "<p></p>\n",
    "</div>\n",
    "<br>\n",
    "\n",
    "<hr>\n"
   ]
  },
  {
   "cell_type": "markdown",
   "metadata": {},
   "source": [
    "<a id=\"ref1\"></a>\n",
    "<h3>Initialization</h3>\n",
    "\n",
    "First, we have to load the utility file which contains different utility functions that are not connected\n",
    "in any way to the networks presented in the tutorials, but rather help in\n",
    "processing the outputs into a more understandable way.\n"
   ]
  },
  {
   "cell_type": "code",
   "execution_count": 1,
   "metadata": {
    "tags": []
   },
   "outputs": [],
   "source": [
    "import urllib.request\n",
    "with urllib.request.urlopen(\"https://cf-courses-data.s3.us.cloud-object-storage.appdomain.cloud/IBMDeveloperSkillsNetwork-DL0120EN-SkillsNetwork/labs/Week4/data/utils.py\") as url:\n",
    "    response = url.read()\n",
    "target = open('utils.py', 'w')\n",
    "target.write(response.decode('utf-8'))\n",
    "target.close()"
   ]
  },
  {
   "cell_type": "markdown",
   "metadata": {},
   "source": [
    "<h2>Installing TensorFlow </h2>\n",
    "\n",
    "We will installing TensorFlow version 2.9.0 and its required prerequistes.  Also installing pillow...\n"
   ]
  },
  {
   "cell_type": "code",
   "execution_count": 2,
   "metadata": {
    "tags": []
   },
   "outputs": [
    {
     "name": "stdout",
     "output_type": "stream",
     "text": [
      "Collecting grpcio==1.24.3\n",
      "  Downloading grpcio-1.24.3-cp37-cp37m-manylinux2010_x86_64.whl (2.2 MB)\n",
      "\u001b[2K     \u001b[90m━━━━━━━━━━━━━━━━━━━━━━━━━━━━━━━━━━━━━━━━\u001b[0m \u001b[32m2.2/2.2 MB\u001b[0m \u001b[31m37.4 MB/s\u001b[0m eta \u001b[36m0:00:00\u001b[0m00:01\u001b[0m\n",
      "\u001b[?25hRequirement already satisfied: six>=1.5.2 in /home/jupyterlab/conda/envs/python/lib/python3.7/site-packages (from grpcio==1.24.3) (1.16.0)\n",
      "Installing collected packages: grpcio\n",
      "  Attempting uninstall: grpcio\n",
      "    Found existing installation: grpcio 1.48.1\n",
      "    Uninstalling grpcio-1.48.1:\n",
      "      Successfully uninstalled grpcio-1.48.1\n",
      "Successfully installed grpcio-1.24.3\n",
      "Collecting tensorflow==2.9.0\n",
      "  Downloading tensorflow-2.9.0-cp37-cp37m-manylinux_2_17_x86_64.manylinux2014_x86_64.whl (511.7 MB)\n",
      "\u001b[2K     \u001b[90m━━━━━━━━━━━━━━━━━━━━━━━━━━━━━━━━━━━━━\u001b[0m \u001b[32m511.7/511.7 MB\u001b[0m \u001b[31m894.0 kB/s\u001b[0m eta \u001b[36m0:00:00\u001b[0m00:01\u001b[0m00:01\u001b[0m\n",
      "\u001b[?25hRequirement already satisfied: absl-py>=1.0.0 in /home/jupyterlab/conda/envs/python/lib/python3.7/site-packages (from tensorflow==2.9.0) (1.4.0)\n",
      "Collecting astunparse>=1.6.0 (from tensorflow==2.9.0)\n",
      "  Downloading astunparse-1.6.3-py2.py3-none-any.whl (12 kB)\n",
      "Collecting flatbuffers<2,>=1.12 (from tensorflow==2.9.0)\n",
      "  Downloading flatbuffers-1.12-py2.py3-none-any.whl (15 kB)\n",
      "Collecting gast<=0.4.0,>=0.2.1 (from tensorflow==2.9.0)\n",
      "  Downloading gast-0.4.0-py3-none-any.whl (9.8 kB)\n",
      "Requirement already satisfied: google-pasta>=0.1.1 in /home/jupyterlab/conda/envs/python/lib/python3.7/site-packages (from tensorflow==2.9.0) (0.2.0)\n",
      "Requirement already satisfied: grpcio<2.0,>=1.24.3 in /home/jupyterlab/conda/envs/python/lib/python3.7/site-packages (from tensorflow==2.9.0) (1.24.3)\n",
      "Collecting h5py>=2.9.0 (from tensorflow==2.9.0)\n",
      "  Downloading h5py-3.8.0-cp37-cp37m-manylinux_2_17_x86_64.manylinux2014_x86_64.whl (4.3 MB)\n",
      "\u001b[2K     \u001b[90m━━━━━━━━━━━━━━━━━━━━━━━━━━━━━━━━━━━━━━━━\u001b[0m \u001b[32m4.3/4.3 MB\u001b[0m \u001b[31m54.5 MB/s\u001b[0m eta \u001b[36m0:00:00\u001b[0m:00:01\u001b[0m\n",
      "\u001b[?25hCollecting keras<2.10.0,>=2.9.0rc0 (from tensorflow==2.9.0)\n",
      "  Downloading keras-2.9.0-py2.py3-none-any.whl (1.6 MB)\n",
      "\u001b[2K     \u001b[90m━━━━━━━━━━━━━━━━━━━━━━━━━━━━━━━━━━━━━━━━\u001b[0m \u001b[32m1.6/1.6 MB\u001b[0m \u001b[31m40.3 MB/s\u001b[0m eta \u001b[36m0:00:00\u001b[0m:00:01\u001b[0m\n",
      "\u001b[?25hRequirement already satisfied: keras-preprocessing>=1.1.1 in /home/jupyterlab/conda/envs/python/lib/python3.7/site-packages (from tensorflow==2.9.0) (1.1.2)\n",
      "Collecting libclang>=13.0.0 (from tensorflow==2.9.0)\n",
      "  Downloading libclang-16.0.6-py2.py3-none-manylinux2010_x86_64.whl (22.9 MB)\n",
      "\u001b[2K     \u001b[90m━━━━━━━━━━━━━━━━━━━━━━━━━━━━━━━━━━━━━━━━\u001b[0m \u001b[32m22.9/22.9 MB\u001b[0m \u001b[31m44.4 MB/s\u001b[0m eta \u001b[36m0:00:00\u001b[0m00:01\u001b[0m00:01\u001b[0m\n",
      "\u001b[?25hRequirement already satisfied: numpy>=1.20 in /home/jupyterlab/conda/envs/python/lib/python3.7/site-packages (from tensorflow==2.9.0) (1.21.6)\n",
      "Collecting opt-einsum>=2.3.2 (from tensorflow==2.9.0)\n",
      "  Downloading opt_einsum-3.3.0-py3-none-any.whl (65 kB)\n",
      "\u001b[2K     \u001b[90m━━━━━━━━━━━━━━━━━━━━━━━━━━━━━━━━━━━━━━━━\u001b[0m \u001b[32m65.5/65.5 kB\u001b[0m \u001b[31m7.2 MB/s\u001b[0m eta \u001b[36m0:00:00\u001b[0m\n",
      "\u001b[?25hRequirement already satisfied: packaging in /home/jupyterlab/conda/envs/python/lib/python3.7/site-packages (from tensorflow==2.9.0) (23.1)\n",
      "Requirement already satisfied: protobuf>=3.9.2 in /home/jupyterlab/conda/envs/python/lib/python3.7/site-packages (from tensorflow==2.9.0) (4.21.8)\n",
      "Requirement already satisfied: setuptools in /home/jupyterlab/conda/envs/python/lib/python3.7/site-packages (from tensorflow==2.9.0) (67.7.2)\n",
      "Requirement already satisfied: six>=1.12.0 in /home/jupyterlab/conda/envs/python/lib/python3.7/site-packages (from tensorflow==2.9.0) (1.16.0)\n",
      "Collecting tensorboard<2.10,>=2.9 (from tensorflow==2.9.0)\n",
      "  Downloading tensorboard-2.9.1-py3-none-any.whl (5.8 MB)\n",
      "\u001b[2K     \u001b[90m━━━━━━━━━━━━━━━━━━━━━━━━━━━━━━━━━━━━━━━━\u001b[0m \u001b[32m5.8/5.8 MB\u001b[0m \u001b[31m59.1 MB/s\u001b[0m eta \u001b[36m0:00:00\u001b[0m:00:01\u001b[0m\n",
      "\u001b[?25hCollecting tensorflow-io-gcs-filesystem>=0.23.1 (from tensorflow==2.9.0)\n",
      "  Downloading tensorflow_io_gcs_filesystem-0.32.0-cp37-cp37m-manylinux_2_12_x86_64.manylinux2010_x86_64.whl (2.4 MB)\n",
      "\u001b[2K     \u001b[90m━━━━━━━━━━━━━━━━━━━━━━━━━━━━━━━━━━━━━━━━\u001b[0m \u001b[32m2.4/2.4 MB\u001b[0m \u001b[31m79.0 MB/s\u001b[0m eta \u001b[36m0:00:00\u001b[0m\n",
      "\u001b[?25hCollecting tensorflow-estimator<2.10.0,>=2.9.0rc0 (from tensorflow==2.9.0)\n",
      "  Downloading tensorflow_estimator-2.9.0-py2.py3-none-any.whl (438 kB)\n",
      "\u001b[2K     \u001b[90m━━━━━━━━━━━━━━━━━━━━━━━━━━━━━━━━━━━━━━\u001b[0m \u001b[32m438.7/438.7 kB\u001b[0m \u001b[31m53.4 MB/s\u001b[0m eta \u001b[36m0:00:00\u001b[0m\n",
      "\u001b[?25hRequirement already satisfied: termcolor>=1.1.0 in /home/jupyterlab/conda/envs/python/lib/python3.7/site-packages (from tensorflow==2.9.0) (2.3.0)\n",
      "Requirement already satisfied: typing-extensions>=3.6.6 in /home/jupyterlab/conda/envs/python/lib/python3.7/site-packages (from tensorflow==2.9.0) (4.5.0)\n",
      "Requirement already satisfied: wrapt>=1.11.0 in /home/jupyterlab/conda/envs/python/lib/python3.7/site-packages (from tensorflow==2.9.0) (1.14.1)\n",
      "Requirement already satisfied: wheel<1.0,>=0.23.0 in /home/jupyterlab/conda/envs/python/lib/python3.7/site-packages (from astunparse>=1.6.0->tensorflow==2.9.0) (0.40.0)\n",
      "Collecting google-auth<3,>=1.6.3 (from tensorboard<2.10,>=2.9->tensorflow==2.9.0)\n",
      "  Downloading google_auth-2.22.0-py2.py3-none-any.whl (181 kB)\n",
      "\u001b[2K     \u001b[90m━━━━━━━━━━━━━━━━━━━━━━━━━━━━━━━━━━━━━━\u001b[0m \u001b[32m181.8/181.8 kB\u001b[0m \u001b[31m28.1 MB/s\u001b[0m eta \u001b[36m0:00:00\u001b[0m\n",
      "\u001b[?25hCollecting google-auth-oauthlib<0.5,>=0.4.1 (from tensorboard<2.10,>=2.9->tensorflow==2.9.0)\n",
      "  Downloading google_auth_oauthlib-0.4.6-py2.py3-none-any.whl (18 kB)\n",
      "Requirement already satisfied: markdown>=2.6.8 in /home/jupyterlab/conda/envs/python/lib/python3.7/site-packages (from tensorboard<2.10,>=2.9->tensorflow==2.9.0) (3.4.3)\n",
      "Collecting protobuf>=3.9.2 (from tensorflow==2.9.0)\n",
      "  Downloading protobuf-3.19.6-cp37-cp37m-manylinux_2_17_x86_64.manylinux2014_x86_64.whl (1.1 MB)\n",
      "\u001b[2K     \u001b[90m━━━━━━━━━━━━━━━━━━━━━━━━━━━━━━━━━━━━━━━━\u001b[0m \u001b[32m1.1/1.1 MB\u001b[0m \u001b[31m31.5 MB/s\u001b[0m eta \u001b[36m0:00:00\u001b[0m\n",
      "\u001b[?25hRequirement already satisfied: requests<3,>=2.21.0 in /home/jupyterlab/conda/envs/python/lib/python3.7/site-packages (from tensorboard<2.10,>=2.9->tensorflow==2.9.0) (2.29.0)\n",
      "Collecting tensorboard-data-server<0.7.0,>=0.6.0 (from tensorboard<2.10,>=2.9->tensorflow==2.9.0)\n",
      "  Downloading tensorboard_data_server-0.6.1-py3-none-manylinux2010_x86_64.whl (4.9 MB)\n",
      "\u001b[2K     \u001b[90m━━━━━━━━━━━━━━━━━━━━━━━━━━━━━━━━━━━━━━━━\u001b[0m \u001b[32m4.9/4.9 MB\u001b[0m \u001b[31m59.7 MB/s\u001b[0m eta \u001b[36m0:00:00\u001b[0m:00:01\u001b[0m\n",
      "\u001b[?25hCollecting tensorboard-plugin-wit>=1.6.0 (from tensorboard<2.10,>=2.9->tensorflow==2.9.0)\n",
      "  Downloading tensorboard_plugin_wit-1.8.1-py3-none-any.whl (781 kB)\n",
      "\u001b[2K     \u001b[90m━━━━━━━━━━━━━━━━━━━━━━━━━━━━━━━━━━━━━━\u001b[0m \u001b[32m781.3/781.3 kB\u001b[0m \u001b[31m29.4 MB/s\u001b[0m eta \u001b[36m0:00:00\u001b[0m\n",
      "\u001b[?25hRequirement already satisfied: werkzeug>=1.0.1 in /home/jupyterlab/conda/envs/python/lib/python3.7/site-packages (from tensorboard<2.10,>=2.9->tensorflow==2.9.0) (2.2.3)\n",
      "Collecting cachetools<6.0,>=2.0.0 (from google-auth<3,>=1.6.3->tensorboard<2.10,>=2.9->tensorflow==2.9.0)\n",
      "  Downloading cachetools-5.3.1-py3-none-any.whl (9.3 kB)\n",
      "Requirement already satisfied: pyasn1-modules>=0.2.1 in /home/jupyterlab/conda/envs/python/lib/python3.7/site-packages (from google-auth<3,>=1.6.3->tensorboard<2.10,>=2.9->tensorflow==2.9.0) (0.3.0)\n",
      "Collecting rsa<5,>=3.1.4 (from google-auth<3,>=1.6.3->tensorboard<2.10,>=2.9->tensorflow==2.9.0)\n",
      "  Downloading rsa-4.9-py3-none-any.whl (34 kB)\n",
      "Requirement already satisfied: urllib3<2.0 in /home/jupyterlab/conda/envs/python/lib/python3.7/site-packages (from google-auth<3,>=1.6.3->tensorboard<2.10,>=2.9->tensorflow==2.9.0) (1.26.15)\n",
      "Collecting requests-oauthlib>=0.7.0 (from google-auth-oauthlib<0.5,>=0.4.1->tensorboard<2.10,>=2.9->tensorflow==2.9.0)\n",
      "  Downloading requests_oauthlib-1.3.1-py2.py3-none-any.whl (23 kB)\n",
      "Requirement already satisfied: importlib-metadata>=4.4 in /home/jupyterlab/conda/envs/python/lib/python3.7/site-packages (from markdown>=2.6.8->tensorboard<2.10,>=2.9->tensorflow==2.9.0) (4.11.4)\n",
      "Requirement already satisfied: charset-normalizer<4,>=2 in /home/jupyterlab/conda/envs/python/lib/python3.7/site-packages (from requests<3,>=2.21.0->tensorboard<2.10,>=2.9->tensorflow==2.9.0) (3.1.0)\n",
      "Requirement already satisfied: idna<4,>=2.5 in /home/jupyterlab/conda/envs/python/lib/python3.7/site-packages (from requests<3,>=2.21.0->tensorboard<2.10,>=2.9->tensorflow==2.9.0) (3.4)\n",
      "Requirement already satisfied: certifi>=2017.4.17 in /home/jupyterlab/conda/envs/python/lib/python3.7/site-packages (from requests<3,>=2.21.0->tensorboard<2.10,>=2.9->tensorflow==2.9.0) (2023.5.7)\n",
      "Requirement already satisfied: MarkupSafe>=2.1.1 in /home/jupyterlab/conda/envs/python/lib/python3.7/site-packages (from werkzeug>=1.0.1->tensorboard<2.10,>=2.9->tensorflow==2.9.0) (2.1.1)\n",
      "Requirement already satisfied: zipp>=0.5 in /home/jupyterlab/conda/envs/python/lib/python3.7/site-packages (from importlib-metadata>=4.4->markdown>=2.6.8->tensorboard<2.10,>=2.9->tensorflow==2.9.0) (3.15.0)\n",
      "Requirement already satisfied: pyasn1<0.6.0,>=0.4.6 in /home/jupyterlab/conda/envs/python/lib/python3.7/site-packages (from pyasn1-modules>=0.2.1->google-auth<3,>=1.6.3->tensorboard<2.10,>=2.9->tensorflow==2.9.0) (0.5.0)\n",
      "Collecting oauthlib>=3.0.0 (from requests-oauthlib>=0.7.0->google-auth-oauthlib<0.5,>=0.4.1->tensorboard<2.10,>=2.9->tensorflow==2.9.0)\n",
      "  Downloading oauthlib-3.2.2-py3-none-any.whl (151 kB)\n",
      "\u001b[2K     \u001b[90m━━━━━━━━━━━━━━━━━━━━━━━━━━━━━━━━━━━━━━\u001b[0m \u001b[32m151.7/151.7 kB\u001b[0m \u001b[31m26.4 MB/s\u001b[0m eta \u001b[36m0:00:00\u001b[0m\n",
      "\u001b[?25hInstalling collected packages: tensorboard-plugin-wit, libclang, keras, flatbuffers, tensorflow-io-gcs-filesystem, tensorflow-estimator, tensorboard-data-server, rsa, protobuf, opt-einsum, oauthlib, h5py, gast, cachetools, astunparse, requests-oauthlib, google-auth, google-auth-oauthlib, tensorboard, tensorflow\n",
      "  Attempting uninstall: keras\n",
      "    Found existing installation: Keras 2.1.6\n",
      "    Uninstalling Keras-2.1.6:\n",
      "      Successfully uninstalled Keras-2.1.6\n",
      "  Attempting uninstall: tensorflow-estimator\n",
      "    Found existing installation: tensorflow-estimator 1.14.0\n",
      "    Uninstalling tensorflow-estimator-1.14.0:\n",
      "      Successfully uninstalled tensorflow-estimator-1.14.0\n",
      "  Attempting uninstall: protobuf\n",
      "    Found existing installation: protobuf 4.21.8\n",
      "    Uninstalling protobuf-4.21.8:\n",
      "      Successfully uninstalled protobuf-4.21.8\n",
      "  Attempting uninstall: h5py\n",
      "    Found existing installation: h5py 2.8.0\n",
      "    Uninstalling h5py-2.8.0:\n",
      "      Successfully uninstalled h5py-2.8.0\n",
      "  Attempting uninstall: gast\n",
      "    Found existing installation: gast 0.5.3\n",
      "    Uninstalling gast-0.5.3:\n",
      "      Successfully uninstalled gast-0.5.3\n",
      "  Attempting uninstall: tensorboard\n",
      "    Found existing installation: tensorboard 1.14.0\n",
      "    Uninstalling tensorboard-1.14.0:\n",
      "      Successfully uninstalled tensorboard-1.14.0\n",
      "  Attempting uninstall: tensorflow\n",
      "    Found existing installation: tensorflow 1.14.0\n",
      "    Uninstalling tensorflow-1.14.0:\n",
      "      Successfully uninstalled tensorflow-1.14.0\n",
      "Successfully installed astunparse-1.6.3 cachetools-5.3.1 flatbuffers-1.12 gast-0.4.0 google-auth-2.22.0 google-auth-oauthlib-0.4.6 h5py-3.8.0 keras-2.9.0 libclang-16.0.6 oauthlib-3.2.2 opt-einsum-3.3.0 protobuf-3.19.6 requests-oauthlib-1.3.1 rsa-4.9 tensorboard-2.9.1 tensorboard-data-server-0.6.1 tensorboard-plugin-wit-1.8.1 tensorflow-2.9.0 tensorflow-estimator-2.9.0 tensorflow-io-gcs-filesystem-0.32.0\n",
      "Requirement already satisfied: pillow==8.1.0 in /home/jupyterlab/conda/envs/python/lib/python3.7/site-packages (8.1.0)\n"
     ]
    }
   ],
   "source": [
    "!pip install grpcio==1.24.3\n",
    "!pip install tensorflow==2.9.0\n",
    "!pip install pillow==8.1.0"
   ]
  },
  {
   "cell_type": "markdown",
   "metadata": {},
   "source": [
    "<b>Notice:</b> This notebook has been created with TensorFlow version 2.9.0, and might not work with other versions. Therefore we check:\n"
   ]
  },
  {
   "cell_type": "code",
   "execution_count": 3,
   "metadata": {
    "tags": []
   },
   "outputs": [
    {
     "name": "stderr",
     "output_type": "stream",
     "text": [
      "2023-07-24 05:48:22.799933: I tensorflow/core/util/util.cc:169] oneDNN custom operations are on. You may see slightly different numerical results due to floating-point round-off errors from different computation orders. To turn them off, set the environment variable `TF_ENABLE_ONEDNN_OPTS=0`.\n",
      "2023-07-24 05:48:22.805177: W tensorflow/stream_executor/platform/default/dso_loader.cc:64] Could not load dynamic library 'libcudart.so.11.0'; dlerror: libcudart.so.11.0: cannot open shared object file: No such file or directory\n",
      "2023-07-24 05:48:22.805208: I tensorflow/stream_executor/cuda/cudart_stub.cc:29] Ignore above cudart dlerror if you do not have a GPU set up on your machine.\n"
     ]
    }
   ],
   "source": [
    "import tensorflow as tf\n",
    "from IPython.display import Markdown, display\n",
    "\n",
    "def printmd(string):\n",
    "    display(Markdown('# <span style=\"color:red\">'+string+'</span>'))\n",
    "\n",
    "\n",
    "if not tf.__version__ == '2.9.0':\n",
    "    printmd('<<<<<!!!!! ERROR !!!! please upgrade to TensorFlow 2.9.0, or restart your Kernel (Kernel->Restart & Clear Output)>>>>>')"
   ]
  },
  {
   "cell_type": "markdown",
   "metadata": {},
   "source": [
    "Now, we load in all the packages that we use to create the net including the TensorFlow package:\n"
   ]
  },
  {
   "cell_type": "code",
   "execution_count": 4,
   "metadata": {
    "tags": []
   },
   "outputs": [
    {
     "ename": "ModuleNotFoundError",
     "evalue": "No module named 'utils'",
     "output_type": "error",
     "traceback": [
      "\u001b[0;31m---------------------------------------------------------------------------\u001b[0m",
      "\u001b[0;31mModuleNotFoundError\u001b[0m                       Traceback (most recent call last)",
      "\u001b[0;32m/tmp/ipykernel_76/1638510450.py\u001b[0m in \u001b[0;36m<module>\u001b[0;34m\u001b[0m\n\u001b[1;32m      3\u001b[0m \u001b[0;34m\u001b[0m\u001b[0m\n\u001b[1;32m      4\u001b[0m \u001b[0;32mfrom\u001b[0m \u001b[0mPIL\u001b[0m \u001b[0;32mimport\u001b[0m \u001b[0mImage\u001b[0m\u001b[0;34m\u001b[0m\u001b[0;34m\u001b[0m\u001b[0m\n\u001b[0;32m----> 5\u001b[0;31m \u001b[0;32mfrom\u001b[0m \u001b[0mutils\u001b[0m \u001b[0;32mimport\u001b[0m \u001b[0mtile_raster_images\u001b[0m\u001b[0;34m\u001b[0m\u001b[0;34m\u001b[0m\u001b[0m\n\u001b[0m\u001b[1;32m      6\u001b[0m \u001b[0;32mimport\u001b[0m \u001b[0mmatplotlib\u001b[0m\u001b[0;34m.\u001b[0m\u001b[0mpyplot\u001b[0m \u001b[0;32mas\u001b[0m \u001b[0mplt\u001b[0m\u001b[0;34m\u001b[0m\u001b[0;34m\u001b[0m\u001b[0m\n\u001b[1;32m      7\u001b[0m \u001b[0mget_ipython\u001b[0m\u001b[0;34m(\u001b[0m\u001b[0;34m)\u001b[0m\u001b[0;34m.\u001b[0m\u001b[0mrun_line_magic\u001b[0m\u001b[0;34m(\u001b[0m\u001b[0;34m'matplotlib'\u001b[0m\u001b[0;34m,\u001b[0m \u001b[0;34m'inline'\u001b[0m\u001b[0;34m)\u001b[0m\u001b[0;34m\u001b[0m\u001b[0;34m\u001b[0m\u001b[0m\n",
      "\u001b[0;31mModuleNotFoundError\u001b[0m: No module named 'utils'"
     ]
    }
   ],
   "source": [
    "import tensorflow as tf\n",
    "import numpy as np\n",
    "\n",
    "from PIL import Image\n",
    "from utils import tile_raster_images\n",
    "import matplotlib.pyplot as plt\n",
    "%matplotlib inline"
   ]
  },
  {
   "cell_type": "code",
   "execution_count": 30,
   "metadata": {
    "tags": []
   },
   "outputs": [],
   "source": [
    "import matplotlib.pyplot as plt\n",
    "%matplotlib inline"
   ]
  },
  {
   "cell_type": "markdown",
   "metadata": {},
   "source": [
    "<hr>\n"
   ]
  },
  {
   "cell_type": "markdown",
   "metadata": {},
   "source": [
    "<a id=\"ref2\"></a>\n",
    "<h3>RBM layers</h3>\n",
    "\n",
    "An RBM has two layers. The first layer of the RBM is called the <b>visible</b> (or input layer). Imagine that our toy example, has only vectors with 7 values, so the visible layer must have $V=7$ input nodes. \n",
    "The second layer is the <b>hidden</b> layer, which has $H$ neurons in our case. Each hidden node takes on values of either 0 or 1 (i.e., $h_i = 1$ or $h_i$ = 0), with a probability that is a logistic function of the inputs it receives from the other $V$ visible units, called for example, $p(h_i = 1)$. For our toy sample, we'll use 2 nodes in the hidden layer, so $H = 2$.\n",
    "\n",
    "<center><img src=\"https://ibm.box.com/shared/static/eu26opvcefgls6vnwuo29uwp0nudmokh.png\" alt=\"RBM Model\" style=\"width: 400px;\"></center>\n"
   ]
  },
  {
   "cell_type": "markdown",
   "metadata": {},
   "source": [
    "     \n",
    "\n",
    "Each node in the first layer also has a <b>bias</b>. We will denote the bias as $v_{bias}$, and this single value is shared among the $V$ visible units.\n",
    "\n",
    "The <b>bias</b> of the second is defined similarly as $h_{bias}$, and this single value among the $H$ hidden units.\n"
   ]
  },
  {
   "cell_type": "code",
   "execution_count": 5,
   "metadata": {
    "tags": []
   },
   "outputs": [
    {
     "name": "stderr",
     "output_type": "stream",
     "text": [
      "2023-07-24 05:48:57.738523: W tensorflow/stream_executor/platform/default/dso_loader.cc:64] Could not load dynamic library 'libcuda.so.1'; dlerror: libcuda.so.1: cannot open shared object file: No such file or directory\n",
      "2023-07-24 05:48:57.738585: W tensorflow/stream_executor/cuda/cuda_driver.cc:269] failed call to cuInit: UNKNOWN ERROR (303)\n",
      "2023-07-24 05:48:57.738623: I tensorflow/stream_executor/cuda/cuda_diagnostics.cc:156] kernel driver does not appear to be running on this host (jupyterlab-chongnating): /proc/driver/nvidia/version does not exist\n",
      "2023-07-24 05:48:57.739222: I tensorflow/core/platform/cpu_feature_guard.cc:193] This TensorFlow binary is optimized with oneAPI Deep Neural Network Library (oneDNN) to use the following CPU instructions in performance-critical operations:  AVX2 AVX512F AVX512_VNNI FMA\n",
      "To enable them in other operations, rebuild TensorFlow with the appropriate compiler flags.\n"
     ]
    }
   ],
   "source": [
    "v_bias = tf.Variable(tf.zeros([7]), tf.float32)\n",
    "h_bias = tf.Variable(tf.zeros([2]), tf.float32)"
   ]
  },
  {
   "cell_type": "markdown",
   "metadata": {},
   "source": [
    "We have to define weights among the input layer and hidden layer nodes. In the weight matrix, the number of rows are equal to the input nodes, and the number of columns are equal to the output nodes. We define a tensor $\\mathbf{W}$ of shape = (7,2), where the number of visible neurons = 7, and the number of hidden neurons = 2. \n"
   ]
  },
  {
   "cell_type": "code",
   "execution_count": 6,
   "metadata": {
    "tags": []
   },
   "outputs": [],
   "source": [
    "W = tf.constant(np.random.normal(loc=0.0, scale=1.0, size=(7, 2)).astype(np.float32))"
   ]
  },
  {
   "cell_type": "markdown",
   "metadata": {},
   "source": [
    "<hr>\n"
   ]
  },
  {
   "cell_type": "markdown",
   "metadata": {},
   "source": [
    "<a id=\"ref3\"></a>\n",
    "<h3>What RBM can do after training?</h3>\n",
    "Think of RBM as a model that has been trained based on images of a dataset of many SUV and sedan cars. Also, imagine that the RBM network has only two hidden nodes, where one node encodes the weight and, and the other encodes the size.  \n",
    "In a sense, the different configurations represent different cars, where one is an SUV and the other is Sedan.  In a training process, through many forward and backward passes, the RBM adjust its weights to send a stronger signal to either the SUV node (0, 1) or the sedan node (1, 0) in the hidden layer, given the pixels of images. Now, given an SUV in hidden layer, which distribution of pixels should we expect? RBM can give you 2 things. First, it encodes your images in hidden layer. Second, it gives you the probability of observing a case, given some hidden values.\n",
    "\n",
    "\n",
    "<h3>The Inference Process</h3>\n",
    "\n",
    "RBM has two phases:\n",
    "<ul>\n",
    "    <li>Forward Pass</li>  \n",
    "    <li>Backward Pass or Reconstruction</li>\n",
    "</ul>\n",
    "\n",
    "<b>Phase 1) Forward pass:</b>  \n",
    "\n",
    "Input one training sample (one image) $\\mathbf{x}$ through all visible nodes, and pass it to all hidden nodes. Processing happens in each node in the hidden layer. This computation begins by making stochastic decisions about whether to transmit that input or not (i.e. to determine the state of each hidden layer).  First, the probability vector is computed using the input feature vector $\\mathbf{x}$, the weight matrix $\\mathbf{W}$, and the bias term $h_{bias}$, as \n",
    "\n",
    "\n",
    "$$p({h_j}|\\mathbf x)= \\sigma( \\sum_{i=1}^V W_{ij} x_i + h_{bias} )$$, \n",
    "\n",
    "where $\\sigma(z) = (1+e^{-z})^{-1}$ is the logistic function.\n",
    "\n",
    "\n",
    "So, what does $p({h_j})$ represent? It is the <b>probability distribution</b> of the hidden units. That is, RBM uses inputs $x_i$ to make predictions about hidden node activations. For example, imagine that the hidden node activation values are [0.51 0.84] for the first training item. It tells you that the conditional probability for each hidden neuron for Phase 1 is: \n",
    "\n",
    "$$p(h_{1} = 1|\\mathbf{v}) = 0.51$$\n",
    "$$p(h_{2} = 1|\\mathbf{v}) = 0.84$$\n",
    "\n",
    "As a result, for each row in the training set, vector of probabilities is generated.  In TensorFlow, this is referred to as a `tensor` with a shape of (1,2). \n",
    "\n",
    "We then turn unit $j$ with probability $p(h_{j}|\\mathbf{v})$, and turn it off with probability $1 - p(h_{j}|\\mathbf{v})$ by generating a uniform random number vector $\\mathbf{\\xi}$, and comparing it to the activation probability as \n",
    "\n",
    "<center>If $\\xi_j>p(h_{j}|\\mathbf{v})$, then $h_j=1$, else $h_j=0$.</center>\n",
    "\n",
    "\n",
    "Therefore, the conditional probability of a configuration of $\\mathbf{h}$ given $\\mathbf{v}$ (for a training sample) is:\n",
    "\n",
    "$$p(\\mathbf{h} \\mid \\mathbf{v}) = \\prod_{j=1}^H p(h_j \\mid \\mathbf{v})$$\n",
    "\n",
    "\n",
    "where $H$ is the number of hidden units.\n",
    "\n"
   ]
  },
  {
   "cell_type": "markdown",
   "metadata": {},
   "source": [
    "Before we go further, let's look at a toy example for one case out of all input. Assume that we have a trained RBM, and a very simple input vector, such as [1.0, 0.0, 0.0, 1.0, 0.0, 0.0, 0.0].   \n",
    "Let's see what the output of forward pass would look like:\n"
   ]
  },
  {
   "cell_type": "code",
   "execution_count": 13,
   "metadata": {
    "tags": []
   },
   "outputs": [
    {
     "name": "stdout",
     "output_type": "stream",
     "text": [
      "Input:  tf.Tensor([[1. 0. 0. 1. 0. 0. 0.]], shape=(1, 7), dtype=float32)\n",
      "hb:  tf.Tensor([0.1 0.1], shape=(2,), dtype=float32)\n",
      "w:  tf.Tensor(\n",
      "[[-0.89376396  0.96975034]\n",
      " [-0.00264857 -0.05175554]\n",
      " [-0.74990904  0.56633973]\n",
      " [ 0.45330134  0.7815057 ]\n",
      " [-0.7288774   1.3662297 ]\n",
      " [ 0.09444872  0.1255454 ]\n",
      " [ 0.24905276 -1.6714774 ]], shape=(7, 2), dtype=float32)\n",
      "p(h|v):  tf.Tensor([[0.41569713 0.8642745 ]], shape=(1, 2), dtype=float32)\n",
      "h0 states: tf.Tensor([[0. 1.]], shape=(1, 2), dtype=float32)\n"
     ]
    }
   ],
   "source": [
    "X = tf.constant([[1.0, 0.0, 0.0, 1.0, 0.0, 0.0, 0.0]], tf.float32)\n",
    "\n",
    "v_state = X\n",
    "print (\"Input: \", v_state)\n",
    "\n",
    "h_bias = tf.constant([0.1, 0.1])\n",
    "print (\"hb: \", h_bias)\n",
    "print (\"w: \", W)\n",
    "\n",
    "# Calculate the probabilities of turning the hidden units on:\n",
    "h_prob = tf.nn.sigmoid(tf.matmul(v_state, W) + h_bias)  #probabilities of the hidden units\n",
    "print (\"p(h|v): \", h_prob)\n",
    "\n",
    "# Draw samples from the distribution:\n",
    "h_state = tf.nn.relu(tf.sign(h_prob - tf.random.uniform(tf.shape(h_prob)))) #states\n",
    "print (\"h0 states:\", h_state)"
   ]
  },
  {
   "cell_type": "code",
   "execution_count": 14,
   "metadata": {
    "tags": []
   },
   "outputs": [
    {
     "data": {
      "text/plain": [
       "<tf.Tensor: shape=(1, 2), dtype=float32, numpy=array([[-0.09140632,  0.26923907]], dtype=float32)>"
      ]
     },
     "execution_count": 14,
     "metadata": {},
     "output_type": "execute_result"
    }
   ],
   "source": [
    "h_prob - tf.random.uniform(tf.shape(h_prob))"
   ]
  },
  {
   "cell_type": "code",
   "execution_count": 15,
   "metadata": {
    "tags": []
   },
   "outputs": [
    {
     "data": {
      "text/plain": [
       "<tf.Tensor: shape=(1, 2), dtype=float32, numpy=array([[1., 1.]], dtype=float32)>"
      ]
     },
     "execution_count": 15,
     "metadata": {},
     "output_type": "execute_result"
    }
   ],
   "source": [
    "tf.sign(h_prob - tf.random.uniform(tf.shape(h_prob)))"
   ]
  },
  {
   "cell_type": "code",
   "execution_count": 16,
   "metadata": {
    "tags": []
   },
   "outputs": [
    {
     "data": {
      "text/plain": [
       "<tf.Tensor: shape=(1, 2), dtype=float32, numpy=array([[0., 1.]], dtype=float32)>"
      ]
     },
     "execution_count": 16,
     "metadata": {},
     "output_type": "execute_result"
    }
   ],
   "source": [
    "tf.nn.relu(tf.sign(h_prob - tf.random.uniform(tf.shape(h_prob))))"
   ]
  },
  {
   "cell_type": "markdown",
   "metadata": {},
   "source": [
    "<b>Phase 2) Backward Pass (Reconstruction):</b>\n",
    "The RBM reconstructs data by making several forward and backward passes between the visible and hidden layers.\n",
    "\n",
    "So, in the second phase (i.e. reconstruction phase), the samples from the hidden layer (i.e. $\\mathbf h$) becomes the input in the backward pass. The same weight matrix and visible layer biases are used to passed to the sigmoid function. The reproduced output is a reconstruction which is an approximation of the original input.\n"
   ]
  },
  {
   "cell_type": "code",
   "execution_count": 17,
   "metadata": {
    "tags": []
   },
   "outputs": [
    {
     "name": "stdout",
     "output_type": "stream",
     "text": [
      "b:  tf.Tensor([0.1 0.2 0.1 0.1 0.1 0.2 0.1], shape=(7,), dtype=float32)\n",
      "p(vi∣h):  tf.Tensor(\n",
      "[[0.74454945 0.53699344 0.6606831  0.7071341  0.81248367 0.5806751\n",
      "  0.17200588]], shape=(1, 7), dtype=float32)\n",
      "v probability states:  tf.Tensor([[1. 0. 1. 0. 1. 0. 0.]], shape=(1, 7), dtype=float32)\n"
     ]
    }
   ],
   "source": [
    "vb = tf.constant([0.1, 0.2, 0.1, 0.1, 0.1, 0.2, 0.1])\n",
    "print (\"b: \", vb)\n",
    "v_prob = tf.nn.sigmoid(tf.matmul(h_state, tf.transpose(W)) + vb)\n",
    "print (\"p(vi∣h): \", v_prob)\n",
    "v_state = tf.nn.relu(tf.sign(v_prob - tf.random.uniform(tf.shape(v_prob))))\n",
    "print (\"v probability states: \", v_state)"
   ]
  },
  {
   "cell_type": "markdown",
   "metadata": {},
   "source": [
    "RBM learns a probability distribution over the input, and then, after being trained, the RBM can generate new samples from the learned probability distribution. As you know, <b>probability distribution</b>, is a mathematical function that provides the probabilities of occurrence of different possible outcomes in an experiment.\n",
    "\n",
    "The (conditional) probability distribution over the visible units v is given by\n",
    "\n",
    "$$p(\\mathbf{v} \\mid \\mathbf{h}) = \\prod_{i=1}^V p(v_i \\mid \\mathbf{h}),$$\n",
    "\n",
    "\n",
    "where,\n",
    "\n",
    "$$p(v_i \\mid \\mathbf{h}) = \\sigma\\left(\\sum_{j=1}^H W_{ji} h_j + v_{bias} \\right)$$\n",
    "\n",
    "so, given current state of hidden units and weights, what is the probability of generating [1. 0. 0. 1. 0. 0. 0.] in reconstruction phase, based on the above <b>probability distribution</b> function?\n"
   ]
  },
  {
   "cell_type": "code",
   "execution_count": 18,
   "metadata": {
    "tags": []
   },
   "outputs": [
    {
     "name": "stdout",
     "output_type": "stream",
     "text": [
      "input X: [[1. 0. 0. 1. 0. 0. 0.]]\n",
      "probablity vector: [0.74454945 0.53699344 0.6606831  0.7071341  0.81248367 0.5806751\n",
      " 0.17200588]\n",
      "probability of generating X:  0.0053852387\n"
     ]
    }
   ],
   "source": [
    "inp = X\n",
    "print(\"input X:\" , inp.numpy())\n",
    "\n",
    "print(\"probablity vector:\" , v_prob[0].numpy())\n",
    "v_probability = 1\n",
    "\n",
    "for elm, p in zip(inp[0],v_prob[0]) :\n",
    "    if elm ==1:\n",
    "        v_probability *= p\n",
    "    else:\n",
    "        v_probability *= (1-p)\n",
    "\n",
    "print(\"probability of generating X: \" , v_probability.numpy())"
   ]
  },
  {
   "cell_type": "markdown",
   "metadata": {},
   "source": [
    "How similar are vectors $\\mathbf{x}$ and $\\mathbf{v}$? Of course, the reconstructed values most likely will not look anything like the input vector, because our network has not been trained yet. Our objective is to train the model in such a way that the input vector and reconstructed vector to be same. Therefore, based on how different the input values look to the ones that we just reconstructed, the weights are adjusted. \n"
   ]
  },
  {
   "cell_type": "markdown",
   "metadata": {},
   "source": [
    "<hr>\n"
   ]
  },
  {
   "cell_type": "markdown",
   "metadata": {},
   "source": [
    "\n",
    "<h2>MNIST</h2>\n"
   ]
  },
  {
   "cell_type": "markdown",
   "metadata": {},
   "source": [
    "We will be using the MNIST dataset to practice the usage of RBMs. The following cell loads the MNIST dataset.\n"
   ]
  },
  {
   "cell_type": "code",
   "execution_count": 19,
   "metadata": {
    "tags": []
   },
   "outputs": [
    {
     "name": "stdout",
     "output_type": "stream",
     "text": [
      "Downloading data from https://storage.googleapis.com/tensorflow/tf-keras-datasets/mnist.npz\n",
      "11490434/11490434 [==============================] - 0s 0us/step\n"
     ]
    }
   ],
   "source": [
    "#loading training and test data\n",
    "mnist = tf.keras.datasets.mnist\n",
    "(trX, trY), (teX, teY) = mnist.load_data()\n",
    "\n",
    "# showing an example of the Flatten class and operation\n",
    "from tensorflow.keras.layers import Flatten\n",
    "flatten = Flatten(dtype='float32')\n",
    "trX = flatten(trX/255.0)\n",
    "trY = flatten(trY/255.0)"
   ]
  },
  {
   "cell_type": "markdown",
   "metadata": {},
   "source": [
    "Lets look at the dimension of the images.\n"
   ]
  },
  {
   "cell_type": "markdown",
   "metadata": {},
   "source": [
    "MNIST images have 784 pixels, so the visible layer must have 784 input nodes.  For our case, we'll use 50 nodes in the hidden layer, so i = 50.\n"
   ]
  },
  {
   "cell_type": "code",
   "execution_count": 20,
   "metadata": {
    "tags": []
   },
   "outputs": [],
   "source": [
    "vb = tf.Variable(tf.zeros([784]), tf.float32)\n",
    "hb = tf.Variable(tf.zeros([50]), tf.float32)"
   ]
  },
  {
   "cell_type": "markdown",
   "metadata": {},
   "source": [
    "Let $\\mathbf W$ be the Tensor of 784x50 (784 - number of visible neurons, 50 - number of hidden neurons) that represents weights between the neurons. \n"
   ]
  },
  {
   "cell_type": "code",
   "execution_count": 21,
   "metadata": {
    "tags": []
   },
   "outputs": [],
   "source": [
    "W = tf.Variable(tf.zeros([784,50]), tf.float32)"
   ]
  },
  {
   "cell_type": "markdown",
   "metadata": {},
   "source": [
    "Lets define the visible layer:\n"
   ]
  },
  {
   "cell_type": "code",
   "execution_count": 22,
   "metadata": {
    "tags": []
   },
   "outputs": [
    {
     "data": {
      "text/plain": [
       "<tf.Tensor: shape=(1, 50), dtype=float32, numpy=\n",
       "array([[0., 0., 0., 0., 0., 0., 0., 0., 0., 0., 0., 0., 0., 0., 0., 0.,\n",
       "        0., 0., 0., 0., 0., 0., 0., 0., 0., 0., 0., 0., 0., 0., 0., 0.,\n",
       "        0., 0., 0., 0., 0., 0., 0., 0., 0., 0., 0., 0., 0., 0., 0., 0.,\n",
       "        0., 0.]], dtype=float32)>"
      ]
     },
     "execution_count": 22,
     "metadata": {},
     "output_type": "execute_result"
    }
   ],
   "source": [
    "v0_state = tf.Variable(tf.zeros([784]), tf.float32)\n",
    "\n",
    "#testing to see if the matrix product works\n",
    "tf.matmul( [v0_state], W)"
   ]
  },
  {
   "cell_type": "markdown",
   "metadata": {},
   "source": [
    "Now, we can define hidden layer:\n"
   ]
  },
  {
   "cell_type": "code",
   "execution_count": 23,
   "metadata": {
    "tags": []
   },
   "outputs": [
    {
     "name": "stdout",
     "output_type": "stream",
     "text": [
      "h0_state shape:  tf.Tensor([ 1 50], shape=(2,), dtype=int32)\n",
      "first 15 hidden states:  tf.Tensor([0. 1. 1. 1. 1. 1. 0. 0. 1. 1. 0. 1. 1. 0. 1.], shape=(15,), dtype=float32)\n"
     ]
    }
   ],
   "source": [
    "#computing the hidden nodes probability vector and checking shape\n",
    "h0_prob = tf.nn.sigmoid(tf.matmul([v0_state], W) + hb)  #probabilities of the hidden units\n",
    "print(\"h0_state shape: \" , tf.shape(h0_prob))\n",
    "\n",
    "#defining a function to return only the generated hidden states \n",
    "def hidden_layer(v0_state, W, hb):\n",
    "    h0_prob = tf.nn.sigmoid(tf.matmul([v0_state], W) + hb)  #probabilities of the hidden units\n",
    "    h0_state = tf.nn.relu(tf.sign(h0_prob - tf.random.uniform(tf.shape(h0_prob)))) #sample_h_given_X\n",
    "    return h0_state\n",
    "\n",
    "\n",
    "h0_state = hidden_layer(v0_state, W, hb)\n",
    "print(\"first 15 hidden states: \", h0_state[0][0:15])"
   ]
  },
  {
   "cell_type": "markdown",
   "metadata": {},
   "source": [
    "Now, we define reconstruction part:\n"
   ]
  },
  {
   "cell_type": "code",
   "execution_count": 24,
   "metadata": {
    "tags": []
   },
   "outputs": [
    {
     "name": "stdout",
     "output_type": "stream",
     "text": [
      "hidden state shape:  (1, 50)\n",
      "v0 state shape:   (784,)\n",
      "v1 state shape:   (784,)\n"
     ]
    }
   ],
   "source": [
    "def reconstructed_output(h0_state, W, vb):\n",
    "    v1_prob = tf.nn.sigmoid(tf.matmul(h0_state, tf.transpose(W)) + vb) \n",
    "    v1_state = tf.nn.relu(tf.sign(v1_prob - tf.random.uniform(tf.shape(v1_prob)))) #sample_v_given_h\n",
    "    return v1_state[0]\n",
    "\n",
    "v1_state = reconstructed_output(h0_state, W, vb)\n",
    "print(\"hidden state shape: \", h0_state.shape)\n",
    "print(\"v0 state shape:  \", v0_state.shape)\n",
    "print(\"v1 state shape:  \", v1_state.shape)"
   ]
  },
  {
   "cell_type": "markdown",
   "metadata": {},
   "source": [
    "<h3>What is the objective function?</h3>\n",
    "\n",
    "<b>Goal</b>: Maximize the likelihood of our data being drawn from that distribution\n",
    "\n",
    "<b>Calculate error:</b>  \n",
    "In each epoch, we compute the \"error\" as a sum of the squared difference between step 1 and step n,\n",
    "e.g the error shows the difference between the data and its reconstruction.\n",
    "\n",
    "<b>Note:</b> tf.reduce_mean computes the mean of elements across dimensions of a tensor.\n"
   ]
  },
  {
   "cell_type": "code",
   "execution_count": 25,
   "metadata": {
    "tags": []
   },
   "outputs": [
    {
     "name": "stdout",
     "output_type": "stream",
     "text": [
      "error 0.50510204\n"
     ]
    }
   ],
   "source": [
    "def error(v0_state, v1_state):\n",
    "    return tf.reduce_mean(tf.square(v0_state - v1_state))\n",
    "\n",
    "err = tf.reduce_mean(tf.square(v0_state - v1_state))\n",
    "print(\"error\" , err.numpy())"
   ]
  },
  {
   "cell_type": "markdown",
   "metadata": {},
   "source": [
    "<a id=\"ref4\"></a>\n",
    "<h3>Training the Model</h3>\n",
    "<b>Warning...</b> The following part is math-heavy, but you can skip it if you just want to run the cells in the next section.\n",
    "\n",
    "As mentioned, we want to give a high probability to the input data we train on. So, in order to train an RBM, we have to maximize the product of probabilities assigned to all rows $\\mathbf{v}$ (images) in the training set $\\mathbf{V}$ (a matrix, where each row of it is treated as a visible vector $\\mathbf{v}$)\n",
    "\n",
    "$$\\arg \\max_W \\prod_{\\mathbf{v}\\in\\mathbf{V}_T} p(\\mathbf{v})$$\n",
    "\n",
    "\n",
    "which is equivalent to maximizing the expectation of the log probability, given as\n",
    "\n",
    "$$\\arg\\max_W\\left[ \\mathbb{E} \\left(\\prod_{\\mathbf v\\in \\mathbf V}\\text{log} \\left(p(\\mathbf v)\\right) \\right) \\right].$$\n",
    "\n",
    "\n",
    "So, we have to update the weights $W_{ij}$  to increase $p(\\mathbf{v})$ for all $\\mathbf{v}$ in our training data during training. So we have to calculate the derivative:\n",
    "\n",
    "\n",
    "$$\\frac{\\partial \\log p(\\mathbf v)}{\\partial W_{ij}}$$\n",
    "\n",
    "This cannot be easily done by typical <b>gradient descent (SGD)</b>, so we can use another approach, which has 2 steps:\n",
    "<ol>\n",
    "    <li>Gibbs Sampling</li>\n",
    "    <li>Contrastive Divergence</li>\n",
    "</ol>    \n",
    "    \n",
    "<h3>Gibbs Sampling</h3>   \n",
    "\n",
    "<h4>Gibbs Sampling Step 1</h4> \n",
    "Given an input vector $\\mathbf{v}$, we are using $p(\\mathbf{h}|\\mathbf{v})$ to predict the hidden values $\\mathbf{h}$. \n",
    "  $$p({h_j}|\\mathbf v)= \\sigma\\left(\\sum_{i=1}^V W_{ij} v_i + h_{bias} \\right)$$\n",
    "The samples are generated from this distribution by generating the uniform random variate vector $\\mathbf{\\xi} \\sim U[0,1]$ of length $H$ and comparing to the computed probabilities as\n",
    "\n",
    "\n",
    "<center>If $\\xi_j>p(h_{j}|\\mathbf{v})$, then $h_j=1$, else $h_j=0$.</center>\n",
    "\n",
    "\n",
    "<h4>Gibbs Sampling Step 2</h4> \n",
    "Then, knowing the hidden values, we use $p(\\mathbf v| \\mathbf h)$ for reconstructing of new input values v. \n",
    "\n",
    "   $$p({v_i}|\\mathbf h)= \\sigma\\left(\\sum_{j=1}^H W^{T}_{ij} h_j + v_{bias} \\right)$$\n",
    "\n",
    "\n",
    "The samples are generated from this distribution by generating a uniform random variate vector $\\mathbf{\\xi} \\sim U[0,1]$ of length $V$ and comparing to the computed probabilities as\n",
    "\n",
    "<center>If $\\xi_i>p(v_{i}|\\mathbf{h})$, then $v_i=1$, else $v_i=0$.</center>\n",
    "\n",
    "Let vectors $\\mathbf v_k$ and $\\mathbf h_k$ be for the $k$th iteration.  In general, the $kth$ state is generrated as: \n",
    "\n",
    "\n",
    "    \n",
    "<b>Iteration</b> $k$: \n",
    "\n",
    "$$\\mathbf v_{k-1} \\Rightarrow p(\\mathbf h_{k-1}|\\mathbf v_{k-1})\\Rightarrow \\mathbf h_{k-1}\\Rightarrow p(\\mathbf v_{k}|\\mathbf h_{k-1})\\Rightarrow \\mathbf v_k$$       \n",
    "    \n",
    "<h3>Contrastive Divergence (CD-k)</h3>\n",
    "The update of the weight matrix is done during the Contrastive Divergence step. \n",
    "\n",
    "Vectors v0 and vk are used to calculate the activation probabilities for hidden values h0 and hk. The difference between the outer products of those probabilities with input vectors v0 and vk results in the update matrix:\n",
    "\n",
    "\n",
    "$$\\Delta \\mathbf W_k =\\mathbf v_k \\otimes \\mathbf h_k - \\mathbf v_{k-1} \\otimes \\mathbf h_{k-1}$$\n",
    "\n",
    "Contrastive Divergence is actually matrix of values that is computed and used to adjust values of the $\\mathbf W$ matrix. Changing $\\mathbf W$ incrementally leads to training of the  $\\mathbf W$ values. Then, on each step (epoch), $\\mathbf W$ is updated using the following:\n",
    "\n",
    "$$\\mathbf W_k = \\mathbf W_{k-1} + \\alpha * \\Delta \\mathbf W_k$$\n",
    "\n",
    "\n",
    "\n",
    "Reconstruction steps:\n",
    "<ul>\n",
    "    <li> Get one data point from data set, like <i>x</i>, and pass it through the following steps:</li>\n",
    "    \n",
    "<b>Iteration</b> $k=1$: \n",
    "    \n",
    "Sampling (starting with input image)\n",
    "    $$\\mathbf x = \\mathbf v_0 \\Rightarrow p(\\mathbf h_0|\\mathbf v_0)\\Rightarrow \\mathbf h_0 \\Rightarrow p(\\mathbf v_1|\\mathbf h_0)\\Rightarrow \\mathbf v_1$$   \n",
    "    followed by the CD-k step\n",
    "$$\\Delta \\mathbf W_1 =\\mathbf v_1 \\otimes \\mathbf h_1 - \\mathbf v_{0} \\otimes \\mathbf h_{0}$$     \n",
    "$$\\mathbf W_1 = \\mathbf W_{0} + \\alpha * \\Delta \\mathbf W_1$$ \n",
    " \n",
    "<li> $\\mathbf v_1$ is the reconstruction of $\\mathbf x$ sent to the next iteration).</li>\n",
    "\n",
    "<b>Iteration</b> $k=2$: \n",
    "\n",
    "Sampling (starting with $\\mathbf v_1$)\n",
    "\n",
    "$$\\mathbf v_1 \\Rightarrow p(\\mathbf h_1|\\mathbf v_1)\\Rightarrow \\mathbf h_1\\Rightarrow p(\\mathbf v_2|\\mathbf h_1)\\Rightarrow \\mathbf v_2$$   \n",
    "\n",
    "followed by the CD-k step\n",
    "$$\\Delta \\mathbf W_2 =\\mathbf v_2 \\otimes \\mathbf h_2 - \\mathbf v_{1} \\otimes \\mathbf h_{1}$$     \n",
    "$$\\mathbf W_2 = \\mathbf W_{1} + \\alpha * \\Delta \\mathbf W_2$$ \n",
    "\n",
    "<li> $\\mathbf v_2$ is the reconstruction of $\\mathbf v_1$ sent to the next iteration).</li>    \n",
    "      \n",
    "<b>Iteration</b> $k=K$:\n",
    "    \n",
    "Sampling (starting with $\\mathbf v_{K-1}$)\n",
    "\n",
    "$$\\mathbf v_{K-1} \\Rightarrow p(\\mathbf h_{K-1}|\\mathbf v_{K-1})\\Rightarrow \\mathbf h_{K-1}\\Rightarrow p(\\mathbf v_K|\\mathbf h_{K-1})\\Rightarrow \\mathbf v_K$$   \n",
    "\n",
    "followed by the CD-k step\n",
    "$$\\Delta \\mathbf W_K =\\mathbf v_K \\otimes \\mathbf h_K - \\mathbf v_{K-1} \\otimes \\mathbf h_{K-1}$$     \n",
    "$$\\mathbf W_K = \\mathbf W_{K-1} + \\alpha * \\Delta \\mathbf W_K$$ \n",
    "    \n",
    "<b>What is $\\alpha$?</b>  \n",
    "Here, alpha is some small step size, and is also known as the \"learning rate\".\n"
   ]
  },
  {
   "cell_type": "markdown",
   "metadata": {},
   "source": [
    "$K$ is adjustable, and good performance can be achieved with $K=1$, so that we just take one set of sampling steps per image.\n"
   ]
  },
  {
   "cell_type": "code",
   "execution_count": 26,
   "metadata": {
    "tags": []
   },
   "outputs": [],
   "source": [
    "h1_prob = tf.nn.sigmoid(tf.matmul([v1_state], W) + hb)\n",
    "h1_state = tf.nn.relu(tf.sign(h1_prob - tf.random.uniform(tf.shape(h1_prob)))) #sample_h_given_X"
   ]
  },
  {
   "cell_type": "markdown",
   "metadata": {},
   "source": [
    "Lets look at the error of the first run:\n"
   ]
  },
  {
   "cell_type": "code",
   "execution_count": 27,
   "metadata": {
    "tags": []
   },
   "outputs": [
    {
     "name": "stdout",
     "output_type": "stream",
     "text": [
      "error:  tf.Tensor(0.50510204, shape=(), dtype=float32)\n"
     ]
    }
   ],
   "source": [
    "print(\"error: \", error(v0_state, v1_state))"
   ]
  },
  {
   "cell_type": "code",
   "execution_count": 28,
   "metadata": {
    "tags": []
   },
   "outputs": [
    {
     "name": "stdout",
     "output_type": "stream",
     "text": [
      "Epoch: 0 batch #: 1  of 300 sample #: 199 reconstruction error: 0.154399\n",
      "Epoch: 0 batch #: 2  of 300 sample #: 199 reconstruction error: 0.224227\n",
      "Epoch: 0 batch #: 3  of 300 sample #: 199 reconstruction error: 0.112106\n",
      "Epoch: 0 batch #: 4  of 300 sample #: 199 reconstruction error: 0.130068\n",
      "Epoch: 0 batch #: 5  of 300 sample #: 199 reconstruction error: 0.112593\n",
      "Epoch: 0 batch #: 6  of 300 sample #: 199 reconstruction error: 0.180406\n",
      "Epoch: 0 batch #: 7  of 300 sample #: 199 reconstruction error: 0.083017\n",
      "Epoch: 0 batch #: 8  of 300 sample #: 199 reconstruction error: 0.127057\n",
      "Epoch: 0 batch #: 9  of 300 sample #: 199 reconstruction error: 0.084951\n",
      "Epoch: 0 batch #: 10  of 300 sample #: 199 reconstruction error: 0.179622\n",
      "Epoch: 0 batch #: 11  of 300 sample #: 199 reconstruction error: 0.094102\n",
      "Epoch: 0 batch #: 12  of 300 sample #: 199 reconstruction error: 0.123280\n",
      "Epoch: 0 batch #: 13  of 300 sample #: 199 reconstruction error: 0.048217\n",
      "Epoch: 0 batch #: 14  of 300 sample #: 199 reconstruction error: 0.098916\n",
      "Epoch: 0 batch #: 15  of 300 sample #: 199 reconstruction error: 0.097390\n",
      "Epoch: 0 batch #: 16  of 300 sample #: 199 reconstruction error: 0.114365\n",
      "Epoch: 0 batch #: 17  of 300 sample #: 199 reconstruction error: 0.069040\n",
      "Epoch: 0 batch #: 18  of 300 sample #: 199 reconstruction error: 0.117384\n",
      "Epoch: 0 batch #: 19  of 300 sample #: 199 reconstruction error: 0.137585\n",
      "Epoch: 0 batch #: 20  of 300 sample #: 199 reconstruction error: 0.085460\n",
      "Epoch: 0 batch #: 21  of 300 sample #: 199 reconstruction error: 0.083896\n",
      "Epoch: 0 batch #: 22  of 300 sample #: 199 reconstruction error: 0.080595\n",
      "Epoch: 0 batch #: 23  of 300 sample #: 199 reconstruction error: 0.113061\n",
      "Epoch: 0 batch #: 24  of 300 sample #: 199 reconstruction error: 0.123339\n",
      "Epoch: 0 batch #: 25  of 300 sample #: 199 reconstruction error: 0.100115\n",
      "Epoch: 0 batch #: 26  of 300 sample #: 199 reconstruction error: 0.091263\n",
      "Epoch: 0 batch #: 27  of 300 sample #: 199 reconstruction error: 0.103671\n",
      "Epoch: 0 batch #: 28  of 300 sample #: 199 reconstruction error: 0.078633\n",
      "Epoch: 0 batch #: 29  of 300 sample #: 199 reconstruction error: 0.096364\n",
      "Epoch: 0 batch #: 30  of 300 sample #: 199 reconstruction error: 0.084842\n",
      "Epoch: 0 batch #: 31  of 300 sample #: 199 reconstruction error: 0.090583\n",
      "Epoch: 0 batch #: 32  of 300 sample #: 199 reconstruction error: 0.112171\n",
      "Epoch: 0 batch #: 33  of 300 sample #: 199 reconstruction error: 0.050939\n",
      "Epoch: 0 batch #: 34  of 300 sample #: 199 reconstruction error: 0.072379\n",
      "Epoch: 0 batch #: 35  of 300 sample #: 199 reconstruction error: 0.071854\n",
      "Epoch: 0 batch #: 36  of 300 sample #: 199 reconstruction error: 0.068627\n",
      "Epoch: 0 batch #: 37  of 300 sample #: 199 reconstruction error: 0.062023\n",
      "Epoch: 0 batch #: 38  of 300 sample #: 199 reconstruction error: 0.058758\n",
      "Epoch: 0 batch #: 39  of 300 sample #: 199 reconstruction error: 0.111730\n",
      "Epoch: 0 batch #: 40  of 300 sample #: 199 reconstruction error: 0.112484\n",
      "Epoch: 0 batch #: 41  of 300 sample #: 199 reconstruction error: 0.071545\n",
      "Epoch: 0 batch #: 42  of 300 sample #: 199 reconstruction error: 0.063479\n",
      "Epoch: 0 batch #: 43  of 300 sample #: 199 reconstruction error: 0.116875\n",
      "Epoch: 0 batch #: 44  of 300 sample #: 199 reconstruction error: 0.078208\n",
      "Epoch: 0 batch #: 45  of 300 sample #: 199 reconstruction error: 0.058941\n",
      "Epoch: 0 batch #: 46  of 300 sample #: 199 reconstruction error: 0.036248\n",
      "Epoch: 0 batch #: 47  of 300 sample #: 199 reconstruction error: 0.030501\n",
      "Epoch: 0 batch #: 48  of 300 sample #: 199 reconstruction error: 0.037025\n",
      "Epoch: 0 batch #: 49  of 300 sample #: 199 reconstruction error: 0.135942\n",
      "Epoch: 0 batch #: 50  of 300 sample #: 199 reconstruction error: 0.050063\n",
      "Epoch: 0 batch #: 51  of 300 sample #: 199 reconstruction error: 0.063546\n",
      "Epoch: 0 batch #: 52  of 300 sample #: 199 reconstruction error: 0.035545\n",
      "Epoch: 0 batch #: 53  of 300 sample #: 199 reconstruction error: 0.107092\n",
      "Epoch: 0 batch #: 54  of 300 sample #: 199 reconstruction error: 0.056466\n",
      "Epoch: 0 batch #: 55  of 300 sample #: 199 reconstruction error: 0.109985\n",
      "Epoch: 0 batch #: 56  of 300 sample #: 199 reconstruction error: 0.056236\n",
      "Epoch: 0 batch #: 57  of 300 sample #: 199 reconstruction error: 0.055242\n",
      "Epoch: 0 batch #: 58  of 300 sample #: 199 reconstruction error: 0.074182\n",
      "Epoch: 0 batch #: 59  of 300 sample #: 199 reconstruction error: 0.060583\n",
      "Epoch: 0 batch #: 60  of 300 sample #: 199 reconstruction error: 0.096571\n",
      "Epoch: 0 batch #: 61  of 300 sample #: 199 reconstruction error: 0.061774\n",
      "Epoch: 0 batch #: 62  of 300 sample #: 199 reconstruction error: 0.085850\n",
      "Epoch: 0 batch #: 63  of 300 sample #: 199 reconstruction error: 0.058447\n",
      "Epoch: 0 batch #: 64  of 300 sample #: 199 reconstruction error: 0.102104\n",
      "Epoch: 0 batch #: 65  of 300 sample #: 199 reconstruction error: 0.094693\n",
      "Epoch: 0 batch #: 66  of 300 sample #: 199 reconstruction error: 0.067023\n",
      "Epoch: 0 batch #: 67  of 300 sample #: 199 reconstruction error: 0.055842\n",
      "Epoch: 0 batch #: 68  of 300 sample #: 199 reconstruction error: 0.067960\n",
      "Epoch: 0 batch #: 69  of 300 sample #: 199 reconstruction error: 0.084928\n",
      "Epoch: 0 batch #: 70  of 300 sample #: 199 reconstruction error: 0.088890\n",
      "Epoch: 0 batch #: 71  of 300 sample #: 199 reconstruction error: 0.067206\n",
      "Epoch: 0 batch #: 72  of 300 sample #: 199 reconstruction error: 0.065972\n",
      "Epoch: 0 batch #: 73  of 300 sample #: 199 reconstruction error: 0.087679\n",
      "Epoch: 0 batch #: 74  of 300 sample #: 199 reconstruction error: 0.102982\n",
      "Epoch: 0 batch #: 75  of 300 sample #: 199 reconstruction error: 0.048123\n",
      "Epoch: 0 batch #: 76  of 300 sample #: 199 reconstruction error: 0.087055\n",
      "Epoch: 0 batch #: 77  of 300 sample #: 199 reconstruction error: 0.104470\n",
      "Epoch: 0 batch #: 78  of 300 sample #: 199 reconstruction error: 0.105435\n",
      "Epoch: 0 batch #: 79  of 300 sample #: 199 reconstruction error: 0.124523\n",
      "Epoch: 0 batch #: 80  of 300 sample #: 199 reconstruction error: 0.032501\n",
      "Epoch: 0 batch #: 81  of 300 sample #: 199 reconstruction error: 0.065515\n",
      "Epoch: 0 batch #: 82  of 300 sample #: 199 reconstruction error: 0.055496\n",
      "Epoch: 0 batch #: 83  of 300 sample #: 199 reconstruction error: 0.070858\n",
      "Epoch: 0 batch #: 84  of 300 sample #: 199 reconstruction error: 0.081964\n",
      "Epoch: 0 batch #: 85  of 300 sample #: 199 reconstruction error: 0.049945\n",
      "Epoch: 0 batch #: 86  of 300 sample #: 199 reconstruction error: 0.078746\n",
      "Epoch: 0 batch #: 87  of 300 sample #: 199 reconstruction error: 0.089246\n",
      "Epoch: 0 batch #: 88  of 300 sample #: 199 reconstruction error: 0.032663\n",
      "Epoch: 0 batch #: 89  of 300 sample #: 199 reconstruction error: 0.048284\n",
      "Epoch: 0 batch #: 90  of 300 sample #: 199 reconstruction error: 0.065321\n",
      "Epoch: 0 batch #: 91  of 300 sample #: 199 reconstruction error: 0.061181\n",
      "Epoch: 0 batch #: 92  of 300 sample #: 199 reconstruction error: 0.075142\n",
      "Epoch: 0 batch #: 93  of 300 sample #: 199 reconstruction error: 0.112056\n",
      "Epoch: 0 batch #: 94  of 300 sample #: 199 reconstruction error: 0.108598\n",
      "Epoch: 0 batch #: 95  of 300 sample #: 199 reconstruction error: 0.065400\n",
      "Epoch: 0 batch #: 96  of 300 sample #: 199 reconstruction error: 0.054946\n",
      "Epoch: 0 batch #: 97  of 300 sample #: 199 reconstruction error: 0.100508\n",
      "Epoch: 0 batch #: 98  of 300 sample #: 199 reconstruction error: 0.069561\n",
      "Epoch: 0 batch #: 99  of 300 sample #: 199 reconstruction error: 0.075398\n",
      "Epoch: 0 batch #: 100  of 300 sample #: 199 reconstruction error: 0.119277\n",
      "Epoch: 0 batch #: 101  of 300 sample #: 199 reconstruction error: 0.067870\n",
      "Epoch: 0 batch #: 102  of 300 sample #: 199 reconstruction error: 0.085843\n",
      "Epoch: 0 batch #: 103  of 300 sample #: 199 reconstruction error: 0.098858\n",
      "Epoch: 0 batch #: 104  of 300 sample #: 199 reconstruction error: 0.066786\n",
      "Epoch: 0 batch #: 105  of 300 sample #: 199 reconstruction error: 0.057815\n",
      "Epoch: 0 batch #: 106  of 300 sample #: 199 reconstruction error: 0.110153\n",
      "Epoch: 0 batch #: 107  of 300 sample #: 199 reconstruction error: 0.113523\n",
      "Epoch: 0 batch #: 108  of 300 sample #: 199 reconstruction error: 0.071378\n",
      "Epoch: 0 batch #: 109  of 300 sample #: 199 reconstruction error: 0.105243\n",
      "Epoch: 0 batch #: 110  of 300 sample #: 199 reconstruction error: 0.066915\n",
      "Epoch: 0 batch #: 111  of 300 sample #: 199 reconstruction error: 0.100997\n",
      "Epoch: 0 batch #: 112  of 300 sample #: 199 reconstruction error: 0.043117\n",
      "Epoch: 0 batch #: 113  of 300 sample #: 199 reconstruction error: 0.074084\n",
      "Epoch: 0 batch #: 114  of 300 sample #: 199 reconstruction error: 0.064690\n",
      "Epoch: 0 batch #: 115  of 300 sample #: 199 reconstruction error: 0.058000\n",
      "Epoch: 0 batch #: 116  of 300 sample #: 199 reconstruction error: 0.065306\n",
      "Epoch: 0 batch #: 117  of 300 sample #: 199 reconstruction error: 0.040166\n",
      "Epoch: 0 batch #: 118  of 300 sample #: 199 reconstruction error: 0.078127\n",
      "Epoch: 0 batch #: 119  of 300 sample #: 199 reconstruction error: 0.105536\n",
      "Epoch: 0 batch #: 120  of 300 sample #: 199 reconstruction error: 0.086675\n",
      "Epoch: 0 batch #: 121  of 300 sample #: 199 reconstruction error: 0.047805\n",
      "Epoch: 0 batch #: 122  of 300 sample #: 199 reconstruction error: 0.087252\n",
      "Epoch: 0 batch #: 123  of 300 sample #: 199 reconstruction error: 0.058826\n",
      "Epoch: 0 batch #: 124  of 300 sample #: 199 reconstruction error: 0.059318\n",
      "Epoch: 0 batch #: 125  of 300 sample #: 199 reconstruction error: 0.058372\n",
      "Epoch: 0 batch #: 126  of 300 sample #: 199 reconstruction error: 0.087238\n",
      "Epoch: 0 batch #: 127  of 300 sample #: 199 reconstruction error: 0.091600\n",
      "Epoch: 0 batch #: 128  of 300 sample #: 199 reconstruction error: 0.072663\n",
      "Epoch: 0 batch #: 129  of 300 sample #: 199 reconstruction error: 0.057153\n",
      "Epoch: 0 batch #: 130  of 300 sample #: 199 reconstruction error: 0.070937\n",
      "Epoch: 0 batch #: 131  of 300 sample #: 199 reconstruction error: 0.065843\n",
      "Epoch: 0 batch #: 132  of 300 sample #: 199 reconstruction error: 0.048402\n",
      "Epoch: 0 batch #: 133  of 300 sample #: 199 reconstruction error: 0.064658\n",
      "Epoch: 0 batch #: 134  of 300 sample #: 199 reconstruction error: 0.105521\n",
      "Epoch: 0 batch #: 135  of 300 sample #: 199 reconstruction error: 0.108464\n",
      "Epoch: 0 batch #: 136  of 300 sample #: 199 reconstruction error: 0.104961\n",
      "Epoch: 0 batch #: 137  of 300 sample #: 199 reconstruction error: 0.070577\n",
      "Epoch: 0 batch #: 138  of 300 sample #: 199 reconstruction error: 0.090469\n",
      "Epoch: 0 batch #: 139  of 300 sample #: 199 reconstruction error: 0.104508\n",
      "Epoch: 0 batch #: 140  of 300 sample #: 199 reconstruction error: 0.075366\n",
      "Epoch: 0 batch #: 141  of 300 sample #: 199 reconstruction error: 0.080109\n",
      "Epoch: 0 batch #: 142  of 300 sample #: 199 reconstruction error: 0.051337\n",
      "Epoch: 0 batch #: 143  of 300 sample #: 199 reconstruction error: 0.056831\n",
      "Epoch: 0 batch #: 144  of 300 sample #: 199 reconstruction error: 0.067773\n",
      "Epoch: 0 batch #: 145  of 300 sample #: 199 reconstruction error: 0.090996\n",
      "Epoch: 0 batch #: 146  of 300 sample #: 199 reconstruction error: 0.114924\n",
      "Epoch: 0 batch #: 147  of 300 sample #: 199 reconstruction error: 0.077843\n",
      "Epoch: 0 batch #: 148  of 300 sample #: 199 reconstruction error: 0.076980\n",
      "Epoch: 0 batch #: 149  of 300 sample #: 199 reconstruction error: 0.040241\n",
      "Epoch: 0 batch #: 150  of 300 sample #: 199 reconstruction error: 0.045270\n",
      "Epoch: 0 batch #: 151  of 300 sample #: 199 reconstruction error: 0.110193\n",
      "Epoch: 0 batch #: 152  of 300 sample #: 199 reconstruction error: 0.091242\n",
      "Epoch: 0 batch #: 153  of 300 sample #: 199 reconstruction error: 0.078434\n",
      "Epoch: 0 batch #: 154  of 300 sample #: 199 reconstruction error: 0.067605\n",
      "Epoch: 0 batch #: 155  of 300 sample #: 199 reconstruction error: 0.064684\n",
      "Epoch: 0 batch #: 156  of 300 sample #: 199 reconstruction error: 0.079848\n",
      "Epoch: 0 batch #: 157  of 300 sample #: 199 reconstruction error: 0.087487\n",
      "Epoch: 0 batch #: 158  of 300 sample #: 199 reconstruction error: 0.071420\n",
      "Epoch: 0 batch #: 159  of 300 sample #: 199 reconstruction error: 0.047367\n",
      "Epoch: 0 batch #: 160  of 300 sample #: 199 reconstruction error: 0.069403\n",
      "Epoch: 0 batch #: 161  of 300 sample #: 199 reconstruction error: 0.077838\n",
      "Epoch: 0 batch #: 162  of 300 sample #: 199 reconstruction error: 0.133766\n",
      "Epoch: 0 batch #: 163  of 300 sample #: 199 reconstruction error: 0.026932\n",
      "Epoch: 0 batch #: 164  of 300 sample #: 199 reconstruction error: 0.063404\n",
      "Epoch: 0 batch #: 165  of 300 sample #: 199 reconstruction error: 0.076258\n",
      "Epoch: 0 batch #: 166  of 300 sample #: 199 reconstruction error: 0.055759\n",
      "Epoch: 0 batch #: 167  of 300 sample #: 199 reconstruction error: 0.084729\n",
      "Epoch: 0 batch #: 168  of 300 sample #: 199 reconstruction error: 0.053328\n",
      "Epoch: 0 batch #: 169  of 300 sample #: 199 reconstruction error: 0.034580\n",
      "Epoch: 0 batch #: 170  of 300 sample #: 199 reconstruction error: 0.059229\n",
      "Epoch: 0 batch #: 171  of 300 sample #: 199 reconstruction error: 0.021902\n",
      "Epoch: 0 batch #: 172  of 300 sample #: 199 reconstruction error: 0.053773\n",
      "Epoch: 0 batch #: 173  of 300 sample #: 199 reconstruction error: 0.089390\n",
      "Epoch: 0 batch #: 174  of 300 sample #: 199 reconstruction error: 0.110799\n",
      "Epoch: 0 batch #: 175  of 300 sample #: 199 reconstruction error: 0.065650\n",
      "Epoch: 0 batch #: 176  of 300 sample #: 199 reconstruction error: 0.058201\n",
      "Epoch: 0 batch #: 177  of 300 sample #: 199 reconstruction error: 0.035762\n",
      "Epoch: 0 batch #: 178  of 300 sample #: 199 reconstruction error: 0.103955\n",
      "Epoch: 0 batch #: 179  of 300 sample #: 199 reconstruction error: 0.068422\n",
      "Epoch: 0 batch #: 180  of 300 sample #: 199 reconstruction error: 0.095356\n",
      "Epoch: 0 batch #: 181  of 300 sample #: 199 reconstruction error: 0.085944\n",
      "Epoch: 0 batch #: 182  of 300 sample #: 199 reconstruction error: 0.078937\n",
      "Epoch: 0 batch #: 183  of 300 sample #: 199 reconstruction error: 0.095113\n",
      "Epoch: 0 batch #: 184  of 300 sample #: 199 reconstruction error: 0.047021\n",
      "Epoch: 0 batch #: 185  of 300 sample #: 199 reconstruction error: 0.061134\n",
      "Epoch: 0 batch #: 186  of 300 sample #: 199 reconstruction error: 0.093045\n",
      "Epoch: 0 batch #: 187  of 300 sample #: 199 reconstruction error: 0.065967\n",
      "Epoch: 0 batch #: 188  of 300 sample #: 199 reconstruction error: 0.103877\n",
      "Epoch: 0 batch #: 189  of 300 sample #: 199 reconstruction error: 0.092337\n",
      "Epoch: 0 batch #: 190  of 300 sample #: 199 reconstruction error: 0.059201\n",
      "Epoch: 0 batch #: 191  of 300 sample #: 199 reconstruction error: 0.099495\n",
      "Epoch: 0 batch #: 192  of 300 sample #: 199 reconstruction error: 0.122325\n",
      "Epoch: 0 batch #: 193  of 300 sample #: 199 reconstruction error: 0.106680\n",
      "Epoch: 0 batch #: 194  of 300 sample #: 199 reconstruction error: 0.072051\n",
      "Epoch: 0 batch #: 195  of 300 sample #: 199 reconstruction error: 0.045528\n",
      "Epoch: 0 batch #: 196  of 300 sample #: 199 reconstruction error: 0.046073\n",
      "Epoch: 0 batch #: 197  of 300 sample #: 199 reconstruction error: 0.057561\n",
      "Epoch: 0 batch #: 198  of 300 sample #: 199 reconstruction error: 0.084892\n",
      "Epoch: 0 batch #: 199  of 300 sample #: 199 reconstruction error: 0.071691\n",
      "Epoch: 0 batch #: 200  of 300 sample #: 199 reconstruction error: 0.100765\n",
      "Epoch: 0 batch #: 201  of 300 sample #: 199 reconstruction error: 0.099466\n",
      "Epoch: 0 batch #: 202  of 300 sample #: 199 reconstruction error: 0.028808\n",
      "Epoch: 0 batch #: 203  of 300 sample #: 199 reconstruction error: 0.078882\n",
      "Epoch: 0 batch #: 204  of 300 sample #: 199 reconstruction error: 0.052150\n",
      "Epoch: 0 batch #: 205  of 300 sample #: 199 reconstruction error: 0.024052\n",
      "Epoch: 0 batch #: 206  of 300 sample #: 199 reconstruction error: 0.059146\n",
      "Epoch: 0 batch #: 207  of 300 sample #: 199 reconstruction error: 0.069828\n",
      "Epoch: 0 batch #: 208  of 300 sample #: 199 reconstruction error: 0.049318\n",
      "Epoch: 0 batch #: 209  of 300 sample #: 199 reconstruction error: 0.034407\n",
      "Epoch: 0 batch #: 210  of 300 sample #: 199 reconstruction error: 0.113918\n",
      "Epoch: 0 batch #: 211  of 300 sample #: 199 reconstruction error: 0.107705\n",
      "Epoch: 0 batch #: 212  of 300 sample #: 199 reconstruction error: 0.085267\n",
      "Epoch: 0 batch #: 213  of 300 sample #: 199 reconstruction error: 0.086922\n",
      "Epoch: 0 batch #: 214  of 300 sample #: 199 reconstruction error: 0.103164\n",
      "Epoch: 0 batch #: 215  of 300 sample #: 199 reconstruction error: 0.033739\n",
      "Epoch: 0 batch #: 216  of 300 sample #: 199 reconstruction error: 0.105414\n",
      "Epoch: 0 batch #: 217  of 300 sample #: 199 reconstruction error: 0.086803\n",
      "Epoch: 0 batch #: 218  of 300 sample #: 199 reconstruction error: 0.067131\n",
      "Epoch: 0 batch #: 219  of 300 sample #: 199 reconstruction error: 0.082811\n",
      "Epoch: 0 batch #: 220  of 300 sample #: 199 reconstruction error: 0.064192\n",
      "Epoch: 0 batch #: 221  of 300 sample #: 199 reconstruction error: 0.079550\n",
      "Epoch: 0 batch #: 222  of 300 sample #: 199 reconstruction error: 0.100802\n",
      "Epoch: 0 batch #: 223  of 300 sample #: 199 reconstruction error: 0.074274\n",
      "Epoch: 0 batch #: 224  of 300 sample #: 199 reconstruction error: 0.052942\n",
      "Epoch: 0 batch #: 225  of 300 sample #: 199 reconstruction error: 0.064146\n",
      "Epoch: 0 batch #: 226  of 300 sample #: 199 reconstruction error: 0.129763\n",
      "Epoch: 0 batch #: 227  of 300 sample #: 199 reconstruction error: 0.077591\n",
      "Epoch: 0 batch #: 228  of 300 sample #: 199 reconstruction error: 0.055366\n",
      "Epoch: 0 batch #: 229  of 300 sample #: 199 reconstruction error: 0.069147\n",
      "Epoch: 0 batch #: 230  of 300 sample #: 199 reconstruction error: 0.034808\n",
      "Epoch: 0 batch #: 231  of 300 sample #: 199 reconstruction error: 0.030726\n",
      "Epoch: 0 batch #: 232  of 300 sample #: 199 reconstruction error: 0.075186\n",
      "Epoch: 0 batch #: 233  of 300 sample #: 199 reconstruction error: 0.081865\n",
      "Epoch: 0 batch #: 234  of 300 sample #: 199 reconstruction error: 0.062926\n",
      "Epoch: 0 batch #: 235  of 300 sample #: 199 reconstruction error: 0.070295\n",
      "Epoch: 0 batch #: 236  of 300 sample #: 199 reconstruction error: 0.100482\n",
      "Epoch: 0 batch #: 237  of 300 sample #: 199 reconstruction error: 0.076048\n",
      "Epoch: 0 batch #: 238  of 300 sample #: 199 reconstruction error: 0.116816\n",
      "Epoch: 0 batch #: 239  of 300 sample #: 199 reconstruction error: 0.045687\n",
      "Epoch: 0 batch #: 240  of 300 sample #: 199 reconstruction error: 0.096871\n",
      "Epoch: 0 batch #: 241  of 300 sample #: 199 reconstruction error: 0.099457\n",
      "Epoch: 0 batch #: 242  of 300 sample #: 199 reconstruction error: 0.072311\n",
      "Epoch: 0 batch #: 243  of 300 sample #: 199 reconstruction error: 0.064498\n",
      "Epoch: 0 batch #: 244  of 300 sample #: 199 reconstruction error: 0.087151\n",
      "Epoch: 0 batch #: 245  of 300 sample #: 199 reconstruction error: 0.057821\n",
      "Epoch: 0 batch #: 246  of 300 sample #: 199 reconstruction error: 0.093732\n",
      "Epoch: 0 batch #: 247  of 300 sample #: 199 reconstruction error: 0.054133\n",
      "Epoch: 0 batch #: 248  of 300 sample #: 199 reconstruction error: 0.066662\n",
      "Epoch: 0 batch #: 249  of 300 sample #: 199 reconstruction error: 0.049102\n",
      "Epoch: 0 batch #: 250  of 300 sample #: 199 reconstruction error: 0.080068\n",
      "Epoch: 0 batch #: 251  of 300 sample #: 199 reconstruction error: 0.045435\n",
      "Epoch: 0 batch #: 252  of 300 sample #: 199 reconstruction error: 0.068736\n",
      "Epoch: 0 batch #: 253  of 300 sample #: 199 reconstruction error: 0.065724\n",
      "Epoch: 0 batch #: 254  of 300 sample #: 199 reconstruction error: 0.034770\n",
      "Epoch: 0 batch #: 255  of 300 sample #: 199 reconstruction error: 0.059094\n",
      "Epoch: 0 batch #: 256  of 300 sample #: 199 reconstruction error: 0.083227\n",
      "Epoch: 0 batch #: 257  of 300 sample #: 199 reconstruction error: 0.098017\n",
      "Epoch: 0 batch #: 258  of 300 sample #: 199 reconstruction error: 0.083722\n",
      "Epoch: 0 batch #: 259  of 300 sample #: 199 reconstruction error: 0.057061\n",
      "Epoch: 0 batch #: 260  of 300 sample #: 199 reconstruction error: 0.080406\n",
      "Epoch: 0 batch #: 261  of 300 sample #: 199 reconstruction error: 0.038148\n",
      "Epoch: 0 batch #: 262  of 300 sample #: 199 reconstruction error: 0.054869\n",
      "Epoch: 0 batch #: 263  of 300 sample #: 199 reconstruction error: 0.084970\n",
      "Epoch: 0 batch #: 264  of 300 sample #: 199 reconstruction error: 0.076540\n",
      "Epoch: 0 batch #: 265  of 300 sample #: 199 reconstruction error: 0.065967\n",
      "Epoch: 0 batch #: 266  of 300 sample #: 199 reconstruction error: 0.038460\n",
      "Epoch: 0 batch #: 267  of 300 sample #: 199 reconstruction error: 0.064215\n",
      "Epoch: 0 batch #: 268  of 300 sample #: 199 reconstruction error: 0.028351\n",
      "Epoch: 0 batch #: 269  of 300 sample #: 199 reconstruction error: 0.100338\n",
      "Epoch: 0 batch #: 270  of 300 sample #: 199 reconstruction error: 0.073468\n",
      "Epoch: 0 batch #: 271  of 300 sample #: 199 reconstruction error: 0.059334\n",
      "Epoch: 0 batch #: 272  of 300 sample #: 199 reconstruction error: 0.059515\n",
      "Epoch: 0 batch #: 273  of 300 sample #: 199 reconstruction error: 0.048790\n",
      "Epoch: 0 batch #: 274  of 300 sample #: 199 reconstruction error: 0.060004\n",
      "Epoch: 0 batch #: 275  of 300 sample #: 199 reconstruction error: 0.083079\n",
      "Epoch: 0 batch #: 276  of 300 sample #: 199 reconstruction error: 0.060136\n",
      "Epoch: 0 batch #: 277  of 300 sample #: 199 reconstruction error: 0.072244\n",
      "Epoch: 0 batch #: 278  of 300 sample #: 199 reconstruction error: 0.055713\n",
      "Epoch: 0 batch #: 279  of 300 sample #: 199 reconstruction error: 0.038711\n",
      "Epoch: 0 batch #: 280  of 300 sample #: 199 reconstruction error: 0.075438\n",
      "Epoch: 0 batch #: 281  of 300 sample #: 199 reconstruction error: 0.070437\n",
      "Epoch: 0 batch #: 282  of 300 sample #: 199 reconstruction error: 0.094401\n",
      "Epoch: 0 batch #: 283  of 300 sample #: 199 reconstruction error: 0.036017\n",
      "Epoch: 0 batch #: 284  of 300 sample #: 199 reconstruction error: 0.057920\n",
      "Epoch: 0 batch #: 285  of 300 sample #: 199 reconstruction error: 0.068927\n",
      "Epoch: 0 batch #: 286  of 300 sample #: 199 reconstruction error: 0.098550\n",
      "Epoch: 0 batch #: 287  of 300 sample #: 199 reconstruction error: 0.082019\n",
      "Epoch: 0 batch #: 288  of 300 sample #: 199 reconstruction error: 0.029243\n",
      "Epoch: 0 batch #: 289  of 300 sample #: 199 reconstruction error: 0.101158\n",
      "Epoch: 0 batch #: 290  of 300 sample #: 199 reconstruction error: 0.093687\n",
      "Epoch: 0 batch #: 291  of 300 sample #: 199 reconstruction error: 0.120348\n",
      "Epoch: 0 batch #: 292  of 300 sample #: 199 reconstruction error: 0.060038\n",
      "Epoch: 0 batch #: 293  of 300 sample #: 199 reconstruction error: 0.062543\n",
      "Epoch: 0 batch #: 294  of 300 sample #: 199 reconstruction error: 0.092405\n",
      "Epoch: 0 batch #: 295  of 300 sample #: 199 reconstruction error: 0.075362\n",
      "Epoch: 0 batch #: 296  of 300 sample #: 199 reconstruction error: 0.026438\n",
      "Epoch: 0 batch #: 297  of 300 sample #: 199 reconstruction error: 0.109874\n",
      "Epoch: 0 batch #: 298  of 300 sample #: 199 reconstruction error: 0.061666\n",
      "Epoch: 0 batch #: 299  of 300 sample #: 199 reconstruction error: 0.054867\n",
      "Epoch: 0 batch #: 300  of 300 sample #: 199 reconstruction error: 0.074811\n"
     ]
    }
   ],
   "source": [
    "#Parameters\n",
    "alpha = 0.01\n",
    "epochs = 1\n",
    "batchsize = 200\n",
    "weights = []\n",
    "errors = []\n",
    "batch_number = 0\n",
    "K = 1\n",
    "\n",
    "#creating datasets\n",
    "train_ds = \\\n",
    "    tf.data.Dataset.from_tensor_slices((trX, trY)).batch(batchsize)\n",
    "\n",
    "for epoch in range(epochs):\n",
    "    for batch_x, batch_y in train_ds:\n",
    "        batch_number += 1\n",
    "        for i_sample in range(batchsize):           \n",
    "            for k in range(K):\n",
    "                v0_state = batch_x[i_sample]\n",
    "                h0_state = hidden_layer(v0_state, W, hb)\n",
    "                v1_state = reconstructed_output(h0_state, W, vb)\n",
    "                h1_state = hidden_layer(v1_state, W, hb)\n",
    "\n",
    "                delta_W = tf.matmul(tf.transpose([v0_state]), h0_state) - tf.matmul(tf.transpose([v1_state]), h1_state)\n",
    "                W = W + alpha * delta_W\n",
    "\n",
    "                vb = vb + alpha * tf.reduce_mean(v0_state - v1_state, 0)\n",
    "                hb = hb + alpha * tf.reduce_mean(h0_state - h1_state, 0) \n",
    "\n",
    "                v0_state = v1_state\n",
    "\n",
    "            if i_sample == batchsize-1:\n",
    "                err = error(batch_x[i_sample], v1_state)\n",
    "                errors.append(err)\n",
    "                weights.append(W)\n",
    "                print ( 'Epoch: %d' % epoch, \n",
    "                       \"batch #: %i \" % batch_number, \"of %i\" % int(60e3/batchsize), \n",
    "                       \"sample #: %i\" % i_sample,\n",
    "                       'reconstruction error: %f' % err)\n",
    "\n"
   ]
  },
  {
   "cell_type": "markdown",
   "metadata": {},
   "source": [
    "Let's take a look at the errors at the end of each batch:\n"
   ]
  },
  {
   "cell_type": "code",
   "execution_count": 31,
   "metadata": {
    "tags": []
   },
   "outputs": [
    {
     "data": {
      "image/png": "[encoded data removed]",
      "text/plain": [
       "<Figure size 640x480 with 1 Axes>"
      ]
     },
     "metadata": {},
     "output_type": "display_data"
    }
   ],
   "source": [
    "plt.plot(errors)\n",
    "plt.xlabel(\"Batch Number\")\n",
    "plt.ylabel(\"Error\")\n",
    "plt.show()"
   ]
  },
  {
   "cell_type": "markdown",
   "metadata": {},
   "source": [
    "What is the final weight matrix $W$ after training?\n"
   ]
  },
  {
   "cell_type": "code",
   "execution_count": 32,
   "metadata": {
    "tags": []
   },
   "outputs": [
    {
     "name": "stdout",
     "output_type": "stream",
     "text": [
      "[[-0.5399998  -0.44999984 -0.36999992 ... -0.22000003 -0.46999982\n",
      "  -0.41999987]\n",
      " [-0.5099998  -0.3899999  -0.31999996 ... -0.24000004 -0.4899998\n",
      "  -0.3799999 ]\n",
      " [-0.55999976 -0.28       -0.46999982 ... -0.18       -0.46999982\n",
      "  -0.36999992]\n",
      " ...\n",
      " [-0.56999975 -0.28       -0.44999984 ... -0.22000003 -0.44999984\n",
      "  -0.41999987]\n",
      " [-0.5499998  -0.35999992 -0.4999998  ... -0.19000001 -0.55999976\n",
      "  -0.43999985]\n",
      " [-0.4799998  -0.35999992 -0.3799999  ... -0.18       -0.5199998\n",
      "  -0.44999984]]\n"
     ]
    }
   ],
   "source": [
    "print(W.numpy()) # a weight matrix of shape (50,784)"
   ]
  },
  {
   "cell_type": "markdown",
   "metadata": {},
   "source": [
    "<a id=\"ref5\"></a>\n",
    "<h3>Learned features</h3> \n"
   ]
  },
  {
   "cell_type": "markdown",
   "metadata": {},
   "source": [
    "We can take each hidden unit and visualize the connections between that hidden unit and each element in the input vector. In our case, we have 50 hidden units. Lets visualize those.\n"
   ]
  },
  {
   "cell_type": "markdown",
   "metadata": {},
   "source": [
    "Let's plot the current weights:\n",
    "<b>tile_raster_images</b> helps in generating an easy to grasp image from a set of samples or weights. It transforms the <b>uw</b> (with one flattened image per row of size 784), into an array (of size $28\\times28$) in which images are reshaped and laid out like tiles on a floor.\n"
   ]
  },
  {
   "cell_type": "code",
   "execution_count": 33,
   "metadata": {
    "tags": []
   },
   "outputs": [
    {
     "ename": "NameError",
     "evalue": "name 'tile_raster_images' is not defined",
     "output_type": "error",
     "traceback": [
      "\u001b[0;31m---------------------------------------------------------------------------\u001b[0m",
      "\u001b[0;31mNameError\u001b[0m                                 Traceback (most recent call last)",
      "\u001b[0;32m/tmp/ipykernel_76/557658495.py\u001b[0m in \u001b[0;36m<module>\u001b[0;34m\u001b[0m\n\u001b[0;32m----> 1\u001b[0;31m \u001b[0mtile_raster_images\u001b[0m\u001b[0;34m(\u001b[0m\u001b[0mX\u001b[0m\u001b[0;34m=\u001b[0m\u001b[0mW\u001b[0m\u001b[0;34m.\u001b[0m\u001b[0mnumpy\u001b[0m\u001b[0;34m(\u001b[0m\u001b[0;34m)\u001b[0m\u001b[0;34m.\u001b[0m\u001b[0mT\u001b[0m\u001b[0;34m,\u001b[0m \u001b[0mimg_shape\u001b[0m\u001b[0;34m=\u001b[0m\u001b[0;34m(\u001b[0m\u001b[0;36m28\u001b[0m\u001b[0;34m,\u001b[0m \u001b[0;36m28\u001b[0m\u001b[0;34m)\u001b[0m\u001b[0;34m,\u001b[0m \u001b[0mtile_shape\u001b[0m\u001b[0;34m=\u001b[0m\u001b[0;34m(\u001b[0m\u001b[0;36m5\u001b[0m\u001b[0;34m,\u001b[0m \u001b[0;36m10\u001b[0m\u001b[0;34m)\u001b[0m\u001b[0;34m,\u001b[0m \u001b[0mtile_spacing\u001b[0m\u001b[0;34m=\u001b[0m\u001b[0;34m(\u001b[0m\u001b[0;36m1\u001b[0m\u001b[0;34m,\u001b[0m \u001b[0;36m1\u001b[0m\u001b[0;34m)\u001b[0m\u001b[0;34m)\u001b[0m\u001b[0;34m\u001b[0m\u001b[0;34m\u001b[0m\u001b[0m\n\u001b[0m\u001b[1;32m      2\u001b[0m \u001b[0;32mimport\u001b[0m \u001b[0mmatplotlib\u001b[0m\u001b[0;34m.\u001b[0m\u001b[0mpyplot\u001b[0m \u001b[0;32mas\u001b[0m \u001b[0mplt\u001b[0m\u001b[0;34m\u001b[0m\u001b[0;34m\u001b[0m\u001b[0m\n\u001b[1;32m      3\u001b[0m \u001b[0;32mfrom\u001b[0m \u001b[0mPIL\u001b[0m \u001b[0;32mimport\u001b[0m \u001b[0mImage\u001b[0m\u001b[0;34m\u001b[0m\u001b[0;34m\u001b[0m\u001b[0m\n\u001b[1;32m      4\u001b[0m \u001b[0mget_ipython\u001b[0m\u001b[0;34m(\u001b[0m\u001b[0;34m)\u001b[0m\u001b[0;34m.\u001b[0m\u001b[0mrun_line_magic\u001b[0m\u001b[0;34m(\u001b[0m\u001b[0;34m'matplotlib'\u001b[0m\u001b[0;34m,\u001b[0m \u001b[0;34m'inline'\u001b[0m\u001b[0;34m)\u001b[0m\u001b[0;34m\u001b[0m\u001b[0;34m\u001b[0m\u001b[0m\n\u001b[1;32m      5\u001b[0m \u001b[0mimage\u001b[0m \u001b[0;34m=\u001b[0m \u001b[0mImage\u001b[0m\u001b[0;34m.\u001b[0m\u001b[0mfromarray\u001b[0m\u001b[0;34m(\u001b[0m\u001b[0mtile_raster_images\u001b[0m\u001b[0;34m(\u001b[0m\u001b[0mX\u001b[0m\u001b[0;34m=\u001b[0m\u001b[0mW\u001b[0m\u001b[0;34m.\u001b[0m\u001b[0mnumpy\u001b[0m\u001b[0;34m(\u001b[0m\u001b[0;34m)\u001b[0m\u001b[0;34m.\u001b[0m\u001b[0mT\u001b[0m\u001b[0;34m,\u001b[0m \u001b[0mimg_shape\u001b[0m\u001b[0;34m=\u001b[0m\u001b[0;34m(\u001b[0m\u001b[0;36m28\u001b[0m\u001b[0;34m,\u001b[0m \u001b[0;36m28\u001b[0m\u001b[0;34m)\u001b[0m \u001b[0;34m,\u001b[0m\u001b[0mtile_shape\u001b[0m\u001b[0;34m=\u001b[0m\u001b[0;34m(\u001b[0m\u001b[0;36m5\u001b[0m\u001b[0;34m,\u001b[0m \u001b[0;36m10\u001b[0m\u001b[0;34m)\u001b[0m\u001b[0;34m,\u001b[0m \u001b[0mtile_spacing\u001b[0m\u001b[0;34m=\u001b[0m\u001b[0;34m(\u001b[0m\u001b[0;36m1\u001b[0m\u001b[0;34m,\u001b[0m \u001b[0;36m1\u001b[0m\u001b[0;34m)\u001b[0m\u001b[0;34m)\u001b[0m\u001b[0;34m)\u001b[0m\u001b[0;34m\u001b[0m\u001b[0;34m\u001b[0m\u001b[0m\n",
      "\u001b[0;31mNameError\u001b[0m: name 'tile_raster_images' is not defined"
     ]
    }
   ],
   "source": [
    "tile_raster_images(X=W.numpy().T, img_shape=(28, 28), tile_shape=(5, 10), tile_spacing=(1, 1))\n",
    "import matplotlib.pyplot as plt\n",
    "from PIL import Image\n",
    "%matplotlib inline\n",
    "image = Image.fromarray(tile_raster_images(X=W.numpy().T, img_shape=(28, 28) ,tile_shape=(5, 10), tile_spacing=(1, 1)))\n",
    "### Plot image\n",
    "plt.rcParams['figure.figsize'] = (18.0, 18.0)\n",
    "imgplot = plt.imshow(image)\n",
    "imgplot.set_cmap('gray')  "
   ]
  },
  {
   "cell_type": "markdown",
   "metadata": {},
   "source": [
    "Each tile in the above visualization corresponds to a vector of connections between a hidden unit and visible layer's units. \n"
   ]
  },
  {
   "cell_type": "markdown",
   "metadata": {},
   "source": [
    "Let's look at one of the learned weights corresponding to one of hidden units for example. In this particular square, the gray color represents weight = 0, and the whiter it is, the more positive the weights are (closer to 1). Conversely, the darker pixels are, the more negative the weights. The positive pixels will increase the probability of activation in hidden units (after multiplying by input/visible pixels), and negative pixels will decrease the probability of a unit hidden to be 1 (activated). So, why is this important?  So we can see that this specific square (hidden unit) can detect a feature (e.g. a \"/\" shape) and if it exists in the input.\n"
   ]
  },
  {
   "cell_type": "code",
   "execution_count": 34,
   "metadata": {
    "tags": []
   },
   "outputs": [
    {
     "ename": "NameError",
     "evalue": "name 'tile_raster_images' is not defined",
     "output_type": "error",
     "traceback": [
      "\u001b[0;31m---------------------------------------------------------------------------\u001b[0m",
      "\u001b[0;31mNameError\u001b[0m                                 Traceback (most recent call last)",
      "\u001b[0;32m/tmp/ipykernel_76/3400239828.py\u001b[0m in \u001b[0;36m<module>\u001b[0;34m\u001b[0m\n\u001b[1;32m      1\u001b[0m \u001b[0;32mfrom\u001b[0m \u001b[0mPIL\u001b[0m \u001b[0;32mimport\u001b[0m \u001b[0mImage\u001b[0m\u001b[0;34m\u001b[0m\u001b[0;34m\u001b[0m\u001b[0m\n\u001b[0;32m----> 2\u001b[0;31m \u001b[0mimage\u001b[0m \u001b[0;34m=\u001b[0m \u001b[0mImage\u001b[0m\u001b[0;34m.\u001b[0m\u001b[0mfromarray\u001b[0m\u001b[0;34m(\u001b[0m\u001b[0mtile_raster_images\u001b[0m\u001b[0;34m(\u001b[0m\u001b[0mX\u001b[0m \u001b[0;34m=\u001b[0m\u001b[0mW\u001b[0m\u001b[0;34m.\u001b[0m\u001b[0mnumpy\u001b[0m\u001b[0;34m(\u001b[0m\u001b[0;34m)\u001b[0m\u001b[0;34m.\u001b[0m\u001b[0mT\u001b[0m\u001b[0;34m[\u001b[0m\u001b[0;36m10\u001b[0m\u001b[0;34m:\u001b[0m\u001b[0;36m11\u001b[0m\u001b[0;34m]\u001b[0m\u001b[0;34m,\u001b[0m \u001b[0mimg_shape\u001b[0m\u001b[0;34m=\u001b[0m\u001b[0;34m(\u001b[0m\u001b[0;36m28\u001b[0m\u001b[0;34m,\u001b[0m \u001b[0;36m28\u001b[0m\u001b[0;34m)\u001b[0m\u001b[0;34m,\u001b[0m\u001b[0mtile_shape\u001b[0m\u001b[0;34m=\u001b[0m\u001b[0;34m(\u001b[0m\u001b[0;36m1\u001b[0m\u001b[0;34m,\u001b[0m \u001b[0;36m1\u001b[0m\u001b[0;34m)\u001b[0m\u001b[0;34m,\u001b[0m \u001b[0mtile_spacing\u001b[0m\u001b[0;34m=\u001b[0m\u001b[0;34m(\u001b[0m\u001b[0;36m1\u001b[0m\u001b[0;34m,\u001b[0m \u001b[0;36m1\u001b[0m\u001b[0;34m)\u001b[0m\u001b[0;34m)\u001b[0m\u001b[0;34m)\u001b[0m\u001b[0;34m\u001b[0m\u001b[0;34m\u001b[0m\u001b[0m\n\u001b[0m\u001b[1;32m      3\u001b[0m \u001b[0;31m### Plot image\u001b[0m\u001b[0;34m\u001b[0m\u001b[0;34m\u001b[0m\u001b[0;34m\u001b[0m\u001b[0m\n\u001b[1;32m      4\u001b[0m \u001b[0mplt\u001b[0m\u001b[0;34m.\u001b[0m\u001b[0mrcParams\u001b[0m\u001b[0;34m[\u001b[0m\u001b[0;34m'figure.figsize'\u001b[0m\u001b[0;34m]\u001b[0m \u001b[0;34m=\u001b[0m \u001b[0;34m(\u001b[0m\u001b[0;36m4.0\u001b[0m\u001b[0;34m,\u001b[0m \u001b[0;36m4.0\u001b[0m\u001b[0;34m)\u001b[0m\u001b[0;34m\u001b[0m\u001b[0;34m\u001b[0m\u001b[0m\n\u001b[1;32m      5\u001b[0m \u001b[0mimgplot\u001b[0m \u001b[0;34m=\u001b[0m \u001b[0mplt\u001b[0m\u001b[0;34m.\u001b[0m\u001b[0mimshow\u001b[0m\u001b[0;34m(\u001b[0m\u001b[0mimage\u001b[0m\u001b[0;34m)\u001b[0m\u001b[0;34m\u001b[0m\u001b[0;34m\u001b[0m\u001b[0m\n",
      "\u001b[0;31mNameError\u001b[0m: name 'tile_raster_images' is not defined"
     ]
    }
   ],
   "source": [
    "from PIL import Image\n",
    "image = Image.fromarray(tile_raster_images(X =W.numpy().T[10:11], img_shape=(28, 28),tile_shape=(1, 1), tile_spacing=(1, 1)))\n",
    "### Plot image\n",
    "plt.rcParams['figure.figsize'] = (4.0, 4.0)\n",
    "imgplot = plt.imshow(image)\n",
    "imgplot.set_cmap('gray')  "
   ]
  },
  {
   "cell_type": "markdown",
   "metadata": {},
   "source": [
    "Let's look at the reconstruction of an image now. Imagine that we have a destructed image of figure 3. Lets see if our trained network can fix it:\n",
    "\n",
    "First we plot the image:\n"
   ]
  },
  {
   "cell_type": "code",
   "execution_count": 35,
   "metadata": {
    "tags": []
   },
   "outputs": [
    {
     "name": "stdout",
     "output_type": "stream",
     "text": [
      "--2023-07-24 06:34:17--  https://ibm.box.com/shared/static/vvm1b63uvuxq88vbw9znpwu5ol380mco.jpg\n",
      "Resolving ibm.box.com (ibm.box.com)... 74.112.186.144\n",
      "Connecting to ibm.box.com (ibm.box.com)|74.112.186.144|:443... connected.\n",
      "HTTP request sent, awaiting response... 301 Moved Permanently\n",
      "Location: /public/static/vvm1b63uvuxq88vbw9znpwu5ol380mco.jpg [following]\n",
      "--2023-07-24 06:34:17--  https://ibm.box.com/public/static/vvm1b63uvuxq88vbw9znpwu5ol380mco.jpg\n",
      "Reusing existing connection to ibm.box.com:443.\n",
      "HTTP request sent, awaiting response... 301 Moved Permanently\n",
      "Location: https://ibm.ent.box.com/public/static/vvm1b63uvuxq88vbw9znpwu5ol380mco.jpg [following]\n",
      "--2023-07-24 06:34:18--  https://ibm.ent.box.com/public/static/vvm1b63uvuxq88vbw9znpwu5ol380mco.jpg\n",
      "Resolving ibm.ent.box.com (ibm.ent.box.com)... 74.112.186.144\n",
      "Connecting to ibm.ent.box.com (ibm.ent.box.com)|74.112.186.144|:443... connected.\n",
      "HTTP request sent, awaiting response... 302 Found\n",
      "Location: https://public.boxcloud.com/d/1/b1!x8dRuZ_jdgxKIVhy7w6YdPktZnI4yp5zfbgB_3HRaMk3xycepuUaA1fy2ya4gg75zOL4JK_D2UNE7tm5wHnvWSnASLAR9CVMnBEQahoBOoiFDfz7B4TF8F6ioMcbtjj4cqYTHn_dkUkpC1Ayer91LfuNdYa5BpkA8T0igzqQHrwbP1G-u2vV19daXHl6o9DRtiVarF-GzHNR67yGphXWxBEychao7zNf0zgVWxNiIcb9_R5hgh7menfmRI-YnF8lhUn4XMCxKgCQ4dQOKtpNpdt6xNSLjmGgMFn_kV75fDH6xGfdv-_rwCIyHP9ZV38KL_Y3Bi6cLfIdvZrI6YAJIMN06KlMYTftgQ1jzRXtxLq7qi4AwzOaqDqV7AQF7ZiII2Ac8xUePCkOS_E9hOcClS84e9mmVfB-iI9QsCD_BSkIXRaKV2Ebmv7BuNDy45HKrTxEKH_sgREyZAK1h4YuiRNJOKH_2Peii316pl9yQsC7gME4WpDHzgT4dXytyPHkQ4V_OQ3m7etmjgcMab7TIu29xmWh6ckUfo5X2-foExwunYm0NMAaWxqrGjXEp-shdA5S94K6ANIUlO9X8IPZHxTrPU8PGIu_oTpXdqJt0ZPuK6OTGYMLt7xS893hVKpkzrRNiithYDgQ79bTrxO5msKKIYISFLHLlGpFdLYNxjp4u1B8zAMSNAei05i7eaQCm3cL1HV075lhkzXd2xWa8_uhMTBomPddq-7xvO1SfLai1B7a-wwX2ujS_kSVt9zB1Wh7XgrsFXAa_8LP-3JDWss4aoWovmIrovGPD1U3pRarALSHMLl9g16OkEAthN2ryqvF4VVqOVDSgcKDwswdT9_mY0hfFimqgz1hS0y0AC9M8eL1sg8spr_72Ez0K_djTEicR27ihk0rYKFwp2DkDxbVvix2szu95Wn1U5299j75wi8VgiukhLDFKFwUIVSA7MV8DhVkxxJ_ijB-p7Rkz8u2kaQVJhOBqV08dmXlGu_Kq-7iH9cC_kGsJ95mtDbyCOBtQfoGbRCY5F8I8EX5Sdbef6pXM9gM1Hqb60gzt2-VG75TjxnamnPB44op90UnJ-JvAxNxFmZYRjdiorsn9SD-EiPhc6A2YOemrxKTVlRjuHC1LOdccqgbDVjid_vhIdWp33gmGvASwNwkmgAQTqlFNlRUIXNto-HONCOt84nAZJDVPdL6O_5UtCPn8f917En5zr9B_rPkzya7wNIDHBwMhDLnmrSRl7e04xwjB_7jKajYBafcGZOnl3zeYHikq7DdbfmLg2JU9mks8lb9yKW9bM4AXHZjgbgDPWK9H_KO-BP_-PBHq8gBliZng8YNcDaz_2asWK49o3jnHVEoNcfEYhUd6zW7OL2B_MpYXE1nIq48UERxOswtYEs0LISnf_O8aSBc-dKTxOjL2268IGI./download [following]\n",
      "--2023-07-24 06:34:19--  https://public.boxcloud.com/d/1/b1!x8dRuZ_jdgxKIVhy7w6YdPktZnI4yp5zfbgB_3HRaMk3xycepuUaA1fy2ya4gg75zOL4JK_D2UNE7tm5wHnvWSnASLAR9CVMnBEQahoBOoiFDfz7B4TF8F6ioMcbtjj4cqYTHn_dkUkpC1Ayer91LfuNdYa5BpkA8T0igzqQHrwbP1G-u2vV19daXHl6o9DRtiVarF-GzHNR67yGphXWxBEychao7zNf0zgVWxNiIcb9_R5hgh7menfmRI-YnF8lhUn4XMCxKgCQ4dQOKtpNpdt6xNSLjmGgMFn_kV75fDH6xGfdv-_rwCIyHP9ZV38KL_Y3Bi6cLfIdvZrI6YAJIMN06KlMYTftgQ1jzRXtxLq7qi4AwzOaqDqV7AQF7ZiII2Ac8xUePCkOS_E9hOcClS84e9mmVfB-iI9QsCD_BSkIXRaKV2Ebmv7BuNDy45HKrTxEKH_sgREyZAK1h4YuiRNJOKH_2Peii316pl9yQsC7gME4WpDHzgT4dXytyPHkQ4V_OQ3m7etmjgcMab7TIu29xmWh6ckUfo5X2-foExwunYm0NMAaWxqrGjXEp-shdA5S94K6ANIUlO9X8IPZHxTrPU8PGIu_oTpXdqJt0ZPuK6OTGYMLt7xS893hVKpkzrRNiithYDgQ79bTrxO5msKKIYISFLHLlGpFdLYNxjp4u1B8zAMSNAei05i7eaQCm3cL1HV075lhkzXd2xWa8_uhMTBomPddq-7xvO1SfLai1B7a-wwX2ujS_kSVt9zB1Wh7XgrsFXAa_8LP-3JDWss4aoWovmIrovGPD1U3pRarALSHMLl9g16OkEAthN2ryqvF4VVqOVDSgcKDwswdT9_mY0hfFimqgz1hS0y0AC9M8eL1sg8spr_72Ez0K_djTEicR27ihk0rYKFwp2DkDxbVvix2szu95Wn1U5299j75wi8VgiukhLDFKFwUIVSA7MV8DhVkxxJ_ijB-p7Rkz8u2kaQVJhOBqV08dmXlGu_Kq-7iH9cC_kGsJ95mtDbyCOBtQfoGbRCY5F8I8EX5Sdbef6pXM9gM1Hqb60gzt2-VG75TjxnamnPB44op90UnJ-JvAxNxFmZYRjdiorsn9SD-EiPhc6A2YOemrxKTVlRjuHC1LOdccqgbDVjid_vhIdWp33gmGvASwNwkmgAQTqlFNlRUIXNto-HONCOt84nAZJDVPdL6O_5UtCPn8f917En5zr9B_rPkzya7wNIDHBwMhDLnmrSRl7e04xwjB_7jKajYBafcGZOnl3zeYHikq7DdbfmLg2JU9mks8lb9yKW9bM4AXHZjgbgDPWK9H_KO-BP_-PBHq8gBliZng8YNcDaz_2asWK49o3jnHVEoNcfEYhUd6zW7OL2B_MpYXE1nIq48UERxOswtYEs0LISnf_O8aSBc-dKTxOjL2268IGI./download\n",
      "Resolving public.boxcloud.com (public.boxcloud.com)... 74.112.186.128\n",
      "Connecting to public.boxcloud.com (public.boxcloud.com)|74.112.186.128|:443... connected.\n",
      "HTTP request sent, awaiting response... 200 OK\n",
      "Length: 24383 (24K) [image/jpeg]\n",
      "Saving to: ‘destructed3.jpg’\n",
      "\n",
      "destructed3.jpg     100%[===================>]  23.81K  --.-KB/s    in 0.002s  \n",
      "\n",
      "2023-07-24 06:34:19 (12.9 MB/s) - ‘destructed3.jpg’ saved [24383/24383]\n",
      "\n"
     ]
    },
    {
     "data": {
      "image/png": "[encoded data removed]",
      "text/plain": [
       "<PIL.JpegImagePlugin.JpegImageFile image mode=RGB size=181x181 at 0x7FF0FF589A50>"
      ]
     },
     "execution_count": 35,
     "metadata": {},
     "output_type": "execute_result"
    }
   ],
   "source": [
    "!wget -O destructed3.jpg  https://ibm.box.com/shared/static/vvm1b63uvuxq88vbw9znpwu5ol380mco.jpg\n",
    "img = Image.open('destructed3.jpg')\n",
    "img"
   ]
  },
  {
   "cell_type": "markdown",
   "metadata": {},
   "source": [
    "Now let's pass this image through the neural net:\n"
   ]
  },
  {
   "cell_type": "code",
   "execution_count": 36,
   "metadata": {
    "tags": []
   },
   "outputs": [],
   "source": [
    "# convert the image to a 1d numpy array\n",
    "sample_case = np.array(img.convert('I').resize((28,28))).ravel().reshape((1, -1))/255.0\n",
    "\n",
    "sample_case = tf.cast(sample_case, dtype=tf.float32)"
   ]
  },
  {
   "cell_type": "markdown",
   "metadata": {},
   "source": [
    "Feed the sample case into the network and reconstruct the output:\n"
   ]
  },
  {
   "cell_type": "code",
   "execution_count": 37,
   "metadata": {
    "tags": []
   },
   "outputs": [
    {
     "name": "stdout",
     "output_type": "stream",
     "text": [
      "Probability nodes in hidden layer: tf.Tensor(\n",
      "[[9.6395010e-01 1.8521045e-07 5.1172928e-15 1.1245568e-02 4.2671353e-08\n",
      "  3.5058950e-08 1.0000000e+00 4.5013360e-07 9.7509086e-01 2.1865418e-09\n",
      "  2.0421659e-04 9.9999988e-01 9.9979508e-01 1.1834673e-07 9.9994969e-01\n",
      "  3.0062548e-18 4.6898108e-09 9.2635149e-01 1.0000000e+00 2.5291316e-14\n",
      "  1.6457052e-05 1.0000000e+00 1.7329346e-04 6.5331172e-08 9.9983197e-01\n",
      "  8.7074855e-18 9.9936754e-01 2.2259796e-01 7.8432989e-12 9.9597687e-01\n",
      "  9.8679823e-01 2.3699110e-06 3.8868781e-02 9.2749262e-01 2.2486255e-09\n",
      "  8.8270342e-01 9.0824050e-11 5.1180418e-06 2.1341899e-15 9.9976194e-01\n",
      "  2.1932598e-02 9.9999821e-01 2.7080688e-01 7.8506309e-07 2.3391724e-05\n",
      "  6.8557028e-07 8.6969846e-13 7.8609233e-13 1.0000000e+00 2.1583758e-01]], shape=(1, 50), dtype=float32)\n",
      "activated nodes in hidden layer: tf.Tensor(\n",
      "[[1. 0. 0. 0. 0. 0. 1. 0. 1. 0. 0. 1. 1. 0. 1. 0. 0. 1. 1. 0. 0. 1. 0. 0.\n",
      "  1. 0. 1. 0. 0. 1. 1. 0. 0. 1. 0. 1. 0. 0. 0. 1. 0. 1. 0. 0. 0. 0. 0. 0.\n",
      "  1. 0.]], shape=(1, 50), dtype=float32)\n",
      "tf.Tensor(\n",
      "[[1.61331365e-04 2.15595763e-04 2.91001925e-04 2.15595763e-04\n",
      "  2.93925492e-04 2.19950249e-04 1.44528618e-04 1.45980841e-04\n",
      "  2.15595763e-04 2.68634700e-04 3.08990770e-04 2.82403780e-04\n",
      "  2.82525754e-04 2.35312793e-04 2.02590018e-04 1.86095305e-04\n",
      "  2.71333818e-04 2.01023140e-04 2.15595763e-04 1.30776665e-04\n",
      "  2.19950045e-04 1.97043337e-04 1.97043337e-04 1.37480834e-04\n",
      "  2.43076822e-04 1.59726173e-04 2.15595763e-04 1.44528487e-04\n",
      "  2.13450956e-04 2.65962357e-04 1.87435347e-04 1.89318613e-04\n",
      "  4.31906228e-04 2.84102949e-04 2.06276876e-04 1.79038208e-04\n",
      "  2.31088765e-04 2.71600176e-04 2.46706360e-04 3.22178093e-04\n",
      "  3.06746573e-04 1.98416019e-04 4.01254161e-04 2.92431767e-04\n",
      "  4.22016368e-04 3.99386132e-04 2.89466203e-04 2.32378879e-04\n",
      "  2.67310999e-04 1.49291765e-04 1.87420694e-04 2.22971808e-04\n",
      "  2.40658730e-04 3.92771442e-04 2.68634700e-04 1.93142623e-04\n",
      "  1.93142434e-04 1.81896859e-04 1.82819102e-04 2.36524502e-04\n",
      "  2.16451575e-04 2.63110589e-04 3.21647443e-04 1.23723541e-04\n",
      "  1.99352042e-04 1.06153879e-04 5.51297453e-05 2.90839962e-05\n",
      "  4.23024030e-05 5.29167446e-05 1.13713410e-04 2.94045749e-04\n",
      "  3.31353804e-04 1.69689942e-04 1.20058612e-04 8.44707538e-05\n",
      "  4.72151878e-05 7.71826817e-05 2.02455223e-04 2.06641256e-04\n",
      "  2.34180916e-04 2.00283714e-04 1.62952390e-04 1.58137220e-04\n",
      "  2.99861538e-04 3.55407799e-04 1.83926575e-04 2.12132989e-04\n",
      "  1.75776077e-04 2.75784812e-04 3.42402142e-04 2.60004163e-04\n",
      "  1.33324749e-04 6.34736352e-05 6.55300319e-05 4.34182984e-05\n",
      "  6.15934259e-05 1.78880364e-04 1.26541464e-03 5.44669665e-03\n",
      "  4.02181735e-03 2.74626352e-03 1.60345563e-03 8.13584542e-04\n",
      "  2.63248367e-04 2.72744248e-04 1.46900347e-04 2.03290663e-04\n",
      "  4.01331985e-04 2.14172018e-04 1.81718642e-04 1.85570636e-04\n",
      "  2.15595763e-04 1.14252281e-04 2.45124917e-04 2.52717262e-04\n",
      "  2.69151031e-04 2.77422747e-04 2.63338967e-04 2.16461907e-04\n",
      "  1.57805393e-04 2.04132666e-04 7.56075082e-04 7.53439730e-04\n",
      "  5.82632795e-03 2.18927208e-02 3.01883984e-02 1.56110823e-01\n",
      "  1.09778352e-01 4.10000980e-02 5.93879679e-03 3.86492023e-03\n",
      "  1.62554660e-03 4.76079574e-03 1.64419983e-03 3.56206554e-03\n",
      "  1.96903362e-03 9.31001094e-04 2.05671196e-04 1.74034139e-04\n",
      "  1.56563794e-04 1.38862248e-04 2.76900595e-04 3.81227612e-04\n",
      "  1.14256120e-03 5.35148429e-04 5.14963525e-04 2.78440118e-03\n",
      "  3.84487887e-03 9.70941223e-03 5.37015907e-02 1.01171546e-01\n",
      "  3.07105482e-01 5.38344264e-01 8.05237293e-01 9.28526461e-01\n",
      "  9.16090071e-01 6.98482692e-01 1.92315385e-01 6.34518936e-02\n",
      "  5.65658696e-02 2.76399758e-02 1.71481874e-02 1.03631001e-02\n",
      "  2.00709677e-03 1.40917767e-03 5.16576984e-04 1.74923523e-04\n",
      "  1.89318613e-04 1.52768058e-04 1.70061045e-04 4.40196542e-04\n",
      "  1.33363670e-03 1.30487012e-03 4.58656251e-03 1.20130889e-02\n",
      "  3.32511999e-02 7.84526691e-02 2.04678640e-01 6.03497624e-01\n",
      "  8.77855718e-01 9.45420027e-01 9.64807630e-01 9.70799506e-01\n",
      "  9.32441592e-01 7.82138586e-01 6.15105510e-01 5.39431155e-01\n",
      "  3.37574810e-01 2.11273149e-01 4.91894782e-02 3.22555453e-02\n",
      "  1.21836262e-02 3.81997204e-03 2.36836844e-03 1.63778925e-04\n",
      "  1.62397555e-04 2.34391788e-04 3.59133352e-04 1.48201874e-03\n",
      "  3.62497359e-03 8.11702665e-03 2.95802858e-02 4.05521095e-02\n",
      "  6.16298504e-02 2.34138355e-01 6.35915995e-01 8.85957301e-01\n",
      "  9.28729594e-01 9.16082323e-01 9.54008400e-01 9.70624924e-01\n",
      "  8.41363907e-01 3.88140202e-01 4.15524215e-01 6.58467174e-01\n",
      "  6.98552966e-01 4.18358475e-01 1.69135973e-01 2.18405146e-02\n",
      "  1.29234418e-02 2.47320905e-03 1.17953413e-03 3.74958385e-04\n",
      "  1.41945115e-04 2.02327865e-04 4.29324486e-04 9.62527993e-04\n",
      "  1.06724643e-03 7.70770200e-03 2.65665948e-02 3.47164050e-02\n",
      "  5.18769994e-02 2.38355964e-01 6.07748568e-01 6.93671048e-01\n",
      "  7.34648466e-01 8.29504788e-01 6.36969805e-01 3.45034570e-01\n",
      "  1.76409602e-01 9.57480744e-02 1.16828077e-01 6.33119106e-01\n",
      "  8.73233318e-01 5.87606251e-01 2.99061567e-01 1.65590160e-02\n",
      "  6.44048816e-03 1.46043184e-03 1.60921703e-03 2.30094345e-04\n",
      "  1.88799808e-04 4.91953688e-04 6.97316311e-04 7.62759068e-04\n",
      "  7.43722776e-04 5.45880618e-03 7.03678327e-03 2.10757311e-02\n",
      "  3.34043019e-02 2.22393781e-01 5.23293018e-01 3.68886977e-01\n",
      "  2.50851065e-01 1.43625081e-01 4.22944911e-02 3.67898233e-02\n",
      "  1.53998481e-02 3.68454196e-02 5.15768766e-01 9.11811352e-01\n",
      "  9.22560096e-01 7.90770829e-01 1.49437994e-01 1.97041910e-02\n",
      "  2.58296449e-03 8.91315227e-04 1.12771045e-03 1.88252990e-04\n",
      "  2.46078416e-04 3.88849905e-04 3.61634680e-04 6.94343529e-04\n",
      "  8.35420156e-04 2.30279169e-03 3.82491597e-03 3.83432116e-03\n",
      "  2.40769722e-02 8.55273679e-02 1.01630926e-01 3.17591131e-02\n",
      "  1.52233448e-02 9.19573568e-03 6.29042974e-03 2.51274314e-02\n",
      "  5.96146472e-02 1.91058829e-01 8.79516840e-01 9.69231844e-01\n",
      "  9.33746099e-01 6.60746872e-01 7.07986802e-02 5.00078546e-03\n",
      "  7.09451619e-04 8.87688657e-04 5.47170930e-04 1.87053651e-04\n",
      "  2.03752905e-04 3.07770068e-04 8.86017166e-04 4.37462440e-04\n",
      "  1.22440234e-03 1.79124682e-03 2.18533934e-03 5.11831185e-03\n",
      "  2.17107739e-02 3.08624581e-02 1.88658666e-02 9.77031235e-03\n",
      "  1.28049841e-02 4.29047123e-02 5.27334549e-02 8.93098786e-02\n",
      "  1.90007001e-01 8.26751113e-01 9.50553775e-01 9.73179221e-01\n",
      "  7.72093534e-01 1.35823056e-01 1.29024424e-02 2.87798000e-03\n",
      "  5.98841172e-04 1.23780128e-03 3.41129635e-04 1.65944308e-04\n",
      "  1.89608385e-04 2.20849237e-04 8.52574420e-04 3.00805288e-04\n",
      "  2.53622391e-04 9.51190712e-04 1.46588101e-03 9.09063779e-03\n",
      "  2.74682697e-02 2.69091818e-02 1.01793781e-02 2.88947951e-02\n",
      "  1.91635936e-01 2.29016200e-01 5.11847556e-01 5.54618120e-01\n",
      "  5.46554506e-01 9.12339151e-01 9.62627053e-01 7.77829289e-01\n",
      "  3.21846366e-01 1.36829261e-02 2.71843490e-03 2.80259061e-04\n",
      "  1.83863449e-04 5.75323589e-04 2.51383492e-04 1.62442302e-04\n",
      "  3.26065667e-04 2.14457701e-04 4.05793078e-04 5.85972390e-04\n",
      "  3.22266889e-04 9.52791655e-04 2.21094233e-03 1.09233838e-02\n",
      "  6.86836019e-02 5.48225306e-02 7.54700303e-02 2.97002971e-01\n",
      "  7.13822961e-01 7.95093238e-01 7.50746310e-01 6.65539443e-01\n",
      "  8.61321628e-01 9.33901191e-01 7.90455580e-01 2.46027052e-01\n",
      "  1.64508298e-02 2.80153053e-03 7.01981713e-04 2.97186489e-04\n",
      "  2.13034975e-04 4.45596699e-04 4.46574297e-04 1.86614154e-04\n",
      "  2.78927066e-04 2.41093236e-04 2.53829232e-04 7.65091798e-04\n",
      "  6.16384728e-04 4.73703461e-04 1.52344978e-03 6.39809249e-03\n",
      "  3.16433758e-02 1.10027418e-01 2.01159611e-01 6.54200494e-01\n",
      "  7.72164047e-01 8.64945471e-01 8.51614058e-01 7.93272436e-01\n",
      "  8.64455760e-01 9.01043653e-01 6.23764455e-01 1.99554160e-01\n",
      "  7.82590173e-03 4.64273035e-04 5.59537380e-04 2.58069165e-04\n",
      "  1.67994236e-04 4.09678789e-04 3.32898693e-04 2.88231648e-04\n",
      "  1.50626714e-04 3.34127544e-04 2.60932953e-04 1.03898137e-03\n",
      "  6.36441982e-04 4.44557663e-04 1.92010822e-03 4.10898682e-03\n",
      "  3.07428110e-02 4.20031808e-02 2.95208544e-01 4.81509477e-01\n",
      "  7.32220352e-01 6.48339808e-01 5.50569117e-01 6.85681403e-01\n",
      "  8.87319088e-01 9.33257341e-01 8.01617026e-01 4.58528586e-02\n",
      "  1.89687323e-03 3.69685149e-04 5.66932256e-04 3.54204822e-04\n",
      "  2.05174103e-04 2.30121994e-04 3.55519616e-04 2.17975656e-04\n",
      "  1.66929502e-04 2.21126305e-04 4.95766988e-04 1.26301975e-03\n",
      "  1.91381318e-03 1.23037701e-03 2.89046206e-03 7.19375722e-03\n",
      "  4.10696380e-02 6.08166121e-02 1.85831577e-01 2.11809099e-01\n",
      "  2.06571817e-01 2.15041146e-01 2.28805900e-01 5.87108195e-01\n",
      "  8.39984417e-01 8.91212821e-01 6.99545622e-01 6.79125711e-02\n",
      "  2.62411777e-03 7.18517811e-04 2.79073603e-04 3.49704875e-04\n",
      "  2.95640406e-04 3.41184437e-04 3.17040889e-04 2.22902090e-04\n",
      "  2.17762121e-04 2.16986751e-04 6.49566937e-04 1.86432817e-03\n",
      "  3.85746825e-03 4.03661234e-03 9.26182885e-03 2.32943352e-02\n",
      "  3.55032235e-02 5.13860770e-02 4.80794534e-02 5.89926094e-02\n",
      "  3.17320712e-02 6.35745600e-02 1.77590832e-01 5.04494727e-01\n",
      "  8.36189270e-01 8.55217218e-01 5.03235340e-01 8.56036246e-02\n",
      "  4.27241344e-03 1.13074284e-03 9.77357267e-04 8.65202048e-04\n",
      "  7.88851641e-04 3.68969340e-04 4.69939754e-04 1.95228742e-04\n",
      "  2.03665317e-04 1.43478188e-04 1.03265105e-03 7.87954684e-03\n",
      "  7.94704910e-03 7.71099608e-03 2.62266435e-02 3.84411216e-02\n",
      "  3.75894308e-02 1.80465691e-02 1.64954923e-02 1.02366572e-02\n",
      "  1.33582903e-02 2.82569733e-02 1.61317497e-01 3.02405566e-01\n",
      "  6.43244267e-01 8.19929957e-01 4.71179783e-01 7.56833702e-02\n",
      "  1.03451191e-02 2.41571642e-03 1.78738858e-03 2.05834117e-03\n",
      "  8.06186639e-04 6.62502309e-04 6.43006875e-04 1.29308130e-04\n",
      "  1.38291929e-04 3.01358406e-04 2.19670846e-03 2.88624335e-02\n",
      "  3.07212342e-02 5.14215790e-02 1.78080603e-01 1.56937733e-01\n",
      "  5.42057939e-02 1.33522023e-02 4.16125823e-03 3.49800941e-03\n",
      "  1.17813069e-02 2.78766192e-02 9.25953835e-02 1.78475216e-01\n",
      "  4.05180752e-01 5.77347696e-01 4.00093794e-01 1.38330519e-01\n",
      "  1.41154658e-02 1.79821323e-03 1.84954191e-03 2.16779718e-03\n",
      "  1.97855546e-03 7.43402401e-04 6.46722328e-04 2.37081520e-04\n",
      "  1.61331220e-04 2.40564899e-04 3.61788133e-03 8.29513371e-02\n",
      "  2.04916775e-01 2.38009140e-01 4.55040634e-01 3.94866377e-01\n",
      "  2.96414316e-01 7.04789758e-02 1.79263074e-02 8.72858521e-03\n",
      "  1.09151024e-02 2.79849954e-02 7.12919906e-02 1.60240203e-01\n",
      "  5.53499281e-01 6.60004437e-01 4.41808164e-01 9.67912599e-02\n",
      "  7.76254153e-03 4.99568181e-03 1.75075675e-03 3.13818897e-03\n",
      "  4.63312306e-03 1.34918315e-03 5.92345139e-04 2.26994016e-04\n",
      "  2.24683143e-04 2.17608525e-04 3.37530323e-03 9.42251012e-02\n",
      "  2.16530591e-01 3.77419680e-01 5.42429984e-01 6.60216630e-01\n",
      "  4.31213707e-01 1.04644522e-01 3.89023721e-02 2.78277639e-02\n",
      "  3.25872302e-02 1.20669156e-01 2.66893685e-01 3.93927127e-01\n",
      "  6.98723018e-01 7.56766856e-01 3.56573939e-01 6.75997883e-02\n",
      "  3.45778954e-03 2.08681612e-03 2.98163062e-03 2.91318656e-03\n",
      "  3.96021176e-03 1.52833981e-03 4.11769957e-04 2.04120806e-04\n",
      "  1.66400307e-04 1.97964939e-04 1.57783227e-03 4.19666693e-02\n",
      "  2.02525616e-01 4.36948657e-01 6.03827000e-01 8.16137791e-01\n",
      "  7.24249005e-01 3.02673697e-01 1.67295605e-01 1.29665047e-01\n",
      "  2.29483187e-01 4.42795396e-01 6.69763565e-01 7.53107965e-01\n",
      "  7.31397390e-01 5.60340703e-01 1.39239684e-01 3.08799781e-02\n",
      "  6.83174795e-03 3.28388647e-03 1.45325635e-03 2.25959020e-03\n",
      "  2.60078837e-03 8.73402227e-04 2.18875153e-04 1.29247346e-04\n",
      "  2.13451160e-04 2.50477926e-04 4.46364924e-04 5.26960054e-03\n",
      "  1.20801337e-01 3.05432677e-01 7.40838945e-01 8.96417499e-01\n",
      "  7.58000731e-01 7.78057337e-01 6.18598163e-01 4.36357349e-01\n",
      "  4.09484625e-01 6.03773594e-01 7.41072714e-01 4.55730766e-01\n",
      "  2.32792184e-01 2.75544405e-01 6.56487346e-02 1.12249674e-02\n",
      "  2.87091569e-03 1.72268273e-03 1.08536775e-03 1.46282441e-03\n",
      "  7.69783685e-04 3.29354836e-04 4.11560206e-04 2.09225356e-04\n",
      "  2.40658730e-04 2.60697241e-04 2.37221029e-04 1.57265097e-03\n",
      "  1.13947447e-02 5.23066297e-02 4.15982395e-01 5.92047751e-01\n",
      "  6.15011275e-01 4.78861153e-01 4.02459413e-01 2.66953945e-01\n",
      "  2.45535806e-01 3.67660135e-01 2.39644334e-01 1.80017754e-01\n",
      "  8.24017152e-02 4.38824631e-02 1.17852539e-02 4.33006091e-03\n",
      "  1.34993054e-03 3.42766143e-04 5.09419653e-04 5.15142397e-04\n",
      "  4.94098815e-04 2.71578407e-04 1.94930195e-04 2.50477693e-04\n",
      "  2.63316906e-04 1.83724493e-04 1.71010674e-04 2.15782085e-04\n",
      "  6.39162783e-04 3.74327903e-03 6.30184961e-03 2.56592240e-02\n",
      "  3.19094285e-02 1.68141034e-02 6.23612106e-03 7.87706487e-03\n",
      "  1.44069009e-02 1.60422474e-02 8.22158344e-03 2.20009387e-02\n",
      "  1.02343475e-02 6.31741760e-03 2.28691101e-03 1.37862575e-03\n",
      "  4.74474917e-04 4.92514810e-04 2.71408382e-04 2.35848929e-04\n",
      "  1.85890996e-04 2.59942462e-04 2.43716640e-04 1.53464323e-04\n",
      "  3.02874076e-04 1.73026972e-04 2.24392410e-04 3.54656077e-04\n",
      "  2.53739709e-04 4.93325118e-04 2.25074217e-03 1.23721675e-03\n",
      "  5.48633223e-04 4.73032967e-04 5.28650184e-04 3.75467411e-04\n",
      "  7.13831454e-04 5.51762991e-04 8.36828782e-04 1.57470757e-03\n",
      "  8.93625664e-04 9.71059722e-04 4.41962475e-04 6.13156240e-04\n",
      "  2.99850682e-04 1.68640210e-04 2.15697335e-04 1.86153862e-04\n",
      "  1.35660157e-04 1.71446940e-04 1.97043526e-04 1.73026972e-04\n",
      "  1.99023285e-04 2.17762121e-04 2.50477926e-04 2.74059828e-04\n",
      "  1.83443874e-04 2.63854192e-04 2.14811545e-04 4.84452263e-04\n",
      "  5.32947131e-04 7.21669407e-04 6.42377767e-04 7.44389254e-04\n",
      "  3.72308015e-04 3.89080000e-04 3.14491946e-04 2.58783461e-04\n",
      "  9.06206435e-04 3.45504435e-04 5.07287041e-04 2.29562967e-04\n",
      "  2.21256429e-04 2.16893051e-04 1.46439532e-04 2.04842174e-04\n",
      "  2.24392410e-04 2.05083154e-04 1.89318613e-04 2.58104090e-04]], shape=(1, 784), dtype=float32)\n"
     ]
    }
   ],
   "source": [
    "hh0_p = tf.nn.sigmoid(tf.matmul(sample_case, W) + hb)\n",
    "hh0_s = tf.round(hh0_p)\n",
    "\n",
    "print(\"Probability nodes in hidden layer:\" ,hh0_p)\n",
    "print(\"activated nodes in hidden layer:\" ,hh0_s)\n",
    "\n",
    "# reconstruct\n",
    "vv1_p = tf.nn.sigmoid(tf.matmul(hh0_s, tf.transpose(W)) + vb)\n",
    "\n",
    "print(vv1_p)\n",
    "#rec_prob = sess.run(vv1_p, feed_dict={ hh0_s: hh0_s_val, W: prv_w, vb: prv_vb})"
   ]
  },
  {
   "cell_type": "markdown",
   "metadata": {},
   "source": [
    "Here we plot the reconstructed image:\n"
   ]
  },
  {
   "cell_type": "code",
   "execution_count": 38,
   "metadata": {
    "tags": []
   },
   "outputs": [
    {
     "ename": "NameError",
     "evalue": "name 'tile_raster_images' is not defined",
     "output_type": "error",
     "traceback": [
      "\u001b[0;31m---------------------------------------------------------------------------\u001b[0m",
      "\u001b[0;31mNameError\u001b[0m                                 Traceback (most recent call last)",
      "\u001b[0;32m/tmp/ipykernel_76/3803996827.py\u001b[0m in \u001b[0;36m<module>\u001b[0;34m\u001b[0m\n\u001b[0;32m----> 1\u001b[0;31m \u001b[0mimg\u001b[0m \u001b[0;34m=\u001b[0m \u001b[0mImage\u001b[0m\u001b[0;34m.\u001b[0m\u001b[0mfromarray\u001b[0m\u001b[0;34m(\u001b[0m\u001b[0mtile_raster_images\u001b[0m\u001b[0;34m(\u001b[0m\u001b[0mX\u001b[0m\u001b[0;34m=\u001b[0m\u001b[0mvv1_p\u001b[0m\u001b[0;34m.\u001b[0m\u001b[0mnumpy\u001b[0m\u001b[0;34m(\u001b[0m\u001b[0;34m)\u001b[0m\u001b[0;34m,\u001b[0m \u001b[0mimg_shape\u001b[0m\u001b[0;34m=\u001b[0m\u001b[0;34m(\u001b[0m\u001b[0;36m28\u001b[0m\u001b[0;34m,\u001b[0m \u001b[0;36m28\u001b[0m\u001b[0;34m)\u001b[0m\u001b[0;34m,\u001b[0m\u001b[0mtile_shape\u001b[0m\u001b[0;34m=\u001b[0m\u001b[0;34m(\u001b[0m\u001b[0;36m1\u001b[0m\u001b[0;34m,\u001b[0m \u001b[0;36m1\u001b[0m\u001b[0;34m)\u001b[0m\u001b[0;34m,\u001b[0m \u001b[0mtile_spacing\u001b[0m\u001b[0;34m=\u001b[0m\u001b[0;34m(\u001b[0m\u001b[0;36m1\u001b[0m\u001b[0;34m,\u001b[0m \u001b[0;36m1\u001b[0m\u001b[0;34m)\u001b[0m\u001b[0;34m)\u001b[0m\u001b[0;34m)\u001b[0m\u001b[0;34m\u001b[0m\u001b[0;34m\u001b[0m\u001b[0m\n\u001b[0m\u001b[1;32m      2\u001b[0m \u001b[0mplt\u001b[0m\u001b[0;34m.\u001b[0m\u001b[0mrcParams\u001b[0m\u001b[0;34m[\u001b[0m\u001b[0;34m'figure.figsize'\u001b[0m\u001b[0;34m]\u001b[0m \u001b[0;34m=\u001b[0m \u001b[0;34m(\u001b[0m\u001b[0;36m4.0\u001b[0m\u001b[0;34m,\u001b[0m \u001b[0;36m4.0\u001b[0m\u001b[0;34m)\u001b[0m\u001b[0;34m\u001b[0m\u001b[0;34m\u001b[0m\u001b[0m\n\u001b[1;32m      3\u001b[0m \u001b[0mimgplot\u001b[0m \u001b[0;34m=\u001b[0m \u001b[0mplt\u001b[0m\u001b[0;34m.\u001b[0m\u001b[0mimshow\u001b[0m\u001b[0;34m(\u001b[0m\u001b[0mimg\u001b[0m\u001b[0;34m)\u001b[0m\u001b[0;34m\u001b[0m\u001b[0;34m\u001b[0m\u001b[0m\n\u001b[1;32m      4\u001b[0m \u001b[0mimgplot\u001b[0m\u001b[0;34m.\u001b[0m\u001b[0mset_cmap\u001b[0m\u001b[0;34m(\u001b[0m\u001b[0;34m'gray'\u001b[0m\u001b[0;34m)\u001b[0m\u001b[0;34m\u001b[0m\u001b[0;34m\u001b[0m\u001b[0m\n",
      "\u001b[0;31mNameError\u001b[0m: name 'tile_raster_images' is not defined"
     ]
    }
   ],
   "source": [
    "img = Image.fromarray(tile_raster_images(X=vv1_p.numpy(), img_shape=(28, 28),tile_shape=(1, 1), tile_spacing=(1, 1)))\n",
    "plt.rcParams['figure.figsize'] = (4.0, 4.0)\n",
    "imgplot = plt.imshow(img)\n",
    "imgplot.set_cmap('gray') "
   ]
  },
  {
   "cell_type": "markdown",
   "metadata": {},
   "source": [
    "<hr>\n",
    "\n",
    "## Want to learn more?\n",
    "\n",
    "Also, you can use __Watson Studio__ to run these notebooks faster with bigger datasets.__Watson Studio__ is IBM’s leading cloud solution for data scientists, built by data scientists. With Jupyter notebooks, RStudio, Apache Spark and popular libraries pre-packaged in the cloud, __Watson Studio__ enables data scientists to collaborate on their projects without having to install anything. Join the fast-growing community of __Watson Studio__ users today with a free account at [Watson Studio](https://cocl.us/ML0120EN_DSX).This is the end of this lesson. Thank you for reading this notebook, and good luck on your studies.\n"
   ]
  },
  {
   "cell_type": "markdown",
   "metadata": {},
   "source": [
    "### Thanks for completing this lesson!\n",
    "\n",
    "Notebook created by: <a href = \"https://ca.linkedin.com/in/saeedaghabozorgi\">Saeed Aghabozorgi</a>\n",
    "\n",
    "Updated to TF 2.X by  <a href=\"https://ca.linkedin.com/in/nilmeier?utm_medium=Exinfluencer&utm_source=Exinfluencer&utm_content=000026UJ&utm_term=10006555&utm_id=NA-SkillsNetwork-Channel-SkillsNetworkCoursesIBMDeveloperSkillsNetworkDL0120ENSkillsNetwork954-2023-01-01\"> Jerome Nilmeier</a><br />\n"
   ]
  },
  {
   "cell_type": "markdown",
   "metadata": {},
   "source": [
    "### References:\n",
    "https://en.wikipedia.org/wiki/Restricted_Boltzmann_machine  \n",
    "http://deeplearning.net/tutorial/rbm.html  \n",
    "http://www.cs.utoronto.ca/~hinton/absps/netflixICML.pdf<br>\n",
    "http://imonad.com/rbm/restricted-boltzmann-machine/  \n"
   ]
  },
  {
   "cell_type": "markdown",
   "metadata": {},
   "source": [
    "<hr>\n",
    "\n",
    "Copyright &copy; 2018 [Cognitive Class](https://cocl.us/DX0108EN_CC). This notebook and its source code are released under the terms of the [MIT License](https://bigdatauniversity.com/mit-license/?utm_medium=Exinfluencer&utm_source=Exinfluencer&utm_content=000026UJ&utm_term=10006555&utm_id=NA-SkillsNetwork-Channel-SkillsNetworkCoursesIBMDeveloperSkillsNetworkDL0120ENSkillsNetwork954-2023-01-01).\n"
   ]
  }
 ],
 "metadata": {
  "kernelspec": {
   "display_name": "Python",
   "language": "python",
   "name": "conda-env-python-py"
  },
  "language_info": {
   "codemirror_mode": {
    "name": "ipython",
    "version": 3
   },
   "file_extension": ".py",
   "mimetype": "text/x-python",
   "name": "python",
   "nbconvert_exporter": "python",
   "pygments_lexer": "ipython3",
   "version": "3.7.12"
  }
 },
 "nbformat": 4,
 "nbformat_minor": 4
}
